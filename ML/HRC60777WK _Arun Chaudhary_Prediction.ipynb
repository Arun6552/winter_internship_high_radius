{
 "cells": [
  {
   "cell_type": "markdown",
   "id": "wcq6dWzy1ZR0",
   "metadata": {
    "id": "wcq6dWzy1ZR0"
   },
   "source": [
    "# Payment Date Prediction "
   ]
  },
  {
   "cell_type": "markdown",
   "id": "2778654e",
   "metadata": {
    "id": "2778654e"
   },
   "source": [
    "\n",
    "### Importing related Libraries "
   ]
  },
  {
   "cell_type": "code",
   "execution_count": 155,
   "id": "304c9e38",
   "metadata": {
    "id": "304c9e38"
   },
   "outputs": [],
   "source": [
    "import numpy as np\n",
    "import pandas as pd\n",
    "from datetime import datetime\n",
    "from datetime import timedelta\n",
    "from datetime import date as date_n  \n",
    "from sklearn.model_selection import train_test_split\n",
    "from sklearn.metrics import accuracy_score\n",
    "import matplotlib.pyplot as plt\n",
    "import seaborn as sns\n",
    "import xgboost as xgb\n",
    "from fast_ml.feature_selection import get_constant_features\n",
    "\n",
    "import warnings \n",
    "warnings.filterwarnings(\"ignore\")\n",
    "\n",
    "\n",
    "%matplotlib inline"
   ]
  },
  {
   "cell_type": "markdown",
   "id": "8724f5ee",
   "metadata": {
    "id": "8724f5ee"
   },
   "source": [
    "### Store the dataset into the Dataframe\n"
   ]
  },
  {
   "cell_type": "code",
   "execution_count": 156,
   "id": "415db50a",
   "metadata": {
    "id": "415db50a"
   },
   "outputs": [],
   "source": [
    "df = pd.read_csv(\"dataset.csv\", encoding= 'unicode_escape')"
   ]
  },
  {
   "cell_type": "markdown",
   "id": "42e37f05",
   "metadata": {
    "id": "42e37f05"
   },
   "source": [
    "### Check the shape of the dataframe\n"
   ]
  },
  {
   "cell_type": "code",
   "execution_count": 157,
   "id": "27cc0907",
   "metadata": {
    "id": "27cc0907"
   },
   "outputs": [
    {
     "data": {
      "text/plain": [
       "(50000, 19)"
      ]
     },
     "execution_count": 157,
     "metadata": {},
     "output_type": "execute_result"
    }
   ],
   "source": [
    "df.shape"
   ]
  },
  {
   "cell_type": "markdown",
   "id": "b68c955d",
   "metadata": {
    "id": "b68c955d"
   },
   "source": [
    "### Check the Detail information of the dataframe"
   ]
  },
  {
   "cell_type": "code",
   "execution_count": 158,
   "id": "e092ec9e",
   "metadata": {
    "id": "e092ec9e"
   },
   "outputs": [
    {
     "name": "stdout",
     "output_type": "stream",
     "text": [
      "<class 'pandas.core.frame.DataFrame'>\n",
      "RangeIndex: 50000 entries, 0 to 49999\n",
      "Data columns (total 19 columns):\n",
      " #   Column                  Non-Null Count  Dtype  \n",
      "---  ------                  --------------  -----  \n",
      " 0   business_code           50000 non-null  object \n",
      " 1   cust_number             50000 non-null  object \n",
      " 2   name_customer           50000 non-null  object \n",
      " 3   clear_date              40000 non-null  object \n",
      " 4   buisness_year           50000 non-null  int64  \n",
      " 5   doc_id                  50000 non-null  int64  \n",
      " 6   posting_date            50000 non-null  object \n",
      " 7   document_create_date    50000 non-null  int64  \n",
      " 8   document_create_date.1  50000 non-null  int64  \n",
      " 9   due_in_date             50000 non-null  int64  \n",
      " 10  invoice_currency        50000 non-null  object \n",
      " 11  document type           50000 non-null  object \n",
      " 12  posting_id              50000 non-null  int64  \n",
      " 13  area_business           0 non-null      float64\n",
      " 14  total_open_amount       50000 non-null  float64\n",
      " 15  baseline_create_date    50000 non-null  int64  \n",
      " 16  cust_payment_terms      50000 non-null  object \n",
      " 17  invoice_id              49997 non-null  float64\n",
      " 18  isOpen                  50000 non-null  int64  \n",
      "dtypes: float64(3), int64(8), object(8)\n",
      "memory usage: 7.2+ MB\n"
     ]
    }
   ],
   "source": [
    "df.info()"
   ]
  },
  {
   "cell_type": "markdown",
   "id": "112f2d0e",
   "metadata": {
    "id": "112f2d0e"
   },
   "source": [
    "### Display All the column names"
   ]
  },
  {
   "cell_type": "code",
   "execution_count": 159,
   "id": "1416e2fd",
   "metadata": {
    "id": "1416e2fd"
   },
   "outputs": [
    {
     "data": {
      "text/plain": [
       "Index(['business_code', 'cust_number', 'name_customer', 'clear_date',\n",
       "       'buisness_year', 'doc_id', 'posting_date', 'document_create_date',\n",
       "       'document_create_date.1', 'due_in_date', 'invoice_currency',\n",
       "       'document type', 'posting_id', 'area_business', 'total_open_amount',\n",
       "       'baseline_create_date', 'cust_payment_terms', 'invoice_id', 'isOpen'],\n",
       "      dtype='object')"
      ]
     },
     "execution_count": 159,
     "metadata": {},
     "output_type": "execute_result"
    }
   ],
   "source": [
    "df.columns"
   ]
  },
  {
   "cell_type": "markdown",
   "id": "d465ed7a",
   "metadata": {
    "id": "d465ed7a"
   },
   "source": [
    "### Describe the entire dataset"
   ]
  },
  {
   "cell_type": "code",
   "execution_count": 160,
   "id": "25f65e1b",
   "metadata": {
    "id": "25f65e1b"
   },
   "outputs": [
    {
     "data": {
      "text/html": [
       "<div>\n",
       "<style scoped>\n",
       "    .dataframe tbody tr th:only-of-type {\n",
       "        vertical-align: middle;\n",
       "    }\n",
       "\n",
       "    .dataframe tbody tr th {\n",
       "        vertical-align: top;\n",
       "    }\n",
       "\n",
       "    .dataframe thead th {\n",
       "        text-align: right;\n",
       "    }\n",
       "</style>\n",
       "<table border=\"1\" class=\"dataframe\">\n",
       "  <thead>\n",
       "    <tr style=\"text-align: right;\">\n",
       "      <th></th>\n",
       "      <th>buisness_year</th>\n",
       "      <th>doc_id</th>\n",
       "      <th>document_create_date</th>\n",
       "      <th>document_create_date.1</th>\n",
       "      <th>due_in_date</th>\n",
       "      <th>posting_id</th>\n",
       "      <th>area_business</th>\n",
       "      <th>total_open_amount</th>\n",
       "      <th>baseline_create_date</th>\n",
       "      <th>invoice_id</th>\n",
       "      <th>isOpen</th>\n",
       "    </tr>\n",
       "  </thead>\n",
       "  <tbody>\n",
       "    <tr>\n",
       "      <th>count</th>\n",
       "      <td>50000.000000</td>\n",
       "      <td>5.000000e+04</td>\n",
       "      <td>5.000000e+04</td>\n",
       "      <td>5.000000e+04</td>\n",
       "      <td>5.000000e+04</td>\n",
       "      <td>50000.0</td>\n",
       "      <td>0.0</td>\n",
       "      <td>50000.000000</td>\n",
       "      <td>5.000000e+04</td>\n",
       "      <td>4.999700e+04</td>\n",
       "      <td>50000.000000</td>\n",
       "    </tr>\n",
       "    <tr>\n",
       "      <th>mean</th>\n",
       "      <td>2019.304120</td>\n",
       "      <td>2.010181e+09</td>\n",
       "      <td>2.019349e+07</td>\n",
       "      <td>2.019352e+07</td>\n",
       "      <td>2.019366e+07</td>\n",
       "      <td>1.0</td>\n",
       "      <td>NaN</td>\n",
       "      <td>32388.226841</td>\n",
       "      <td>2.019352e+07</td>\n",
       "      <td>2.009731e+09</td>\n",
       "      <td>0.200000</td>\n",
       "    </tr>\n",
       "    <tr>\n",
       "      <th>std</th>\n",
       "      <td>0.460038</td>\n",
       "      <td>2.801525e+08</td>\n",
       "      <td>4.491309e+03</td>\n",
       "      <td>4.481300e+03</td>\n",
       "      <td>4.466797e+03</td>\n",
       "      <td>0.0</td>\n",
       "      <td>NaN</td>\n",
       "      <td>39100.524819</td>\n",
       "      <td>4.480272e+03</td>\n",
       "      <td>2.740873e+08</td>\n",
       "      <td>0.400004</td>\n",
       "    </tr>\n",
       "    <tr>\n",
       "      <th>min</th>\n",
       "      <td>2019.000000</td>\n",
       "      <td>1.928502e+09</td>\n",
       "      <td>2.018123e+07</td>\n",
       "      <td>2.018123e+07</td>\n",
       "      <td>2.018123e+07</td>\n",
       "      <td>1.0</td>\n",
       "      <td>NaN</td>\n",
       "      <td>1.070000</td>\n",
       "      <td>2.018122e+07</td>\n",
       "      <td>1.928502e+09</td>\n",
       "      <td>0.000000</td>\n",
       "    </tr>\n",
       "    <tr>\n",
       "      <th>25%</th>\n",
       "      <td>2019.000000</td>\n",
       "      <td>1.929323e+09</td>\n",
       "      <td>2.019050e+07</td>\n",
       "      <td>2.019050e+07</td>\n",
       "      <td>2.019052e+07</td>\n",
       "      <td>1.0</td>\n",
       "      <td>NaN</td>\n",
       "      <td>4817.902500</td>\n",
       "      <td>2.019050e+07</td>\n",
       "      <td>1.929323e+09</td>\n",
       "      <td>0.000000</td>\n",
       "    </tr>\n",
       "    <tr>\n",
       "      <th>50%</th>\n",
       "      <td>2019.000000</td>\n",
       "      <td>1.929953e+09</td>\n",
       "      <td>2.019091e+07</td>\n",
       "      <td>2.019091e+07</td>\n",
       "      <td>2.019092e+07</td>\n",
       "      <td>1.0</td>\n",
       "      <td>NaN</td>\n",
       "      <td>17587.285000</td>\n",
       "      <td>2.019091e+07</td>\n",
       "      <td>1.929953e+09</td>\n",
       "      <td>0.000000</td>\n",
       "    </tr>\n",
       "    <tr>\n",
       "      <th>75%</th>\n",
       "      <td>2020.000000</td>\n",
       "      <td>1.930619e+09</td>\n",
       "      <td>2.020013e+07</td>\n",
       "      <td>2.020013e+07</td>\n",
       "      <td>2.020022e+07</td>\n",
       "      <td>1.0</td>\n",
       "      <td>NaN</td>\n",
       "      <td>47050.335000</td>\n",
       "      <td>2.020013e+07</td>\n",
       "      <td>1.930619e+09</td>\n",
       "      <td>0.000000</td>\n",
       "    </tr>\n",
       "    <tr>\n",
       "      <th>max</th>\n",
       "      <td>2020.000000</td>\n",
       "      <td>9.500000e+09</td>\n",
       "      <td>2.020052e+07</td>\n",
       "      <td>2.020052e+07</td>\n",
       "      <td>2.020071e+07</td>\n",
       "      <td>1.0</td>\n",
       "      <td>NaN</td>\n",
       "      <td>657992.570000</td>\n",
       "      <td>2.020052e+07</td>\n",
       "      <td>2.960636e+09</td>\n",
       "      <td>1.000000</td>\n",
       "    </tr>\n",
       "  </tbody>\n",
       "</table>\n",
       "</div>"
      ],
      "text/plain": [
       "       buisness_year        doc_id  document_create_date  \\\n",
       "count   50000.000000  5.000000e+04          5.000000e+04   \n",
       "mean     2019.304120  2.010181e+09          2.019349e+07   \n",
       "std         0.460038  2.801525e+08          4.491309e+03   \n",
       "min      2019.000000  1.928502e+09          2.018123e+07   \n",
       "25%      2019.000000  1.929323e+09          2.019050e+07   \n",
       "50%      2019.000000  1.929953e+09          2.019091e+07   \n",
       "75%      2020.000000  1.930619e+09          2.020013e+07   \n",
       "max      2020.000000  9.500000e+09          2.020052e+07   \n",
       "\n",
       "       document_create_date.1   due_in_date  posting_id  area_business  \\\n",
       "count            5.000000e+04  5.000000e+04     50000.0            0.0   \n",
       "mean             2.019352e+07  2.019366e+07         1.0            NaN   \n",
       "std              4.481300e+03  4.466797e+03         0.0            NaN   \n",
       "min              2.018123e+07  2.018123e+07         1.0            NaN   \n",
       "25%              2.019050e+07  2.019052e+07         1.0            NaN   \n",
       "50%              2.019091e+07  2.019092e+07         1.0            NaN   \n",
       "75%              2.020013e+07  2.020022e+07         1.0            NaN   \n",
       "max              2.020052e+07  2.020071e+07         1.0            NaN   \n",
       "\n",
       "       total_open_amount  baseline_create_date    invoice_id        isOpen  \n",
       "count       50000.000000          5.000000e+04  4.999700e+04  50000.000000  \n",
       "mean        32388.226841          2.019352e+07  2.009731e+09      0.200000  \n",
       "std         39100.524819          4.480272e+03  2.740873e+08      0.400004  \n",
       "min             1.070000          2.018122e+07  1.928502e+09      0.000000  \n",
       "25%          4817.902500          2.019050e+07  1.929323e+09      0.000000  \n",
       "50%         17587.285000          2.019091e+07  1.929953e+09      0.000000  \n",
       "75%         47050.335000          2.020013e+07  1.930619e+09      0.000000  \n",
       "max        657992.570000          2.020052e+07  2.960636e+09      1.000000  "
      ]
     },
     "execution_count": 160,
     "metadata": {},
     "output_type": "execute_result"
    }
   ],
   "source": [
    "df.describe()"
   ]
  },
  {
   "cell_type": "markdown",
   "id": "0f2c8d02",
   "metadata": {
    "id": "0f2c8d02"
   },
   "source": [
    "# Data Cleaning\n",
    "\n",
    "- Show top 5 records from the dataset"
   ]
  },
  {
   "cell_type": "code",
   "execution_count": 161,
   "id": "8f876212",
   "metadata": {
    "id": "8f876212"
   },
   "outputs": [
    {
     "data": {
      "text/html": [
       "<div>\n",
       "<style scoped>\n",
       "    .dataframe tbody tr th:only-of-type {\n",
       "        vertical-align: middle;\n",
       "    }\n",
       "\n",
       "    .dataframe tbody tr th {\n",
       "        vertical-align: top;\n",
       "    }\n",
       "\n",
       "    .dataframe thead th {\n",
       "        text-align: right;\n",
       "    }\n",
       "</style>\n",
       "<table border=\"1\" class=\"dataframe\">\n",
       "  <thead>\n",
       "    <tr style=\"text-align: right;\">\n",
       "      <th></th>\n",
       "      <th>business_code</th>\n",
       "      <th>cust_number</th>\n",
       "      <th>name_customer</th>\n",
       "      <th>clear_date</th>\n",
       "      <th>buisness_year</th>\n",
       "      <th>doc_id</th>\n",
       "      <th>posting_date</th>\n",
       "      <th>document_create_date</th>\n",
       "      <th>document_create_date.1</th>\n",
       "      <th>due_in_date</th>\n",
       "      <th>invoice_currency</th>\n",
       "      <th>document type</th>\n",
       "      <th>posting_id</th>\n",
       "      <th>area_business</th>\n",
       "      <th>total_open_amount</th>\n",
       "      <th>baseline_create_date</th>\n",
       "      <th>cust_payment_terms</th>\n",
       "      <th>invoice_id</th>\n",
       "      <th>isOpen</th>\n",
       "    </tr>\n",
       "  </thead>\n",
       "  <tbody>\n",
       "    <tr>\n",
       "      <th>0</th>\n",
       "      <td>U001</td>\n",
       "      <td>200769623</td>\n",
       "      <td>WAL-MAR systems</td>\n",
       "      <td>05-11-2019 00:00</td>\n",
       "      <td>2019</td>\n",
       "      <td>1930053631</td>\n",
       "      <td>26-10-2019</td>\n",
       "      <td>20191025</td>\n",
       "      <td>20191026</td>\n",
       "      <td>20191110</td>\n",
       "      <td>USD</td>\n",
       "      <td>RV</td>\n",
       "      <td>1</td>\n",
       "      <td>NaN</td>\n",
       "      <td>1328.25</td>\n",
       "      <td>20191026</td>\n",
       "      <td>NAH4</td>\n",
       "      <td>1.930054e+09</td>\n",
       "      <td>0</td>\n",
       "    </tr>\n",
       "    <tr>\n",
       "      <th>1</th>\n",
       "      <td>U001</td>\n",
       "      <td>200756072</td>\n",
       "      <td>REINHA co</td>\n",
       "      <td>01-11-2019 00:00</td>\n",
       "      <td>2019</td>\n",
       "      <td>1929983369</td>\n",
       "      <td>18-10-2019</td>\n",
       "      <td>20191008</td>\n",
       "      <td>20191018</td>\n",
       "      <td>20191102</td>\n",
       "      <td>USD</td>\n",
       "      <td>RV</td>\n",
       "      <td>1</td>\n",
       "      <td>NaN</td>\n",
       "      <td>19389.51</td>\n",
       "      <td>20191018</td>\n",
       "      <td>NAA8</td>\n",
       "      <td>1.929983e+09</td>\n",
       "      <td>0</td>\n",
       "    </tr>\n",
       "    <tr>\n",
       "      <th>2</th>\n",
       "      <td>U001</td>\n",
       "      <td>200744019</td>\n",
       "      <td>TARG corp</td>\n",
       "      <td>NaN</td>\n",
       "      <td>2020</td>\n",
       "      <td>1930687944</td>\n",
       "      <td>25-03-2020</td>\n",
       "      <td>20200323</td>\n",
       "      <td>20200325</td>\n",
       "      <td>20200409</td>\n",
       "      <td>USD</td>\n",
       "      <td>RV</td>\n",
       "      <td>1</td>\n",
       "      <td>NaN</td>\n",
       "      <td>11537.62</td>\n",
       "      <td>20200325</td>\n",
       "      <td>NAA8</td>\n",
       "      <td>1.930688e+09</td>\n",
       "      <td>1</td>\n",
       "    </tr>\n",
       "    <tr>\n",
       "      <th>3</th>\n",
       "      <td>U001</td>\n",
       "      <td>200782669</td>\n",
       "      <td>SYGMA llc</td>\n",
       "      <td>18-04-2019 00:00</td>\n",
       "      <td>2019</td>\n",
       "      <td>1929050205</td>\n",
       "      <td>02-04-2019</td>\n",
       "      <td>20190330</td>\n",
       "      <td>20190402</td>\n",
       "      <td>20190417</td>\n",
       "      <td>USD</td>\n",
       "      <td>RV</td>\n",
       "      <td>1</td>\n",
       "      <td>NaN</td>\n",
       "      <td>3782.02</td>\n",
       "      <td>20190402</td>\n",
       "      <td>NAA8</td>\n",
       "      <td>1.929050e+09</td>\n",
       "      <td>0</td>\n",
       "    </tr>\n",
       "    <tr>\n",
       "      <th>4</th>\n",
       "      <td>CA02</td>\n",
       "      <td>140104409</td>\n",
       "      <td>LOB co</td>\n",
       "      <td>18-10-2019 00:00</td>\n",
       "      <td>2019</td>\n",
       "      <td>2960584485</td>\n",
       "      <td>08-10-2019</td>\n",
       "      <td>20191008</td>\n",
       "      <td>20191008</td>\n",
       "      <td>20191020</td>\n",
       "      <td>CAD</td>\n",
       "      <td>RV</td>\n",
       "      <td>1</td>\n",
       "      <td>NaN</td>\n",
       "      <td>55768.71</td>\n",
       "      <td>20191010</td>\n",
       "      <td>CA10</td>\n",
       "      <td>2.960584e+09</td>\n",
       "      <td>0</td>\n",
       "    </tr>\n",
       "  </tbody>\n",
       "</table>\n",
       "</div>"
      ],
      "text/plain": [
       "  business_code cust_number    name_customer        clear_date  buisness_year  \\\n",
       "0          U001   200769623  WAL-MAR systems  05-11-2019 00:00           2019   \n",
       "1          U001   200756072        REINHA co  01-11-2019 00:00           2019   \n",
       "2          U001   200744019        TARG corp               NaN           2020   \n",
       "3          U001   200782669        SYGMA llc  18-04-2019 00:00           2019   \n",
       "4          CA02   140104409           LOB co  18-10-2019 00:00           2019   \n",
       "\n",
       "       doc_id posting_date  document_create_date  document_create_date.1  \\\n",
       "0  1930053631   26-10-2019              20191025                20191026   \n",
       "1  1929983369   18-10-2019              20191008                20191018   \n",
       "2  1930687944   25-03-2020              20200323                20200325   \n",
       "3  1929050205   02-04-2019              20190330                20190402   \n",
       "4  2960584485   08-10-2019              20191008                20191008   \n",
       "\n",
       "   due_in_date invoice_currency document type  posting_id  area_business  \\\n",
       "0     20191110              USD            RV           1            NaN   \n",
       "1     20191102              USD            RV           1            NaN   \n",
       "2     20200409              USD            RV           1            NaN   \n",
       "3     20190417              USD            RV           1            NaN   \n",
       "4     20191020              CAD            RV           1            NaN   \n",
       "\n",
       "   total_open_amount  baseline_create_date cust_payment_terms    invoice_id  \\\n",
       "0            1328.25              20191026               NAH4  1.930054e+09   \n",
       "1           19389.51              20191018               NAA8  1.929983e+09   \n",
       "2           11537.62              20200325               NAA8  1.930688e+09   \n",
       "3            3782.02              20190402               NAA8  1.929050e+09   \n",
       "4           55768.71              20191010               CA10  2.960584e+09   \n",
       "\n",
       "   isOpen  \n",
       "0       0  \n",
       "1       0  \n",
       "2       1  \n",
       "3       0  \n",
       "4       0  "
      ]
     },
     "execution_count": 161,
     "metadata": {},
     "output_type": "execute_result"
    }
   ],
   "source": [
    "df.head(5)"
   ]
  },
  {
   "cell_type": "markdown",
   "id": "92b044e4",
   "metadata": {
    "id": "92b044e4"
   },
   "source": [
    "### Display the Null values percentage against every columns (compare to the total number of records)\n",
    "\n",
    "- Output expected : area_business - 100% null, clear_data = 20% null, invoice_id = 0.12% null"
   ]
  },
  {
   "cell_type": "code",
   "execution_count": 162,
   "id": "24c7b13d",
   "metadata": {
    "id": "24c7b13d"
   },
   "outputs": [
    {
     "data": {
      "text/plain": [
       "business_code               0.000\n",
       "cust_number                 0.000\n",
       "name_customer               0.000\n",
       "clear_date                 20.000\n",
       "buisness_year               0.000\n",
       "doc_id                      0.000\n",
       "posting_date                0.000\n",
       "document_create_date        0.000\n",
       "document_create_date.1      0.000\n",
       "due_in_date                 0.000\n",
       "invoice_currency            0.000\n",
       "document type               0.000\n",
       "posting_id                  0.000\n",
       "area_business             100.000\n",
       "total_open_amount           0.000\n",
       "baseline_create_date        0.000\n",
       "cust_payment_terms          0.000\n",
       "invoice_id                  0.006\n",
       "isOpen                      0.000\n",
       "dtype: float64"
      ]
     },
     "execution_count": 162,
     "metadata": {},
     "output_type": "execute_result"
    }
   ],
   "source": [
    "df.isnull().mean() * 100"
   ]
  },
  {
   "cell_type": "markdown",
   "id": "2c46a98b",
   "metadata": {
    "id": "2c46a98b"
   },
   "source": [
    "### Display Invoice_id and Doc_Id\n",
    "\n",
    "- Note - Many of the would have same invoice_id and doc_id\n"
   ]
  },
  {
   "cell_type": "code",
   "execution_count": 163,
   "id": "038f24bb",
   "metadata": {
    "id": "038f24bb"
   },
   "outputs": [
    {
     "data": {
      "text/html": [
       "<div>\n",
       "<style scoped>\n",
       "    .dataframe tbody tr th:only-of-type {\n",
       "        vertical-align: middle;\n",
       "    }\n",
       "\n",
       "    .dataframe tbody tr th {\n",
       "        vertical-align: top;\n",
       "    }\n",
       "\n",
       "    .dataframe thead th {\n",
       "        text-align: right;\n",
       "    }\n",
       "</style>\n",
       "<table border=\"1\" class=\"dataframe\">\n",
       "  <thead>\n",
       "    <tr style=\"text-align: right;\">\n",
       "      <th></th>\n",
       "      <th>invoice_id</th>\n",
       "      <th>doc_id</th>\n",
       "    </tr>\n",
       "  </thead>\n",
       "  <tbody>\n",
       "    <tr>\n",
       "      <th>0</th>\n",
       "      <td>1.930054e+09</td>\n",
       "      <td>1930053631</td>\n",
       "    </tr>\n",
       "    <tr>\n",
       "      <th>1</th>\n",
       "      <td>1.929983e+09</td>\n",
       "      <td>1929983369</td>\n",
       "    </tr>\n",
       "    <tr>\n",
       "      <th>2</th>\n",
       "      <td>1.930688e+09</td>\n",
       "      <td>1930687944</td>\n",
       "    </tr>\n",
       "    <tr>\n",
       "      <th>3</th>\n",
       "      <td>1.929050e+09</td>\n",
       "      <td>1929050205</td>\n",
       "    </tr>\n",
       "    <tr>\n",
       "      <th>4</th>\n",
       "      <td>2.960584e+09</td>\n",
       "      <td>2960584485</td>\n",
       "    </tr>\n",
       "    <tr>\n",
       "      <th>...</th>\n",
       "      <td>...</td>\n",
       "      <td>...</td>\n",
       "    </tr>\n",
       "    <tr>\n",
       "      <th>49995</th>\n",
       "      <td>1.930455e+09</td>\n",
       "      <td>1930455157</td>\n",
       "    </tr>\n",
       "    <tr>\n",
       "      <th>49996</th>\n",
       "      <td>1.930339e+09</td>\n",
       "      <td>1930339484</td>\n",
       "    </tr>\n",
       "    <tr>\n",
       "      <th>49997</th>\n",
       "      <td>1.929952e+09</td>\n",
       "      <td>1929952142</td>\n",
       "    </tr>\n",
       "    <tr>\n",
       "      <th>49998</th>\n",
       "      <td>1.929871e+09</td>\n",
       "      <td>1929870823</td>\n",
       "    </tr>\n",
       "    <tr>\n",
       "      <th>49999</th>\n",
       "      <td>1.929074e+09</td>\n",
       "      <td>1929073957</td>\n",
       "    </tr>\n",
       "  </tbody>\n",
       "</table>\n",
       "<p>50000 rows × 2 columns</p>\n",
       "</div>"
      ],
      "text/plain": [
       "         invoice_id      doc_id\n",
       "0      1.930054e+09  1930053631\n",
       "1      1.929983e+09  1929983369\n",
       "2      1.930688e+09  1930687944\n",
       "3      1.929050e+09  1929050205\n",
       "4      2.960584e+09  2960584485\n",
       "...             ...         ...\n",
       "49995  1.930455e+09  1930455157\n",
       "49996  1.930339e+09  1930339484\n",
       "49997  1.929952e+09  1929952142\n",
       "49998  1.929871e+09  1929870823\n",
       "49999  1.929074e+09  1929073957\n",
       "\n",
       "[50000 rows x 2 columns]"
      ]
     },
     "execution_count": 163,
     "metadata": {},
     "output_type": "execute_result"
    }
   ],
   "source": [
    "df[['invoice_id', 'doc_id']]\n"
   ]
  },
  {
   "cell_type": "markdown",
   "id": "18cfe10a",
   "metadata": {
    "id": "18cfe10a"
   },
   "source": [
    "#### Write a code to check - 'baseline_create_date',\"document_create_date\",'document_create_date.1' - these columns are almost same.\n",
    "\n",
    "- Please note, if they are same, we need to drop them later\n",
    "\n"
   ]
  },
  {
   "cell_type": "code",
   "execution_count": 164,
   "id": "cf5b40ff",
   "metadata": {
    "id": "cf5b40ff"
   },
   "outputs": [
    {
     "name": "stdout",
     "output_type": "stream",
     "text": [
      "True     0.89222\n",
      "False    0.10778\n",
      "dtype: float64\n",
      "False    0.679\n",
      "True     0.321\n",
      "dtype: float64\n",
      "False    0.57718\n",
      "True     0.42282\n",
      "dtype: float64\n"
     ]
    }
   ],
   "source": [
    "print(pd.Series(df['baseline_create_date'] == df['document_create_date.1']).value_counts(normalize = True))\n",
    "print(pd.Series(df['baseline_create_date'] == df['document_create_date']).value_counts(normalize = True))\n",
    "print(pd.Series(df['document_create_date.1'] == df['document_create_date']).value_counts(normalize = True))"
   ]
  },
  {
   "cell_type": "markdown",
   "id": "33110576",
   "metadata": {
    "id": "33110576"
   },
   "source": [
    "#### Please check, Column 'posting_id' is constant columns or not\n"
   ]
  },
  {
   "cell_type": "code",
   "execution_count": 165,
   "id": "ecce2664",
   "metadata": {
    "id": "ecce2664"
   },
   "outputs": [
    {
     "name": "stdout",
     "output_type": "stream",
     "text": [
      "Constant\n"
     ]
    }
   ],
   "source": [
    "constant_features = get_constant_features(df)\n",
    "constant_features_list = constant_features.query(\"Desc=='Constant'\")['Var'].to_list()\n",
    "if \"posting_id\" in constant_features_list:\n",
    "    print(\"Constant\")\n",
    "else:\n",
    "    print(\"Not Constant\")"
   ]
  },
  {
   "cell_type": "markdown",
   "id": "e5fb8daf",
   "metadata": {
    "id": "e5fb8daf"
   },
   "source": [
    "#### Please check 'isOpen' is a constant column and relevant column for this project or not"
   ]
  },
  {
   "cell_type": "code",
   "execution_count": 166,
   "id": "8db9956b",
   "metadata": {
    "id": "8db9956b"
   },
   "outputs": [
    {
     "name": "stdout",
     "output_type": "stream",
     "text": [
      "Not Constant\n"
     ]
    }
   ],
   "source": [
    "constant_features = get_constant_features(df)\n",
    "constant_features_list = constant_features.query(\"Desc=='Constant'\")['Var'].to_list()\n",
    "if \"isOpen\" in constant_features_list:\n",
    "    print(\"Constant\")\n",
    "else:\n",
    "    print(\"Not Constant\")"
   ]
  },
  {
   "cell_type": "markdown",
   "id": "45a11a62",
   "metadata": {
    "id": "45a11a62"
   },
   "source": [
    "### Write the code to drop all the following columns from the dataframe\n",
    "\n",
    "- 'area_business'\n",
    "- \"posting_id\"\n",
    "- \"invoice_id\"\n",
    "- \"document_create_date\"\n",
    "- \"isOpen\"\n",
    "- 'document type' \n",
    "- 'document_create_date.1"
   ]
  },
  {
   "cell_type": "code",
   "execution_count": 167,
   "id": "270d85d1",
   "metadata": {
    "id": "270d85d1"
   },
   "outputs": [],
   "source": [
    "df.drop(columns=['document type','area_business','posting_id','invoice_id','document_create_date','document_create_date.1','isOpen'], axis=1, inplace=True)"
   ]
  },
  {
   "cell_type": "markdown",
   "id": "K5LHAM2XVGnk",
   "metadata": {
    "id": "K5LHAM2XVGnk"
   },
   "source": [
    "### Please check from the dataframe whether all the columns are removed or not "
   ]
  },
  {
   "cell_type": "code",
   "execution_count": 168,
   "id": "ef3f7d2b",
   "metadata": {
    "id": "ef3f7d2b"
   },
   "outputs": [
    {
     "data": {
      "text/html": [
       "<div>\n",
       "<style scoped>\n",
       "    .dataframe tbody tr th:only-of-type {\n",
       "        vertical-align: middle;\n",
       "    }\n",
       "\n",
       "    .dataframe tbody tr th {\n",
       "        vertical-align: top;\n",
       "    }\n",
       "\n",
       "    .dataframe thead th {\n",
       "        text-align: right;\n",
       "    }\n",
       "</style>\n",
       "<table border=\"1\" class=\"dataframe\">\n",
       "  <thead>\n",
       "    <tr style=\"text-align: right;\">\n",
       "      <th></th>\n",
       "      <th>business_code</th>\n",
       "      <th>cust_number</th>\n",
       "      <th>name_customer</th>\n",
       "      <th>clear_date</th>\n",
       "      <th>buisness_year</th>\n",
       "      <th>doc_id</th>\n",
       "      <th>posting_date</th>\n",
       "      <th>due_in_date</th>\n",
       "      <th>invoice_currency</th>\n",
       "      <th>total_open_amount</th>\n",
       "      <th>baseline_create_date</th>\n",
       "      <th>cust_payment_terms</th>\n",
       "    </tr>\n",
       "  </thead>\n",
       "  <tbody>\n",
       "    <tr>\n",
       "      <th>0</th>\n",
       "      <td>U001</td>\n",
       "      <td>200769623</td>\n",
       "      <td>WAL-MAR systems</td>\n",
       "      <td>05-11-2019 00:00</td>\n",
       "      <td>2019</td>\n",
       "      <td>1930053631</td>\n",
       "      <td>26-10-2019</td>\n",
       "      <td>20191110</td>\n",
       "      <td>USD</td>\n",
       "      <td>1328.25</td>\n",
       "      <td>20191026</td>\n",
       "      <td>NAH4</td>\n",
       "    </tr>\n",
       "    <tr>\n",
       "      <th>1</th>\n",
       "      <td>U001</td>\n",
       "      <td>200756072</td>\n",
       "      <td>REINHA co</td>\n",
       "      <td>01-11-2019 00:00</td>\n",
       "      <td>2019</td>\n",
       "      <td>1929983369</td>\n",
       "      <td>18-10-2019</td>\n",
       "      <td>20191102</td>\n",
       "      <td>USD</td>\n",
       "      <td>19389.51</td>\n",
       "      <td>20191018</td>\n",
       "      <td>NAA8</td>\n",
       "    </tr>\n",
       "    <tr>\n",
       "      <th>2</th>\n",
       "      <td>U001</td>\n",
       "      <td>200744019</td>\n",
       "      <td>TARG corp</td>\n",
       "      <td>NaN</td>\n",
       "      <td>2020</td>\n",
       "      <td>1930687944</td>\n",
       "      <td>25-03-2020</td>\n",
       "      <td>20200409</td>\n",
       "      <td>USD</td>\n",
       "      <td>11537.62</td>\n",
       "      <td>20200325</td>\n",
       "      <td>NAA8</td>\n",
       "    </tr>\n",
       "    <tr>\n",
       "      <th>3</th>\n",
       "      <td>U001</td>\n",
       "      <td>200782669</td>\n",
       "      <td>SYGMA llc</td>\n",
       "      <td>18-04-2019 00:00</td>\n",
       "      <td>2019</td>\n",
       "      <td>1929050205</td>\n",
       "      <td>02-04-2019</td>\n",
       "      <td>20190417</td>\n",
       "      <td>USD</td>\n",
       "      <td>3782.02</td>\n",
       "      <td>20190402</td>\n",
       "      <td>NAA8</td>\n",
       "    </tr>\n",
       "    <tr>\n",
       "      <th>4</th>\n",
       "      <td>CA02</td>\n",
       "      <td>140104409</td>\n",
       "      <td>LOB co</td>\n",
       "      <td>18-10-2019 00:00</td>\n",
       "      <td>2019</td>\n",
       "      <td>2960584485</td>\n",
       "      <td>08-10-2019</td>\n",
       "      <td>20191020</td>\n",
       "      <td>CAD</td>\n",
       "      <td>55768.71</td>\n",
       "      <td>20191010</td>\n",
       "      <td>CA10</td>\n",
       "    </tr>\n",
       "    <tr>\n",
       "      <th>...</th>\n",
       "      <td>...</td>\n",
       "      <td>...</td>\n",
       "      <td>...</td>\n",
       "      <td>...</td>\n",
       "      <td>...</td>\n",
       "      <td>...</td>\n",
       "      <td>...</td>\n",
       "      <td>...</td>\n",
       "      <td>...</td>\n",
       "      <td>...</td>\n",
       "      <td>...</td>\n",
       "      <td>...</td>\n",
       "    </tr>\n",
       "    <tr>\n",
       "      <th>49995</th>\n",
       "      <td>U001</td>\n",
       "      <td>200759878</td>\n",
       "      <td>SA corporation</td>\n",
       "      <td>18-02-2020 00:00</td>\n",
       "      <td>2020</td>\n",
       "      <td>1930455157</td>\n",
       "      <td>31-01-2020</td>\n",
       "      <td>20200215</td>\n",
       "      <td>USD</td>\n",
       "      <td>99898.26</td>\n",
       "      <td>20200131</td>\n",
       "      <td>NAH4</td>\n",
       "    </tr>\n",
       "    <tr>\n",
       "      <th>49996</th>\n",
       "      <td>U001</td>\n",
       "      <td>200726979</td>\n",
       "      <td>BJ'S  trust</td>\n",
       "      <td>17-01-2020 00:00</td>\n",
       "      <td>2020</td>\n",
       "      <td>1930339484</td>\n",
       "      <td>02-01-2020</td>\n",
       "      <td>20200117</td>\n",
       "      <td>USD</td>\n",
       "      <td>234.09</td>\n",
       "      <td>20200102</td>\n",
       "      <td>NAA8</td>\n",
       "    </tr>\n",
       "    <tr>\n",
       "      <th>49997</th>\n",
       "      <td>U001</td>\n",
       "      <td>200782669</td>\n",
       "      <td>SYGMA us</td>\n",
       "      <td>18-10-2019 00:00</td>\n",
       "      <td>2019</td>\n",
       "      <td>1929952142</td>\n",
       "      <td>04-10-2019</td>\n",
       "      <td>20191019</td>\n",
       "      <td>USD</td>\n",
       "      <td>28760.55</td>\n",
       "      <td>20191004</td>\n",
       "      <td>NAA8</td>\n",
       "    </tr>\n",
       "    <tr>\n",
       "      <th>49998</th>\n",
       "      <td>U001</td>\n",
       "      <td>200124634</td>\n",
       "      <td>BAKEMAR foundation</td>\n",
       "      <td>01-10-2019 00:00</td>\n",
       "      <td>2019</td>\n",
       "      <td>1929870823</td>\n",
       "      <td>18-09-2019</td>\n",
       "      <td>20190928</td>\n",
       "      <td>USD</td>\n",
       "      <td>1221.12</td>\n",
       "      <td>20190918</td>\n",
       "      <td>NA10</td>\n",
       "    </tr>\n",
       "    <tr>\n",
       "      <th>49999</th>\n",
       "      <td>U001</td>\n",
       "      <td>200230690</td>\n",
       "      <td>DECA systems</td>\n",
       "      <td>16-04-2019 00:00</td>\n",
       "      <td>2019</td>\n",
       "      <td>1929073957</td>\n",
       "      <td>03-04-2019</td>\n",
       "      <td>20190424</td>\n",
       "      <td>USD</td>\n",
       "      <td>264.96</td>\n",
       "      <td>20190401</td>\n",
       "      <td>NAM4</td>\n",
       "    </tr>\n",
       "  </tbody>\n",
       "</table>\n",
       "<p>50000 rows × 12 columns</p>\n",
       "</div>"
      ],
      "text/plain": [
       "      business_code cust_number       name_customer        clear_date  \\\n",
       "0              U001   200769623     WAL-MAR systems  05-11-2019 00:00   \n",
       "1              U001   200756072           REINHA co  01-11-2019 00:00   \n",
       "2              U001   200744019           TARG corp               NaN   \n",
       "3              U001   200782669           SYGMA llc  18-04-2019 00:00   \n",
       "4              CA02   140104409              LOB co  18-10-2019 00:00   \n",
       "...             ...         ...                 ...               ...   \n",
       "49995          U001   200759878      SA corporation  18-02-2020 00:00   \n",
       "49996          U001   200726979         BJ'S  trust  17-01-2020 00:00   \n",
       "49997          U001   200782669            SYGMA us  18-10-2019 00:00   \n",
       "49998          U001   200124634  BAKEMAR foundation  01-10-2019 00:00   \n",
       "49999          U001   200230690        DECA systems  16-04-2019 00:00   \n",
       "\n",
       "       buisness_year      doc_id posting_date  due_in_date invoice_currency  \\\n",
       "0               2019  1930053631   26-10-2019     20191110              USD   \n",
       "1               2019  1929983369   18-10-2019     20191102              USD   \n",
       "2               2020  1930687944   25-03-2020     20200409              USD   \n",
       "3               2019  1929050205   02-04-2019     20190417              USD   \n",
       "4               2019  2960584485   08-10-2019     20191020              CAD   \n",
       "...              ...         ...          ...          ...              ...   \n",
       "49995           2020  1930455157   31-01-2020     20200215              USD   \n",
       "49996           2020  1930339484   02-01-2020     20200117              USD   \n",
       "49997           2019  1929952142   04-10-2019     20191019              USD   \n",
       "49998           2019  1929870823   18-09-2019     20190928              USD   \n",
       "49999           2019  1929073957   03-04-2019     20190424              USD   \n",
       "\n",
       "       total_open_amount  baseline_create_date cust_payment_terms  \n",
       "0                1328.25              20191026               NAH4  \n",
       "1               19389.51              20191018               NAA8  \n",
       "2               11537.62              20200325               NAA8  \n",
       "3                3782.02              20190402               NAA8  \n",
       "4               55768.71              20191010               CA10  \n",
       "...                  ...                   ...                ...  \n",
       "49995           99898.26              20200131               NAH4  \n",
       "49996             234.09              20200102               NAA8  \n",
       "49997           28760.55              20191004               NAA8  \n",
       "49998            1221.12              20190918               NA10  \n",
       "49999             264.96              20190401               NAM4  \n",
       "\n",
       "[50000 rows x 12 columns]"
      ]
     },
     "execution_count": 168,
     "metadata": {},
     "output_type": "execute_result"
    }
   ],
   "source": [
    "df"
   ]
  },
  {
   "cell_type": "markdown",
   "id": "6bc052c7",
   "metadata": {
    "id": "6bc052c7"
   },
   "source": [
    "### Show all the Duplicate rows from the dataframe"
   ]
  },
  {
   "cell_type": "code",
   "execution_count": 169,
   "id": "1ae3c7e4",
   "metadata": {
    "id": "1ae3c7e4"
   },
   "outputs": [
    {
     "data": {
      "text/html": [
       "<div>\n",
       "<style scoped>\n",
       "    .dataframe tbody tr th:only-of-type {\n",
       "        vertical-align: middle;\n",
       "    }\n",
       "\n",
       "    .dataframe tbody tr th {\n",
       "        vertical-align: top;\n",
       "    }\n",
       "\n",
       "    .dataframe thead th {\n",
       "        text-align: right;\n",
       "    }\n",
       "</style>\n",
       "<table border=\"1\" class=\"dataframe\">\n",
       "  <thead>\n",
       "    <tr style=\"text-align: right;\">\n",
       "      <th></th>\n",
       "      <th>business_code</th>\n",
       "      <th>cust_number</th>\n",
       "      <th>name_customer</th>\n",
       "      <th>clear_date</th>\n",
       "      <th>buisness_year</th>\n",
       "      <th>doc_id</th>\n",
       "      <th>posting_date</th>\n",
       "      <th>due_in_date</th>\n",
       "      <th>invoice_currency</th>\n",
       "      <th>total_open_amount</th>\n",
       "      <th>baseline_create_date</th>\n",
       "      <th>cust_payment_terms</th>\n",
       "    </tr>\n",
       "  </thead>\n",
       "  <tbody>\n",
       "    <tr>\n",
       "      <th>810</th>\n",
       "      <td>U001</td>\n",
       "      <td>200763814</td>\n",
       "      <td>SYSCO F</td>\n",
       "      <td>20-02-2019 00:00</td>\n",
       "      <td>2019</td>\n",
       "      <td>1928739330</td>\n",
       "      <td>04-02-2019</td>\n",
       "      <td>20190219</td>\n",
       "      <td>USD</td>\n",
       "      <td>21033.84</td>\n",
       "      <td>20190204</td>\n",
       "      <td>NAA8</td>\n",
       "    </tr>\n",
       "    <tr>\n",
       "      <th>1069</th>\n",
       "      <td>U001</td>\n",
       "      <td>100031704</td>\n",
       "      <td>DELHAIZE</td>\n",
       "      <td>10-06-2019 00:00</td>\n",
       "      <td>2019</td>\n",
       "      <td>1929093146</td>\n",
       "      <td>07-04-2019</td>\n",
       "      <td>20190611</td>\n",
       "      <td>USD</td>\n",
       "      <td>5364.00</td>\n",
       "      <td>20190407</td>\n",
       "      <td>NAGD</td>\n",
       "    </tr>\n",
       "    <tr>\n",
       "      <th>2727</th>\n",
       "      <td>U001</td>\n",
       "      <td>200769623</td>\n",
       "      <td>WAL-MAR llc</td>\n",
       "      <td>05-03-2019 00:00</td>\n",
       "      <td>2019</td>\n",
       "      <td>1928811423</td>\n",
       "      <td>18-02-2019</td>\n",
       "      <td>20190305</td>\n",
       "      <td>USD</td>\n",
       "      <td>866.17</td>\n",
       "      <td>20190218</td>\n",
       "      <td>NAH4</td>\n",
       "    </tr>\n",
       "    <tr>\n",
       "      <th>2788</th>\n",
       "      <td>U001</td>\n",
       "      <td>CCCA02</td>\n",
       "      <td>KRAFT  us</td>\n",
       "      <td>27-11-2019 00:00</td>\n",
       "      <td>2019</td>\n",
       "      <td>1929933661</td>\n",
       "      <td>05-10-2019</td>\n",
       "      <td>20191109</td>\n",
       "      <td>USD</td>\n",
       "      <td>81963.28</td>\n",
       "      <td>20191005</td>\n",
       "      <td>NAG2</td>\n",
       "    </tr>\n",
       "    <tr>\n",
       "      <th>2901</th>\n",
       "      <td>U001</td>\n",
       "      <td>200772670</td>\n",
       "      <td>ASSOCIAT us</td>\n",
       "      <td>29-03-2019 00:00</td>\n",
       "      <td>2019</td>\n",
       "      <td>1928961536</td>\n",
       "      <td>13-03-2019</td>\n",
       "      <td>20190328</td>\n",
       "      <td>USD</td>\n",
       "      <td>75982.82</td>\n",
       "      <td>20190313</td>\n",
       "      <td>NAU5</td>\n",
       "    </tr>\n",
       "    <tr>\n",
       "      <th>...</th>\n",
       "      <td>...</td>\n",
       "      <td>...</td>\n",
       "      <td>...</td>\n",
       "      <td>...</td>\n",
       "      <td>...</td>\n",
       "      <td>...</td>\n",
       "      <td>...</td>\n",
       "      <td>...</td>\n",
       "      <td>...</td>\n",
       "      <td>...</td>\n",
       "      <td>...</td>\n",
       "      <td>...</td>\n",
       "    </tr>\n",
       "    <tr>\n",
       "      <th>49925</th>\n",
       "      <td>U001</td>\n",
       "      <td>200704858</td>\n",
       "      <td>WAKE foundation</td>\n",
       "      <td>NaN</td>\n",
       "      <td>2020</td>\n",
       "      <td>1930619627</td>\n",
       "      <td>08-03-2020</td>\n",
       "      <td>20200323</td>\n",
       "      <td>USD</td>\n",
       "      <td>20183.20</td>\n",
       "      <td>20200308</td>\n",
       "      <td>NAA8</td>\n",
       "    </tr>\n",
       "    <tr>\n",
       "      <th>49940</th>\n",
       "      <td>U001</td>\n",
       "      <td>200847305</td>\n",
       "      <td>CUSTOM llc</td>\n",
       "      <td>31-10-2019 00:00</td>\n",
       "      <td>2019</td>\n",
       "      <td>1930020754</td>\n",
       "      <td>18-10-2019</td>\n",
       "      <td>20191028</td>\n",
       "      <td>USD</td>\n",
       "      <td>66444.30</td>\n",
       "      <td>20191018</td>\n",
       "      <td>NA10</td>\n",
       "    </tr>\n",
       "    <tr>\n",
       "      <th>49941</th>\n",
       "      <td>U001</td>\n",
       "      <td>200789077</td>\n",
       "      <td>US  corp</td>\n",
       "      <td>22-07-2019 00:00</td>\n",
       "      <td>2019</td>\n",
       "      <td>1929561772</td>\n",
       "      <td>01-07-2019</td>\n",
       "      <td>20190721</td>\n",
       "      <td>USD</td>\n",
       "      <td>25529.01</td>\n",
       "      <td>20190701</td>\n",
       "      <td>NAD1</td>\n",
       "    </tr>\n",
       "    <tr>\n",
       "      <th>49947</th>\n",
       "      <td>U001</td>\n",
       "      <td>100043949</td>\n",
       "      <td>HOME R systems</td>\n",
       "      <td>30-07-2019 00:00</td>\n",
       "      <td>2019</td>\n",
       "      <td>1929588928</td>\n",
       "      <td>15-07-2019</td>\n",
       "      <td>20190730</td>\n",
       "      <td>USD</td>\n",
       "      <td>17157.25</td>\n",
       "      <td>20190715</td>\n",
       "      <td>NAA8</td>\n",
       "    </tr>\n",
       "    <tr>\n",
       "      <th>49990</th>\n",
       "      <td>U001</td>\n",
       "      <td>200780825</td>\n",
       "      <td>SYSCO FO trust</td>\n",
       "      <td>08-02-2019 00:00</td>\n",
       "      <td>2019</td>\n",
       "      <td>1928658040</td>\n",
       "      <td>22-01-2019</td>\n",
       "      <td>20190206</td>\n",
       "      <td>USD</td>\n",
       "      <td>6526.52</td>\n",
       "      <td>20190122</td>\n",
       "      <td>NAA8</td>\n",
       "    </tr>\n",
       "  </tbody>\n",
       "</table>\n",
       "<p>1205 rows × 12 columns</p>\n",
       "</div>"
      ],
      "text/plain": [
       "      business_code cust_number    name_customer        clear_date  \\\n",
       "810            U001   200763814         SYSCO F   20-02-2019 00:00   \n",
       "1069           U001   100031704        DELHAIZE   10-06-2019 00:00   \n",
       "2727           U001   200769623      WAL-MAR llc  05-03-2019 00:00   \n",
       "2788           U001      CCCA02        KRAFT  us  27-11-2019 00:00   \n",
       "2901           U001   200772670      ASSOCIAT us  29-03-2019 00:00   \n",
       "...             ...         ...              ...               ...   \n",
       "49925          U001   200704858  WAKE foundation               NaN   \n",
       "49940          U001   200847305       CUSTOM llc  31-10-2019 00:00   \n",
       "49941          U001   200789077         US  corp  22-07-2019 00:00   \n",
       "49947          U001   100043949   HOME R systems  30-07-2019 00:00   \n",
       "49990          U001   200780825   SYSCO FO trust  08-02-2019 00:00   \n",
       "\n",
       "       buisness_year      doc_id posting_date  due_in_date invoice_currency  \\\n",
       "810             2019  1928739330   04-02-2019     20190219              USD   \n",
       "1069            2019  1929093146   07-04-2019     20190611              USD   \n",
       "2727            2019  1928811423   18-02-2019     20190305              USD   \n",
       "2788            2019  1929933661   05-10-2019     20191109              USD   \n",
       "2901            2019  1928961536   13-03-2019     20190328              USD   \n",
       "...              ...         ...          ...          ...              ...   \n",
       "49925           2020  1930619627   08-03-2020     20200323              USD   \n",
       "49940           2019  1930020754   18-10-2019     20191028              USD   \n",
       "49941           2019  1929561772   01-07-2019     20190721              USD   \n",
       "49947           2019  1929588928   15-07-2019     20190730              USD   \n",
       "49990           2019  1928658040   22-01-2019     20190206              USD   \n",
       "\n",
       "       total_open_amount  baseline_create_date cust_payment_terms  \n",
       "810             21033.84              20190204               NAA8  \n",
       "1069             5364.00              20190407               NAGD  \n",
       "2727              866.17              20190218               NAH4  \n",
       "2788            81963.28              20191005               NAG2  \n",
       "2901            75982.82              20190313               NAU5  \n",
       "...                  ...                   ...                ...  \n",
       "49925           20183.20              20200308               NAA8  \n",
       "49940           66444.30              20191018               NA10  \n",
       "49941           25529.01              20190701               NAD1  \n",
       "49947           17157.25              20190715               NAA8  \n",
       "49990            6526.52              20190122               NAA8  \n",
       "\n",
       "[1205 rows x 12 columns]"
      ]
     },
     "execution_count": 169,
     "metadata": {},
     "output_type": "execute_result"
    }
   ],
   "source": [
    "df[df.duplicated()]"
   ]
  },
  {
   "cell_type": "markdown",
   "id": "464fab09",
   "metadata": {
    "id": "464fab09"
   },
   "source": [
    "### Display the Number of Duplicate Rows"
   ]
  },
  {
   "cell_type": "code",
   "execution_count": 170,
   "id": "b1ea2397",
   "metadata": {
    "id": "b1ea2397"
   },
   "outputs": [
    {
     "data": {
      "text/plain": [
       "1205"
      ]
     },
     "execution_count": 170,
     "metadata": {},
     "output_type": "execute_result"
    }
   ],
   "source": [
    "df.duplicated().sum()"
   ]
  },
  {
   "cell_type": "markdown",
   "id": "827a6718",
   "metadata": {
    "id": "827a6718"
   },
   "source": [
    "### Drop all the Duplicate Rows"
   ]
  },
  {
   "cell_type": "code",
   "execution_count": 171,
   "id": "5d10151c",
   "metadata": {
    "id": "5d10151c"
   },
   "outputs": [],
   "source": [
    "df.drop_duplicates(inplace=True)"
   ]
  },
  {
   "cell_type": "markdown",
   "id": "7e5d1f9b",
   "metadata": {
    "id": "7e5d1f9b"
   },
   "source": [
    "#### Now check for all duplicate rows now\n",
    "\n",
    "- Note - It must be 0 by now"
   ]
  },
  {
   "cell_type": "code",
   "execution_count": 172,
   "id": "9accc9fc",
   "metadata": {
    "id": "9accc9fc"
   },
   "outputs": [
    {
     "data": {
      "text/plain": [
       "0"
      ]
     },
     "execution_count": 172,
     "metadata": {},
     "output_type": "execute_result"
    }
   ],
   "source": [
    "df.duplicated().sum()"
   ]
  },
  {
   "cell_type": "markdown",
   "id": "d0704898",
   "metadata": {
    "id": "d0704898"
   },
   "source": [
    "### Check for the number of Rows and Columns in your dataset"
   ]
  },
  {
   "cell_type": "code",
   "execution_count": 173,
   "id": "582748a8",
   "metadata": {
    "id": "582748a8"
   },
   "outputs": [
    {
     "data": {
      "text/plain": [
       "(48795, 12)"
      ]
     },
     "execution_count": 173,
     "metadata": {},
     "output_type": "execute_result"
    }
   ],
   "source": [
    "df.shape"
   ]
  },
  {
   "cell_type": "markdown",
   "id": "4o9c5UodWRtl",
   "metadata": {
    "id": "4o9c5UodWRtl"
   },
   "source": [
    "### Find out the total count of null values in each columns"
   ]
  },
  {
   "cell_type": "code",
   "execution_count": 174,
   "id": "b0612cb5",
   "metadata": {
    "id": "b0612cb5"
   },
   "outputs": [
    {
     "data": {
      "text/plain": [
       "business_code              0\n",
       "cust_number                0\n",
       "name_customer              0\n",
       "clear_date              9666\n",
       "buisness_year              0\n",
       "doc_id                     0\n",
       "posting_date               0\n",
       "due_in_date                0\n",
       "invoice_currency           0\n",
       "total_open_amount          0\n",
       "baseline_create_date       0\n",
       "cust_payment_terms         0\n",
       "dtype: int64"
      ]
     },
     "execution_count": 174,
     "metadata": {},
     "output_type": "execute_result"
    }
   ],
   "source": [
    "df.isnull().sum()"
   ]
  },
  {
   "cell_type": "markdown",
   "id": "7abdb98b",
   "metadata": {
    "id": "7abdb98b"
   },
   "source": [
    "### Data type Conversion "
   ]
  },
  {
   "cell_type": "markdown",
   "id": "LPfSUSp-WpPj",
   "metadata": {
    "id": "LPfSUSp-WpPj"
   },
   "source": [
    "### Please check the data type of each column of the dataframe"
   ]
  },
  {
   "cell_type": "code",
   "execution_count": 175,
   "id": "689c8592",
   "metadata": {
    "id": "689c8592",
    "scrolled": true
   },
   "outputs": [
    {
     "data": {
      "text/plain": [
       "business_code            object\n",
       "cust_number              object\n",
       "name_customer            object\n",
       "clear_date               object\n",
       "buisness_year             int64\n",
       "doc_id                    int64\n",
       "posting_date             object\n",
       "due_in_date               int64\n",
       "invoice_currency         object\n",
       "total_open_amount       float64\n",
       "baseline_create_date      int64\n",
       "cust_payment_terms       object\n",
       "dtype: object"
      ]
     },
     "execution_count": 175,
     "metadata": {},
     "output_type": "execute_result"
    }
   ],
   "source": [
    "df.dtypes"
   ]
  },
  {
   "cell_type": "markdown",
   "id": "0nsem0_3XzOt",
   "metadata": {
    "id": "0nsem0_3XzOt"
   },
   "source": [
    "### Check the datatype format of below columns\n",
    "\n",
    "- clear_date  \n",
    "- posting_date\n",
    "- due_in_date \n",
    "- baseline_create_date"
   ]
  },
  {
   "cell_type": "code",
   "execution_count": 176,
   "id": "-yyODyW3X6pL",
   "metadata": {
    "id": "-yyODyW3X6pL"
   },
   "outputs": [
    {
     "name": "stdout",
     "output_type": "stream",
     "text": [
      "clear_date\t\tobject\n",
      "posting_date\t\tobject\n",
      "due_in_date\t\tint64\n",
      "baseline_create_date\tint64\n"
     ]
    }
   ],
   "source": [
    "print(f\"clear_date\\t\\t{df['clear_date'].dtypes}\")\n",
    "print(f\"posting_date\\t\\t{df['posting_date'].dtypes}\")\n",
    "print(f\"due_in_date\\t\\t{df['due_in_date'].dtypes}\")\n",
    "print(f\"baseline_create_date\\t{df['baseline_create_date'].dtypes}\")"
   ]
  },
  {
   "cell_type": "markdown",
   "id": "11cf9478",
   "metadata": {
    "id": "11cf9478"
   },
   "source": [
    "### converting date columns into date time formats\n",
    "\n",
    "- clear_date  \n",
    "- posting_date\n",
    "- due_in_date \n",
    "- baseline_create_date\n",
    "\n",
    "\n",
    "- **Note - You have to convert all these above columns into \"%Y%m%d\" format**"
   ]
  },
  {
   "cell_type": "code",
   "execution_count": 177,
   "id": "9a8c6c71",
   "metadata": {
    "id": "9a8c6c71"
   },
   "outputs": [],
   "source": [
    "df['clear_date']=pd.to_datetime(df['clear_date'])\n",
    "df['posting_date']=pd.to_datetime(df['posting_date'])\n",
    "df[\"due_in_date\"] = pd.to_datetime(df[\"due_in_date\"],format='%Y%m%d')\n",
    "df[\"baseline_create_date\"] = pd.to_datetime(df[\"baseline_create_date\"],format='%Y%m%d')"
   ]
  },
  {
   "cell_type": "markdown",
   "id": "7adq0wSIYSCS",
   "metadata": {
    "id": "7adq0wSIYSCS"
   },
   "source": [
    "### Please check the datatype of all the columns after conversion of the above 4 columns"
   ]
  },
  {
   "cell_type": "code",
   "execution_count": 178,
   "id": "fd028c61",
   "metadata": {
    "id": "fd028c61"
   },
   "outputs": [
    {
     "data": {
      "text/plain": [
       "business_code                   object\n",
       "cust_number                     object\n",
       "name_customer                   object\n",
       "clear_date              datetime64[ns]\n",
       "buisness_year                    int64\n",
       "doc_id                           int64\n",
       "posting_date            datetime64[ns]\n",
       "due_in_date             datetime64[ns]\n",
       "invoice_currency                object\n",
       "total_open_amount              float64\n",
       "baseline_create_date    datetime64[ns]\n",
       "cust_payment_terms              object\n",
       "dtype: object"
      ]
     },
     "execution_count": 178,
     "metadata": {},
     "output_type": "execute_result"
    }
   ],
   "source": [
    "df.dtypes"
   ]
  },
  {
   "cell_type": "markdown",
   "id": "8c9882fa",
   "metadata": {
    "id": "8c9882fa"
   },
   "source": [
    "#### the invoice_currency column contains two different categories, USD and CAD\n",
    "\n",
    "- Please do a count of each currency "
   ]
  },
  {
   "cell_type": "code",
   "execution_count": 179,
   "id": "72085397",
   "metadata": {
    "id": "72085397"
   },
   "outputs": [
    {
     "data": {
      "text/plain": [
       "USD    45041\n",
       "CAD     3754\n",
       "Name: invoice_currency, dtype: int64"
      ]
     },
     "execution_count": 179,
     "metadata": {},
     "output_type": "execute_result"
    }
   ],
   "source": [
    "df.invoice_currency.value_counts()"
   ]
  },
  {
   "cell_type": "markdown",
   "id": "6cbe26ee",
   "metadata": {
    "id": "6cbe26ee"
   },
   "source": [
    "#### display the \"total_open_amount\" column value"
   ]
  },
  {
   "cell_type": "code",
   "execution_count": 180,
   "id": "6c49f2ab",
   "metadata": {
    "id": "6c49f2ab"
   },
   "outputs": [
    {
     "data": {
      "text/plain": [
       "0         1328.25\n",
       "1        19389.51\n",
       "2        11537.62\n",
       "3         3782.02\n",
       "4        55768.71\n",
       "           ...   \n",
       "49995    99898.26\n",
       "49996      234.09\n",
       "49997    28760.55\n",
       "49998     1221.12\n",
       "49999      264.96\n",
       "Name: total_open_amount, Length: 48795, dtype: float64"
      ]
     },
     "execution_count": 180,
     "metadata": {},
     "output_type": "execute_result"
    }
   ],
   "source": [
    "df['total_open_amount']"
   ]
  },
  {
   "cell_type": "markdown",
   "id": "df899966",
   "metadata": {
    "id": "df899966"
   },
   "source": [
    "### Convert all CAD into USD currency of \"total_open_amount\" column\n",
    "\n",
    "- 1 CAD = 0.7 USD\n",
    "- Create a new column i.e \"converted_usd\" and store USD and convered CAD to USD"
   ]
  },
  {
   "cell_type": "code",
   "execution_count": 181,
   "id": "8eb2f1c5",
   "metadata": {
    "id": "8eb2f1c5"
   },
   "outputs": [],
   "source": [
    "list_converted_usd = []\n",
    "for idx, row in df.iterrows():\n",
    "    if  df.loc[idx,'invoice_currency'] == \"CAD\":\n",
    "        list_converted_usd.append(df.loc[idx,'total_open_amount']*0.7)\n",
    "    elif df.loc[idx, 'invoice_currency'] == \"USD\":\n",
    "        list_converted_usd.append(df.loc[idx, 'total_open_amount'])\n",
    "\n",
    "df['converted_usd'] = list_converted_usd\n"
   ]
  },
  {
   "cell_type": "markdown",
   "id": "f9f6ef1d",
   "metadata": {
    "id": "f9f6ef1d"
   },
   "source": [
    "### Display the new \"converted_usd\" column values"
   ]
  },
  {
   "cell_type": "code",
   "execution_count": 182,
   "id": "1fc1a178",
   "metadata": {
    "id": "1fc1a178"
   },
   "outputs": [
    {
     "data": {
      "text/plain": [
       "0         1328.250\n",
       "1        19389.510\n",
       "2        11537.620\n",
       "3         3782.020\n",
       "4        39038.097\n",
       "           ...    \n",
       "49995    99898.260\n",
       "49996      234.090\n",
       "49997    28760.550\n",
       "49998     1221.120\n",
       "49999      264.960\n",
       "Name: converted_usd, Length: 48795, dtype: float64"
      ]
     },
     "execution_count": 182,
     "metadata": {},
     "output_type": "execute_result"
    }
   ],
   "source": [
    "df['converted_usd']"
   ]
  },
  {
   "cell_type": "markdown",
   "id": "6XLXX17kayuy",
   "metadata": {
    "id": "6XLXX17kayuy"
   },
   "source": [
    "### Display year wise total number of record \n",
    "\n",
    "- Note -  use \"buisness_year\" column for this "
   ]
  },
  {
   "cell_type": "code",
   "execution_count": 183,
   "id": "00c9f6ee",
   "metadata": {
    "id": "00c9f6ee"
   },
   "outputs": [
    {
     "data": {
      "text/plain": [
       "2019    34046\n",
       "2020    14749\n",
       "Name: buisness_year, dtype: int64"
      ]
     },
     "execution_count": 183,
     "metadata": {},
     "output_type": "execute_result"
    }
   ],
   "source": [
    "df['buisness_year'].value_counts()"
   ]
  },
  {
   "cell_type": "markdown",
   "id": "05c35904",
   "metadata": {
    "id": "05c35904"
   },
   "source": [
    "### Write the code to delete the following columns \n",
    "\n",
    "- 'invoice_currency'\n",
    "- 'total_open_amount', "
   ]
  },
  {
   "cell_type": "code",
   "execution_count": 184,
   "id": "4ac28aa5",
   "metadata": {
    "id": "4ac28aa5"
   },
   "outputs": [],
   "source": [
    "df.drop(['invoice_currency', 'total_open_amount'], axis=1, inplace=True)"
   ]
  },
  {
   "cell_type": "markdown",
   "id": "bDBJ_Kvwc086",
   "metadata": {
    "id": "bDBJ_Kvwc086"
   },
   "source": [
    "### Write a code to check the number of columns in dataframe"
   ]
  },
  {
   "cell_type": "code",
   "execution_count": 185,
   "id": "ea360a8c",
   "metadata": {
    "id": "ea360a8c"
   },
   "outputs": [
    {
     "data": {
      "text/plain": [
       "(48795, 11)"
      ]
     },
     "execution_count": 185,
     "metadata": {},
     "output_type": "execute_result"
    }
   ],
   "source": [
    "df.shape"
   ]
  },
  {
   "cell_type": "markdown",
   "id": "b8f63655",
   "metadata": {
    "id": "b8f63655"
   },
   "source": [
    "# Splitting the Dataset "
   ]
  },
  {
   "cell_type": "markdown",
   "id": "a00f749d",
   "metadata": {
    "id": "a00f749d"
   },
   "source": [
    "### Look for all columns containing null value\n",
    "\n",
    "- Note - Output expected is only one column "
   ]
  },
  {
   "cell_type": "code",
   "execution_count": 186,
   "id": "148c801e",
   "metadata": {
    "id": "148c801e"
   },
   "outputs": [
    {
     "data": {
      "text/plain": [
       "['clear_date']"
      ]
     },
     "execution_count": 186,
     "metadata": {},
     "output_type": "execute_result"
    }
   ],
   "source": [
    "[col for col in df.columns if df[col].isnull().sum() > 0]"
   ]
  },
  {
   "cell_type": "markdown",
   "id": "a094a290",
   "metadata": {
    "id": "a094a290"
   },
   "source": [
    "#### Find out the number of null values from the column that you got from the above code"
   ]
  },
  {
   "cell_type": "code",
   "execution_count": 187,
   "id": "30bfb113",
   "metadata": {
    "id": "30bfb113"
   },
   "outputs": [
    {
     "data": {
      "text/plain": [
       "9666"
      ]
     },
     "execution_count": 187,
     "metadata": {},
     "output_type": "execute_result"
    }
   ],
   "source": [
    "df['clear_date'].isnull().sum()"
   ]
  },
  {
   "cell_type": "markdown",
   "id": "7f6d939b",
   "metadata": {
    "id": "7f6d939b"
   },
   "source": [
    "### On basis of the above column we are spliting data into dataset\n",
    "\n",
    "- First dataframe (refer that as maindata) only containing the rows, that have NO NULL data in that column ( This is going to be our train dataset ) \n",
    "- Second dataframe (refer that as nulldata) that contains the columns, that have Null data in that column ( This is going to be our test dataset ) "
   ]
  },
  {
   "cell_type": "code",
   "execution_count": 188,
   "id": "c8764c33",
   "metadata": {
    "id": "c8764c33"
   },
   "outputs": [],
   "source": [
    "maindata=df[df['clear_date'].notnull()]\n",
    "nulldata=df[df.isnull().any(axis=1)]\n"
   ]
  },
  {
   "cell_type": "markdown",
   "id": "3P8riRBHd_r6",
   "metadata": {
    "id": "3P8riRBHd_r6"
   },
   "source": [
    "### Check the number of Rows and Columns for both the dataframes "
   ]
  },
  {
   "cell_type": "code",
   "execution_count": 189,
   "id": "0693a464",
   "metadata": {
    "id": "0693a464"
   },
   "outputs": [
    {
     "data": {
      "text/plain": [
       "(39129, 11)"
      ]
     },
     "execution_count": 189,
     "metadata": {},
     "output_type": "execute_result"
    }
   ],
   "source": [
    "maindata.shape"
   ]
  },
  {
   "cell_type": "code",
   "execution_count": 190,
   "id": "7f86bc74",
   "metadata": {
    "id": "7f86bc74"
   },
   "outputs": [
    {
     "data": {
      "text/plain": [
       "(9666, 11)"
      ]
     },
     "execution_count": 190,
     "metadata": {},
     "output_type": "execute_result"
    }
   ],
   "source": [
    "nulldata.shape"
   ]
  },
  {
   "cell_type": "markdown",
   "id": "0747165d",
   "metadata": {
    "id": "0747165d"
   },
   "source": [
    "### Display the 5 records from maindata and nulldata dataframes"
   ]
  },
  {
   "cell_type": "code",
   "execution_count": 191,
   "id": "dec2ec36",
   "metadata": {
    "id": "dec2ec36"
   },
   "outputs": [
    {
     "data": {
      "text/html": [
       "<div>\n",
       "<style scoped>\n",
       "    .dataframe tbody tr th:only-of-type {\n",
       "        vertical-align: middle;\n",
       "    }\n",
       "\n",
       "    .dataframe tbody tr th {\n",
       "        vertical-align: top;\n",
       "    }\n",
       "\n",
       "    .dataframe thead th {\n",
       "        text-align: right;\n",
       "    }\n",
       "</style>\n",
       "<table border=\"1\" class=\"dataframe\">\n",
       "  <thead>\n",
       "    <tr style=\"text-align: right;\">\n",
       "      <th></th>\n",
       "      <th>business_code</th>\n",
       "      <th>cust_number</th>\n",
       "      <th>name_customer</th>\n",
       "      <th>clear_date</th>\n",
       "      <th>buisness_year</th>\n",
       "      <th>doc_id</th>\n",
       "      <th>posting_date</th>\n",
       "      <th>due_in_date</th>\n",
       "      <th>baseline_create_date</th>\n",
       "      <th>cust_payment_terms</th>\n",
       "      <th>converted_usd</th>\n",
       "    </tr>\n",
       "  </thead>\n",
       "  <tbody>\n",
       "    <tr>\n",
       "      <th>0</th>\n",
       "      <td>U001</td>\n",
       "      <td>200769623</td>\n",
       "      <td>WAL-MAR systems</td>\n",
       "      <td>2019-05-11</td>\n",
       "      <td>2019</td>\n",
       "      <td>1930053631</td>\n",
       "      <td>2019-10-26</td>\n",
       "      <td>2019-11-10</td>\n",
       "      <td>2019-10-26</td>\n",
       "      <td>NAH4</td>\n",
       "      <td>1328.250</td>\n",
       "    </tr>\n",
       "    <tr>\n",
       "      <th>1</th>\n",
       "      <td>U001</td>\n",
       "      <td>200756072</td>\n",
       "      <td>REINHA co</td>\n",
       "      <td>2019-01-11</td>\n",
       "      <td>2019</td>\n",
       "      <td>1929983369</td>\n",
       "      <td>2019-10-18</td>\n",
       "      <td>2019-11-02</td>\n",
       "      <td>2019-10-18</td>\n",
       "      <td>NAA8</td>\n",
       "      <td>19389.510</td>\n",
       "    </tr>\n",
       "    <tr>\n",
       "      <th>3</th>\n",
       "      <td>U001</td>\n",
       "      <td>200782669</td>\n",
       "      <td>SYGMA llc</td>\n",
       "      <td>2019-04-18</td>\n",
       "      <td>2019</td>\n",
       "      <td>1929050205</td>\n",
       "      <td>2019-02-04</td>\n",
       "      <td>2019-04-17</td>\n",
       "      <td>2019-04-02</td>\n",
       "      <td>NAA8</td>\n",
       "      <td>3782.020</td>\n",
       "    </tr>\n",
       "    <tr>\n",
       "      <th>4</th>\n",
       "      <td>CA02</td>\n",
       "      <td>140104409</td>\n",
       "      <td>LOB co</td>\n",
       "      <td>2019-10-18</td>\n",
       "      <td>2019</td>\n",
       "      <td>2960584485</td>\n",
       "      <td>2019-08-10</td>\n",
       "      <td>2019-10-20</td>\n",
       "      <td>2019-10-10</td>\n",
       "      <td>CA10</td>\n",
       "      <td>39038.097</td>\n",
       "    </tr>\n",
       "    <tr>\n",
       "      <th>6</th>\n",
       "      <td>U001</td>\n",
       "      <td>200769623</td>\n",
       "      <td>WAL-MAR corp</td>\n",
       "      <td>2019-02-04</td>\n",
       "      <td>2019</td>\n",
       "      <td>1929004804</td>\n",
       "      <td>2019-03-22</td>\n",
       "      <td>2019-04-06</td>\n",
       "      <td>2019-03-22</td>\n",
       "      <td>NAH4</td>\n",
       "      <td>34415.950</td>\n",
       "    </tr>\n",
       "  </tbody>\n",
       "</table>\n",
       "</div>"
      ],
      "text/plain": [
       "  business_code cust_number    name_customer clear_date  buisness_year  \\\n",
       "0          U001   200769623  WAL-MAR systems 2019-05-11           2019   \n",
       "1          U001   200756072        REINHA co 2019-01-11           2019   \n",
       "3          U001   200782669        SYGMA llc 2019-04-18           2019   \n",
       "4          CA02   140104409           LOB co 2019-10-18           2019   \n",
       "6          U001   200769623     WAL-MAR corp 2019-02-04           2019   \n",
       "\n",
       "       doc_id posting_date due_in_date baseline_create_date  \\\n",
       "0  1930053631   2019-10-26  2019-11-10           2019-10-26   \n",
       "1  1929983369   2019-10-18  2019-11-02           2019-10-18   \n",
       "3  1929050205   2019-02-04  2019-04-17           2019-04-02   \n",
       "4  2960584485   2019-08-10  2019-10-20           2019-10-10   \n",
       "6  1929004804   2019-03-22  2019-04-06           2019-03-22   \n",
       "\n",
       "  cust_payment_terms  converted_usd  \n",
       "0               NAH4       1328.250  \n",
       "1               NAA8      19389.510  \n",
       "3               NAA8       3782.020  \n",
       "4               CA10      39038.097  \n",
       "6               NAH4      34415.950  "
      ]
     },
     "execution_count": 191,
     "metadata": {},
     "output_type": "execute_result"
    }
   ],
   "source": [
    "maindata.head()"
   ]
  },
  {
   "cell_type": "code",
   "execution_count": 192,
   "id": "eee2d68a",
   "metadata": {
    "id": "eee2d68a"
   },
   "outputs": [
    {
     "data": {
      "text/html": [
       "<div>\n",
       "<style scoped>\n",
       "    .dataframe tbody tr th:only-of-type {\n",
       "        vertical-align: middle;\n",
       "    }\n",
       "\n",
       "    .dataframe tbody tr th {\n",
       "        vertical-align: top;\n",
       "    }\n",
       "\n",
       "    .dataframe thead th {\n",
       "        text-align: right;\n",
       "    }\n",
       "</style>\n",
       "<table border=\"1\" class=\"dataframe\">\n",
       "  <thead>\n",
       "    <tr style=\"text-align: right;\">\n",
       "      <th></th>\n",
       "      <th>business_code</th>\n",
       "      <th>cust_number</th>\n",
       "      <th>name_customer</th>\n",
       "      <th>clear_date</th>\n",
       "      <th>buisness_year</th>\n",
       "      <th>doc_id</th>\n",
       "      <th>posting_date</th>\n",
       "      <th>due_in_date</th>\n",
       "      <th>baseline_create_date</th>\n",
       "      <th>cust_payment_terms</th>\n",
       "      <th>converted_usd</th>\n",
       "    </tr>\n",
       "  </thead>\n",
       "  <tbody>\n",
       "    <tr>\n",
       "      <th>2</th>\n",
       "      <td>U001</td>\n",
       "      <td>200744019</td>\n",
       "      <td>TARG corp</td>\n",
       "      <td>NaT</td>\n",
       "      <td>2020</td>\n",
       "      <td>1930687944</td>\n",
       "      <td>2020-03-25</td>\n",
       "      <td>2020-04-09</td>\n",
       "      <td>2020-03-25</td>\n",
       "      <td>NAA8</td>\n",
       "      <td>11537.62</td>\n",
       "    </tr>\n",
       "    <tr>\n",
       "      <th>5</th>\n",
       "      <td>U001</td>\n",
       "      <td>200769623</td>\n",
       "      <td>WAL-MAR us</td>\n",
       "      <td>NaT</td>\n",
       "      <td>2020</td>\n",
       "      <td>1930832258</td>\n",
       "      <td>2020-04-28</td>\n",
       "      <td>2020-05-13</td>\n",
       "      <td>2020-04-28</td>\n",
       "      <td>NAH4</td>\n",
       "      <td>1991.84</td>\n",
       "    </tr>\n",
       "    <tr>\n",
       "      <th>14</th>\n",
       "      <td>U001</td>\n",
       "      <td>200416837</td>\n",
       "      <td>DEC associates</td>\n",
       "      <td>NaT</td>\n",
       "      <td>2020</td>\n",
       "      <td>1930857750</td>\n",
       "      <td>2020-05-05</td>\n",
       "      <td>2020-05-24</td>\n",
       "      <td>2020-05-01</td>\n",
       "      <td>NAM4</td>\n",
       "      <td>106.20</td>\n",
       "    </tr>\n",
       "    <tr>\n",
       "      <th>17</th>\n",
       "      <td>U001</td>\n",
       "      <td>200790710</td>\n",
       "      <td>F corporation</td>\n",
       "      <td>NaT</td>\n",
       "      <td>2020</td>\n",
       "      <td>1930638031</td>\n",
       "      <td>2020-03-13</td>\n",
       "      <td>2020-03-28</td>\n",
       "      <td>2020-03-13</td>\n",
       "      <td>NAA8</td>\n",
       "      <td>41062.40</td>\n",
       "    </tr>\n",
       "    <tr>\n",
       "      <th>33</th>\n",
       "      <td>U001</td>\n",
       "      <td>200769623</td>\n",
       "      <td>WAL-MAR corporation</td>\n",
       "      <td>NaT</td>\n",
       "      <td>2020</td>\n",
       "      <td>1930719464</td>\n",
       "      <td>2020-01-04</td>\n",
       "      <td>2020-04-16</td>\n",
       "      <td>2020-04-01</td>\n",
       "      <td>NAH4</td>\n",
       "      <td>35878.19</td>\n",
       "    </tr>\n",
       "  </tbody>\n",
       "</table>\n",
       "</div>"
      ],
      "text/plain": [
       "   business_code cust_number        name_customer clear_date  buisness_year  \\\n",
       "2           U001   200744019            TARG corp        NaT           2020   \n",
       "5           U001   200769623           WAL-MAR us        NaT           2020   \n",
       "14          U001   200416837       DEC associates        NaT           2020   \n",
       "17          U001   200790710        F corporation        NaT           2020   \n",
       "33          U001   200769623  WAL-MAR corporation        NaT           2020   \n",
       "\n",
       "        doc_id posting_date due_in_date baseline_create_date  \\\n",
       "2   1930687944   2020-03-25  2020-04-09           2020-03-25   \n",
       "5   1930832258   2020-04-28  2020-05-13           2020-04-28   \n",
       "14  1930857750   2020-05-05  2020-05-24           2020-05-01   \n",
       "17  1930638031   2020-03-13  2020-03-28           2020-03-13   \n",
       "33  1930719464   2020-01-04  2020-04-16           2020-04-01   \n",
       "\n",
       "   cust_payment_terms  converted_usd  \n",
       "2                NAA8       11537.62  \n",
       "5                NAH4        1991.84  \n",
       "14               NAM4         106.20  \n",
       "17               NAA8       41062.40  \n",
       "33               NAH4       35878.19  "
      ]
     },
     "execution_count": 192,
     "metadata": {},
     "output_type": "execute_result"
    }
   ],
   "source": [
    "nulldata.head()"
   ]
  },
  {
   "cell_type": "markdown",
   "id": "24aa6746",
   "metadata": {
    "id": "24aa6746"
   },
   "source": [
    "## Considering the **maindata**"
   ]
  },
  {
   "cell_type": "markdown",
   "id": "f92c4aa7",
   "metadata": {
    "id": "f92c4aa7"
   },
   "source": [
    "#### Generate a new column \"Delay\" from the existing columns\n",
    "\n",
    "- Note - You are expected to create a new column 'Delay' from two existing columns, \"clear_date\" and \"due_in_date\" \n",
    "- Formula - Delay = clear_date - due_in_date"
   ]
  },
  {
   "cell_type": "code",
   "execution_count": 193,
   "id": "8eeceb9c",
   "metadata": {
    "id": "8eeceb9c"
   },
   "outputs": [
    {
     "data": {
      "text/html": [
       "<div>\n",
       "<style scoped>\n",
       "    .dataframe tbody tr th:only-of-type {\n",
       "        vertical-align: middle;\n",
       "    }\n",
       "\n",
       "    .dataframe tbody tr th {\n",
       "        vertical-align: top;\n",
       "    }\n",
       "\n",
       "    .dataframe thead th {\n",
       "        text-align: right;\n",
       "    }\n",
       "</style>\n",
       "<table border=\"1\" class=\"dataframe\">\n",
       "  <thead>\n",
       "    <tr style=\"text-align: right;\">\n",
       "      <th></th>\n",
       "      <th>business_code</th>\n",
       "      <th>cust_number</th>\n",
       "      <th>name_customer</th>\n",
       "      <th>clear_date</th>\n",
       "      <th>buisness_year</th>\n",
       "      <th>doc_id</th>\n",
       "      <th>posting_date</th>\n",
       "      <th>due_in_date</th>\n",
       "      <th>baseline_create_date</th>\n",
       "      <th>cust_payment_terms</th>\n",
       "      <th>converted_usd</th>\n",
       "      <th>delay</th>\n",
       "    </tr>\n",
       "  </thead>\n",
       "  <tbody>\n",
       "    <tr>\n",
       "      <th>0</th>\n",
       "      <td>U001</td>\n",
       "      <td>200769623</td>\n",
       "      <td>WAL-MAR systems</td>\n",
       "      <td>2019-05-11</td>\n",
       "      <td>2019</td>\n",
       "      <td>1930053631</td>\n",
       "      <td>2019-10-26</td>\n",
       "      <td>2019-11-10</td>\n",
       "      <td>2019-10-26</td>\n",
       "      <td>NAH4</td>\n",
       "      <td>1328.250</td>\n",
       "      <td>-183 days</td>\n",
       "    </tr>\n",
       "    <tr>\n",
       "      <th>1</th>\n",
       "      <td>U001</td>\n",
       "      <td>200756072</td>\n",
       "      <td>REINHA co</td>\n",
       "      <td>2019-01-11</td>\n",
       "      <td>2019</td>\n",
       "      <td>1929983369</td>\n",
       "      <td>2019-10-18</td>\n",
       "      <td>2019-11-02</td>\n",
       "      <td>2019-10-18</td>\n",
       "      <td>NAA8</td>\n",
       "      <td>19389.510</td>\n",
       "      <td>-295 days</td>\n",
       "    </tr>\n",
       "    <tr>\n",
       "      <th>3</th>\n",
       "      <td>U001</td>\n",
       "      <td>200782669</td>\n",
       "      <td>SYGMA llc</td>\n",
       "      <td>2019-04-18</td>\n",
       "      <td>2019</td>\n",
       "      <td>1929050205</td>\n",
       "      <td>2019-02-04</td>\n",
       "      <td>2019-04-17</td>\n",
       "      <td>2019-04-02</td>\n",
       "      <td>NAA8</td>\n",
       "      <td>3782.020</td>\n",
       "      <td>1 days</td>\n",
       "    </tr>\n",
       "    <tr>\n",
       "      <th>4</th>\n",
       "      <td>CA02</td>\n",
       "      <td>140104409</td>\n",
       "      <td>LOB co</td>\n",
       "      <td>2019-10-18</td>\n",
       "      <td>2019</td>\n",
       "      <td>2960584485</td>\n",
       "      <td>2019-08-10</td>\n",
       "      <td>2019-10-20</td>\n",
       "      <td>2019-10-10</td>\n",
       "      <td>CA10</td>\n",
       "      <td>39038.097</td>\n",
       "      <td>-2 days</td>\n",
       "    </tr>\n",
       "    <tr>\n",
       "      <th>6</th>\n",
       "      <td>U001</td>\n",
       "      <td>200769623</td>\n",
       "      <td>WAL-MAR corp</td>\n",
       "      <td>2019-02-04</td>\n",
       "      <td>2019</td>\n",
       "      <td>1929004804</td>\n",
       "      <td>2019-03-22</td>\n",
       "      <td>2019-04-06</td>\n",
       "      <td>2019-03-22</td>\n",
       "      <td>NAH4</td>\n",
       "      <td>34415.950</td>\n",
       "      <td>-61 days</td>\n",
       "    </tr>\n",
       "    <tr>\n",
       "      <th>...</th>\n",
       "      <td>...</td>\n",
       "      <td>...</td>\n",
       "      <td>...</td>\n",
       "      <td>...</td>\n",
       "      <td>...</td>\n",
       "      <td>...</td>\n",
       "      <td>...</td>\n",
       "      <td>...</td>\n",
       "      <td>...</td>\n",
       "      <td>...</td>\n",
       "      <td>...</td>\n",
       "      <td>...</td>\n",
       "    </tr>\n",
       "    <tr>\n",
       "      <th>49995</th>\n",
       "      <td>U001</td>\n",
       "      <td>200759878</td>\n",
       "      <td>SA corporation</td>\n",
       "      <td>2020-02-18</td>\n",
       "      <td>2020</td>\n",
       "      <td>1930455157</td>\n",
       "      <td>2020-01-31</td>\n",
       "      <td>2020-02-15</td>\n",
       "      <td>2020-01-31</td>\n",
       "      <td>NAH4</td>\n",
       "      <td>99898.260</td>\n",
       "      <td>3 days</td>\n",
       "    </tr>\n",
       "    <tr>\n",
       "      <th>49996</th>\n",
       "      <td>U001</td>\n",
       "      <td>200726979</td>\n",
       "      <td>BJ'S  trust</td>\n",
       "      <td>2020-01-17</td>\n",
       "      <td>2020</td>\n",
       "      <td>1930339484</td>\n",
       "      <td>2020-02-01</td>\n",
       "      <td>2020-01-17</td>\n",
       "      <td>2020-01-02</td>\n",
       "      <td>NAA8</td>\n",
       "      <td>234.090</td>\n",
       "      <td>0 days</td>\n",
       "    </tr>\n",
       "    <tr>\n",
       "      <th>49997</th>\n",
       "      <td>U001</td>\n",
       "      <td>200782669</td>\n",
       "      <td>SYGMA us</td>\n",
       "      <td>2019-10-18</td>\n",
       "      <td>2019</td>\n",
       "      <td>1929952142</td>\n",
       "      <td>2019-04-10</td>\n",
       "      <td>2019-10-19</td>\n",
       "      <td>2019-10-04</td>\n",
       "      <td>NAA8</td>\n",
       "      <td>28760.550</td>\n",
       "      <td>-1 days</td>\n",
       "    </tr>\n",
       "    <tr>\n",
       "      <th>49998</th>\n",
       "      <td>U001</td>\n",
       "      <td>200124634</td>\n",
       "      <td>BAKEMAR foundation</td>\n",
       "      <td>2019-01-10</td>\n",
       "      <td>2019</td>\n",
       "      <td>1929870823</td>\n",
       "      <td>2019-09-18</td>\n",
       "      <td>2019-09-28</td>\n",
       "      <td>2019-09-18</td>\n",
       "      <td>NA10</td>\n",
       "      <td>1221.120</td>\n",
       "      <td>-261 days</td>\n",
       "    </tr>\n",
       "    <tr>\n",
       "      <th>49999</th>\n",
       "      <td>U001</td>\n",
       "      <td>200230690</td>\n",
       "      <td>DECA systems</td>\n",
       "      <td>2019-04-16</td>\n",
       "      <td>2019</td>\n",
       "      <td>1929073957</td>\n",
       "      <td>2019-03-04</td>\n",
       "      <td>2019-04-24</td>\n",
       "      <td>2019-04-01</td>\n",
       "      <td>NAM4</td>\n",
       "      <td>264.960</td>\n",
       "      <td>-8 days</td>\n",
       "    </tr>\n",
       "  </tbody>\n",
       "</table>\n",
       "<p>39129 rows × 12 columns</p>\n",
       "</div>"
      ],
      "text/plain": [
       "      business_code cust_number       name_customer clear_date  buisness_year  \\\n",
       "0              U001   200769623     WAL-MAR systems 2019-05-11           2019   \n",
       "1              U001   200756072           REINHA co 2019-01-11           2019   \n",
       "3              U001   200782669           SYGMA llc 2019-04-18           2019   \n",
       "4              CA02   140104409              LOB co 2019-10-18           2019   \n",
       "6              U001   200769623        WAL-MAR corp 2019-02-04           2019   \n",
       "...             ...         ...                 ...        ...            ...   \n",
       "49995          U001   200759878      SA corporation 2020-02-18           2020   \n",
       "49996          U001   200726979         BJ'S  trust 2020-01-17           2020   \n",
       "49997          U001   200782669            SYGMA us 2019-10-18           2019   \n",
       "49998          U001   200124634  BAKEMAR foundation 2019-01-10           2019   \n",
       "49999          U001   200230690        DECA systems 2019-04-16           2019   \n",
       "\n",
       "           doc_id posting_date due_in_date baseline_create_date  \\\n",
       "0      1930053631   2019-10-26  2019-11-10           2019-10-26   \n",
       "1      1929983369   2019-10-18  2019-11-02           2019-10-18   \n",
       "3      1929050205   2019-02-04  2019-04-17           2019-04-02   \n",
       "4      2960584485   2019-08-10  2019-10-20           2019-10-10   \n",
       "6      1929004804   2019-03-22  2019-04-06           2019-03-22   \n",
       "...           ...          ...         ...                  ...   \n",
       "49995  1930455157   2020-01-31  2020-02-15           2020-01-31   \n",
       "49996  1930339484   2020-02-01  2020-01-17           2020-01-02   \n",
       "49997  1929952142   2019-04-10  2019-10-19           2019-10-04   \n",
       "49998  1929870823   2019-09-18  2019-09-28           2019-09-18   \n",
       "49999  1929073957   2019-03-04  2019-04-24           2019-04-01   \n",
       "\n",
       "      cust_payment_terms  converted_usd     delay  \n",
       "0                   NAH4       1328.250 -183 days  \n",
       "1                   NAA8      19389.510 -295 days  \n",
       "3                   NAA8       3782.020    1 days  \n",
       "4                   CA10      39038.097   -2 days  \n",
       "6                   NAH4      34415.950  -61 days  \n",
       "...                  ...            ...       ...  \n",
       "49995               NAH4      99898.260    3 days  \n",
       "49996               NAA8        234.090    0 days  \n",
       "49997               NAA8      28760.550   -1 days  \n",
       "49998               NA10       1221.120 -261 days  \n",
       "49999               NAM4        264.960   -8 days  \n",
       "\n",
       "[39129 rows x 12 columns]"
      ]
     },
     "execution_count": 193,
     "metadata": {},
     "output_type": "execute_result"
    }
   ],
   "source": [
    "maindata['delay']=maindata['clear_date']-maindata['due_in_date']\n",
    "maindata"
   ]
  },
  {
   "cell_type": "markdown",
   "id": "f482144e",
   "metadata": {
    "id": "f482144e"
   },
   "source": [
    "### Generate a new column \"avgdelay\" from the existing columns\n",
    "\n",
    "- Note - You are expected to make a new column \"avgdelay\" by grouping \"name_customer\" column with reapect to mean of the \"Delay\" column.\n",
    "- This new column \"avg_delay\" is meant to store \"customer_name\" wise delay\n",
    "- groupby('name_customer')['Delay'].mean(numeric_only=False)\n",
    "- Display the new \"avg_delay\" column"
   ]
  },
  {
   "cell_type": "code",
   "execution_count": 194,
   "id": "d18d2f8d",
   "metadata": {
    "id": "d18d2f8d"
   },
   "outputs": [
    {
     "data": {
      "text/plain": [
       "name_customer\n",
       "10167 llc                2 days\n",
       "17135 associates        -4 days\n",
       "17135 co                60 days\n",
       "17135 corp              60 days\n",
       "17135 us               180 days\n",
       "                         ...   \n",
       "Y H systems            116 days\n",
       "YEN BROS associates     -1 days\n",
       "YEN BROS llc          -105 days\n",
       "YEN BROS us           -295 days\n",
       "ZARCO corp              -2 days\n",
       "Name: delay, Length: 3870, dtype: timedelta64[ns]"
      ]
     },
     "execution_count": 194,
     "metadata": {},
     "output_type": "execute_result"
    }
   ],
   "source": [
    "avg_delay = maindata.groupby('name_customer')['delay'].mean(numeric_only=False)\n",
    "avg_delay"
   ]
  },
  {
   "cell_type": "markdown",
   "id": "64b995e8",
   "metadata": {
    "id": "64b995e8"
   },
   "source": [
    "You need to add the \"avg_delay\" column with the maindata, mapped with \"name_customer\" column\n",
    "\n",
    " - Note - You need to use map function to map the avgdelay with respect to \"name_customer\" column"
   ]
  },
  {
   "cell_type": "code",
   "execution_count": 195,
   "id": "e1e1f3d9",
   "metadata": {
    "id": "e1e1f3d9"
   },
   "outputs": [],
   "source": [
    "maindata['avg_delay'] = maindata['name_customer'].map(avg_delay)\n"
   ]
  },
  {
   "cell_type": "markdown",
   "id": "1d332525",
   "metadata": {
    "id": "1d332525"
   },
   "source": [
    "### Observe that the \"avg_delay\" column is in days format. You need to change the format into seconds\n",
    "\n",
    "- Days_format :  17 days 00:00:00\n",
    "- Format in seconds : 1641600.0"
   ]
  },
  {
   "cell_type": "code",
   "execution_count": 196,
   "id": "d5f1041e",
   "metadata": {
    "id": "d5f1041e"
   },
   "outputs": [],
   "source": [
    "maindata['avg_delay'] = pd.to_timedelta(maindata['avg_delay']).view(np.int64)\n",
    "maindata['avg_delay'] = round(maindata['avg_delay']/1e9)"
   ]
  },
  {
   "cell_type": "markdown",
   "id": "OvgtHSsx_O-n",
   "metadata": {
    "id": "OvgtHSsx_O-n"
   },
   "source": [
    "### Display the maindata dataframe "
   ]
  },
  {
   "cell_type": "code",
   "execution_count": 197,
   "id": "97ca9c45",
   "metadata": {
    "id": "97ca9c45"
   },
   "outputs": [
    {
     "data": {
      "text/html": [
       "<div>\n",
       "<style scoped>\n",
       "    .dataframe tbody tr th:only-of-type {\n",
       "        vertical-align: middle;\n",
       "    }\n",
       "\n",
       "    .dataframe tbody tr th {\n",
       "        vertical-align: top;\n",
       "    }\n",
       "\n",
       "    .dataframe thead th {\n",
       "        text-align: right;\n",
       "    }\n",
       "</style>\n",
       "<table border=\"1\" class=\"dataframe\">\n",
       "  <thead>\n",
       "    <tr style=\"text-align: right;\">\n",
       "      <th></th>\n",
       "      <th>business_code</th>\n",
       "      <th>cust_number</th>\n",
       "      <th>name_customer</th>\n",
       "      <th>clear_date</th>\n",
       "      <th>buisness_year</th>\n",
       "      <th>doc_id</th>\n",
       "      <th>posting_date</th>\n",
       "      <th>due_in_date</th>\n",
       "      <th>baseline_create_date</th>\n",
       "      <th>cust_payment_terms</th>\n",
       "      <th>converted_usd</th>\n",
       "      <th>delay</th>\n",
       "      <th>avg_delay</th>\n",
       "    </tr>\n",
       "  </thead>\n",
       "  <tbody>\n",
       "    <tr>\n",
       "      <th>0</th>\n",
       "      <td>U001</td>\n",
       "      <td>200769623</td>\n",
       "      <td>WAL-MAR systems</td>\n",
       "      <td>2019-05-11</td>\n",
       "      <td>2019</td>\n",
       "      <td>1930053631</td>\n",
       "      <td>2019-10-26</td>\n",
       "      <td>2019-11-10</td>\n",
       "      <td>2019-10-26</td>\n",
       "      <td>NAH4</td>\n",
       "      <td>1328.250</td>\n",
       "      <td>-183 days</td>\n",
       "      <td>-139015.0</td>\n",
       "    </tr>\n",
       "    <tr>\n",
       "      <th>1</th>\n",
       "      <td>U001</td>\n",
       "      <td>200756072</td>\n",
       "      <td>REINHA co</td>\n",
       "      <td>2019-01-11</td>\n",
       "      <td>2019</td>\n",
       "      <td>1929983369</td>\n",
       "      <td>2019-10-18</td>\n",
       "      <td>2019-11-02</td>\n",
       "      <td>2019-10-18</td>\n",
       "      <td>NAA8</td>\n",
       "      <td>19389.510</td>\n",
       "      <td>-295 days</td>\n",
       "      <td>-2452431.0</td>\n",
       "    </tr>\n",
       "    <tr>\n",
       "      <th>3</th>\n",
       "      <td>U001</td>\n",
       "      <td>200782669</td>\n",
       "      <td>SYGMA llc</td>\n",
       "      <td>2019-04-18</td>\n",
       "      <td>2019</td>\n",
       "      <td>1929050205</td>\n",
       "      <td>2019-02-04</td>\n",
       "      <td>2019-04-17</td>\n",
       "      <td>2019-04-02</td>\n",
       "      <td>NAA8</td>\n",
       "      <td>3782.020</td>\n",
       "      <td>1 days</td>\n",
       "      <td>-1425600.0</td>\n",
       "    </tr>\n",
       "    <tr>\n",
       "      <th>4</th>\n",
       "      <td>CA02</td>\n",
       "      <td>140104409</td>\n",
       "      <td>LOB co</td>\n",
       "      <td>2019-10-18</td>\n",
       "      <td>2019</td>\n",
       "      <td>2960584485</td>\n",
       "      <td>2019-08-10</td>\n",
       "      <td>2019-10-20</td>\n",
       "      <td>2019-10-10</td>\n",
       "      <td>CA10</td>\n",
       "      <td>39038.097</td>\n",
       "      <td>-2 days</td>\n",
       "      <td>-368780.0</td>\n",
       "    </tr>\n",
       "    <tr>\n",
       "      <th>6</th>\n",
       "      <td>U001</td>\n",
       "      <td>200769623</td>\n",
       "      <td>WAL-MAR corp</td>\n",
       "      <td>2019-02-04</td>\n",
       "      <td>2019</td>\n",
       "      <td>1929004804</td>\n",
       "      <td>2019-03-22</td>\n",
       "      <td>2019-04-06</td>\n",
       "      <td>2019-03-22</td>\n",
       "      <td>NAH4</td>\n",
       "      <td>34415.950</td>\n",
       "      <td>-61 days</td>\n",
       "      <td>399204.0</td>\n",
       "    </tr>\n",
       "    <tr>\n",
       "      <th>...</th>\n",
       "      <td>...</td>\n",
       "      <td>...</td>\n",
       "      <td>...</td>\n",
       "      <td>...</td>\n",
       "      <td>...</td>\n",
       "      <td>...</td>\n",
       "      <td>...</td>\n",
       "      <td>...</td>\n",
       "      <td>...</td>\n",
       "      <td>...</td>\n",
       "      <td>...</td>\n",
       "      <td>...</td>\n",
       "      <td>...</td>\n",
       "    </tr>\n",
       "    <tr>\n",
       "      <th>49995</th>\n",
       "      <td>U001</td>\n",
       "      <td>200759878</td>\n",
       "      <td>SA corporation</td>\n",
       "      <td>2020-02-18</td>\n",
       "      <td>2020</td>\n",
       "      <td>1930455157</td>\n",
       "      <td>2020-01-31</td>\n",
       "      <td>2020-02-15</td>\n",
       "      <td>2020-01-31</td>\n",
       "      <td>NAH4</td>\n",
       "      <td>99898.260</td>\n",
       "      <td>3 days</td>\n",
       "      <td>718157.0</td>\n",
       "    </tr>\n",
       "    <tr>\n",
       "      <th>49996</th>\n",
       "      <td>U001</td>\n",
       "      <td>200726979</td>\n",
       "      <td>BJ'S  trust</td>\n",
       "      <td>2020-01-17</td>\n",
       "      <td>2020</td>\n",
       "      <td>1930339484</td>\n",
       "      <td>2020-02-01</td>\n",
       "      <td>2020-01-17</td>\n",
       "      <td>2020-01-02</td>\n",
       "      <td>NAA8</td>\n",
       "      <td>234.090</td>\n",
       "      <td>0 days</td>\n",
       "      <td>-493224.0</td>\n",
       "    </tr>\n",
       "    <tr>\n",
       "      <th>49997</th>\n",
       "      <td>U001</td>\n",
       "      <td>200782669</td>\n",
       "      <td>SYGMA us</td>\n",
       "      <td>2019-10-18</td>\n",
       "      <td>2019</td>\n",
       "      <td>1929952142</td>\n",
       "      <td>2019-04-10</td>\n",
       "      <td>2019-10-19</td>\n",
       "      <td>2019-10-04</td>\n",
       "      <td>NAA8</td>\n",
       "      <td>28760.550</td>\n",
       "      <td>-1 days</td>\n",
       "      <td>-976985.0</td>\n",
       "    </tr>\n",
       "    <tr>\n",
       "      <th>49998</th>\n",
       "      <td>U001</td>\n",
       "      <td>200124634</td>\n",
       "      <td>BAKEMAR foundation</td>\n",
       "      <td>2019-01-10</td>\n",
       "      <td>2019</td>\n",
       "      <td>1929870823</td>\n",
       "      <td>2019-09-18</td>\n",
       "      <td>2019-09-28</td>\n",
       "      <td>2019-09-18</td>\n",
       "      <td>NA10</td>\n",
       "      <td>1221.120</td>\n",
       "      <td>-261 days</td>\n",
       "      <td>-8294400.0</td>\n",
       "    </tr>\n",
       "    <tr>\n",
       "      <th>49999</th>\n",
       "      <td>U001</td>\n",
       "      <td>200230690</td>\n",
       "      <td>DECA systems</td>\n",
       "      <td>2019-04-16</td>\n",
       "      <td>2019</td>\n",
       "      <td>1929073957</td>\n",
       "      <td>2019-03-04</td>\n",
       "      <td>2019-04-24</td>\n",
       "      <td>2019-04-01</td>\n",
       "      <td>NAM4</td>\n",
       "      <td>264.960</td>\n",
       "      <td>-8 days</td>\n",
       "      <td>-2671668.0</td>\n",
       "    </tr>\n",
       "  </tbody>\n",
       "</table>\n",
       "<p>39129 rows × 13 columns</p>\n",
       "</div>"
      ],
      "text/plain": [
       "      business_code cust_number       name_customer clear_date  buisness_year  \\\n",
       "0              U001   200769623     WAL-MAR systems 2019-05-11           2019   \n",
       "1              U001   200756072           REINHA co 2019-01-11           2019   \n",
       "3              U001   200782669           SYGMA llc 2019-04-18           2019   \n",
       "4              CA02   140104409              LOB co 2019-10-18           2019   \n",
       "6              U001   200769623        WAL-MAR corp 2019-02-04           2019   \n",
       "...             ...         ...                 ...        ...            ...   \n",
       "49995          U001   200759878      SA corporation 2020-02-18           2020   \n",
       "49996          U001   200726979         BJ'S  trust 2020-01-17           2020   \n",
       "49997          U001   200782669            SYGMA us 2019-10-18           2019   \n",
       "49998          U001   200124634  BAKEMAR foundation 2019-01-10           2019   \n",
       "49999          U001   200230690        DECA systems 2019-04-16           2019   \n",
       "\n",
       "           doc_id posting_date due_in_date baseline_create_date  \\\n",
       "0      1930053631   2019-10-26  2019-11-10           2019-10-26   \n",
       "1      1929983369   2019-10-18  2019-11-02           2019-10-18   \n",
       "3      1929050205   2019-02-04  2019-04-17           2019-04-02   \n",
       "4      2960584485   2019-08-10  2019-10-20           2019-10-10   \n",
       "6      1929004804   2019-03-22  2019-04-06           2019-03-22   \n",
       "...           ...          ...         ...                  ...   \n",
       "49995  1930455157   2020-01-31  2020-02-15           2020-01-31   \n",
       "49996  1930339484   2020-02-01  2020-01-17           2020-01-02   \n",
       "49997  1929952142   2019-04-10  2019-10-19           2019-10-04   \n",
       "49998  1929870823   2019-09-18  2019-09-28           2019-09-18   \n",
       "49999  1929073957   2019-03-04  2019-04-24           2019-04-01   \n",
       "\n",
       "      cust_payment_terms  converted_usd     delay  avg_delay  \n",
       "0                   NAH4       1328.250 -183 days  -139015.0  \n",
       "1                   NAA8      19389.510 -295 days -2452431.0  \n",
       "3                   NAA8       3782.020    1 days -1425600.0  \n",
       "4                   CA10      39038.097   -2 days  -368780.0  \n",
       "6                   NAH4      34415.950  -61 days   399204.0  \n",
       "...                  ...            ...       ...        ...  \n",
       "49995               NAH4      99898.260    3 days   718157.0  \n",
       "49996               NAA8        234.090    0 days  -493224.0  \n",
       "49997               NAA8      28760.550   -1 days  -976985.0  \n",
       "49998               NA10       1221.120 -261 days -8294400.0  \n",
       "49999               NAM4        264.960   -8 days -2671668.0  \n",
       "\n",
       "[39129 rows x 13 columns]"
      ]
     },
     "execution_count": 197,
     "metadata": {},
     "output_type": "execute_result"
    }
   ],
   "source": [
    "maindata"
   ]
  },
  {
   "cell_type": "markdown",
   "id": "ae24c7bb",
   "metadata": {
    "id": "ae24c7bb"
   },
   "source": [
    "### Since you have created the \"avg_delay\" column from \"Delay\" and \"clear_date\" column, there is no need of these two columns anymore \n",
    "\n",
    "- You are expected to drop \"Delay\" and \"clear_date\" columns from maindata dataframe "
   ]
  },
  {
   "cell_type": "code",
   "execution_count": 198,
   "id": "78a61ab9",
   "metadata": {
    "id": "78a61ab9"
   },
   "outputs": [],
   "source": [
    "maindata.drop(['delay', 'clear_date'], axis=1, inplace=True)"
   ]
  },
  {
   "cell_type": "code",
   "execution_count": 199,
   "id": "0f5aeaff",
   "metadata": {},
   "outputs": [
    {
     "data": {
      "text/html": [
       "<div>\n",
       "<style scoped>\n",
       "    .dataframe tbody tr th:only-of-type {\n",
       "        vertical-align: middle;\n",
       "    }\n",
       "\n",
       "    .dataframe tbody tr th {\n",
       "        vertical-align: top;\n",
       "    }\n",
       "\n",
       "    .dataframe thead th {\n",
       "        text-align: right;\n",
       "    }\n",
       "</style>\n",
       "<table border=\"1\" class=\"dataframe\">\n",
       "  <thead>\n",
       "    <tr style=\"text-align: right;\">\n",
       "      <th></th>\n",
       "      <th>business_code</th>\n",
       "      <th>cust_number</th>\n",
       "      <th>name_customer</th>\n",
       "      <th>buisness_year</th>\n",
       "      <th>doc_id</th>\n",
       "      <th>posting_date</th>\n",
       "      <th>due_in_date</th>\n",
       "      <th>baseline_create_date</th>\n",
       "      <th>cust_payment_terms</th>\n",
       "      <th>converted_usd</th>\n",
       "      <th>avg_delay</th>\n",
       "    </tr>\n",
       "  </thead>\n",
       "  <tbody>\n",
       "    <tr>\n",
       "      <th>0</th>\n",
       "      <td>U001</td>\n",
       "      <td>200769623</td>\n",
       "      <td>WAL-MAR systems</td>\n",
       "      <td>2019</td>\n",
       "      <td>1930053631</td>\n",
       "      <td>2019-10-26</td>\n",
       "      <td>2019-11-10</td>\n",
       "      <td>2019-10-26</td>\n",
       "      <td>NAH4</td>\n",
       "      <td>1328.250</td>\n",
       "      <td>-139015.0</td>\n",
       "    </tr>\n",
       "    <tr>\n",
       "      <th>1</th>\n",
       "      <td>U001</td>\n",
       "      <td>200756072</td>\n",
       "      <td>REINHA co</td>\n",
       "      <td>2019</td>\n",
       "      <td>1929983369</td>\n",
       "      <td>2019-10-18</td>\n",
       "      <td>2019-11-02</td>\n",
       "      <td>2019-10-18</td>\n",
       "      <td>NAA8</td>\n",
       "      <td>19389.510</td>\n",
       "      <td>-2452431.0</td>\n",
       "    </tr>\n",
       "    <tr>\n",
       "      <th>3</th>\n",
       "      <td>U001</td>\n",
       "      <td>200782669</td>\n",
       "      <td>SYGMA llc</td>\n",
       "      <td>2019</td>\n",
       "      <td>1929050205</td>\n",
       "      <td>2019-02-04</td>\n",
       "      <td>2019-04-17</td>\n",
       "      <td>2019-04-02</td>\n",
       "      <td>NAA8</td>\n",
       "      <td>3782.020</td>\n",
       "      <td>-1425600.0</td>\n",
       "    </tr>\n",
       "    <tr>\n",
       "      <th>4</th>\n",
       "      <td>CA02</td>\n",
       "      <td>140104409</td>\n",
       "      <td>LOB co</td>\n",
       "      <td>2019</td>\n",
       "      <td>2960584485</td>\n",
       "      <td>2019-08-10</td>\n",
       "      <td>2019-10-20</td>\n",
       "      <td>2019-10-10</td>\n",
       "      <td>CA10</td>\n",
       "      <td>39038.097</td>\n",
       "      <td>-368780.0</td>\n",
       "    </tr>\n",
       "    <tr>\n",
       "      <th>6</th>\n",
       "      <td>U001</td>\n",
       "      <td>200769623</td>\n",
       "      <td>WAL-MAR corp</td>\n",
       "      <td>2019</td>\n",
       "      <td>1929004804</td>\n",
       "      <td>2019-03-22</td>\n",
       "      <td>2019-04-06</td>\n",
       "      <td>2019-03-22</td>\n",
       "      <td>NAH4</td>\n",
       "      <td>34415.950</td>\n",
       "      <td>399204.0</td>\n",
       "    </tr>\n",
       "    <tr>\n",
       "      <th>...</th>\n",
       "      <td>...</td>\n",
       "      <td>...</td>\n",
       "      <td>...</td>\n",
       "      <td>...</td>\n",
       "      <td>...</td>\n",
       "      <td>...</td>\n",
       "      <td>...</td>\n",
       "      <td>...</td>\n",
       "      <td>...</td>\n",
       "      <td>...</td>\n",
       "      <td>...</td>\n",
       "    </tr>\n",
       "    <tr>\n",
       "      <th>49995</th>\n",
       "      <td>U001</td>\n",
       "      <td>200759878</td>\n",
       "      <td>SA corporation</td>\n",
       "      <td>2020</td>\n",
       "      <td>1930455157</td>\n",
       "      <td>2020-01-31</td>\n",
       "      <td>2020-02-15</td>\n",
       "      <td>2020-01-31</td>\n",
       "      <td>NAH4</td>\n",
       "      <td>99898.260</td>\n",
       "      <td>718157.0</td>\n",
       "    </tr>\n",
       "    <tr>\n",
       "      <th>49996</th>\n",
       "      <td>U001</td>\n",
       "      <td>200726979</td>\n",
       "      <td>BJ'S  trust</td>\n",
       "      <td>2020</td>\n",
       "      <td>1930339484</td>\n",
       "      <td>2020-02-01</td>\n",
       "      <td>2020-01-17</td>\n",
       "      <td>2020-01-02</td>\n",
       "      <td>NAA8</td>\n",
       "      <td>234.090</td>\n",
       "      <td>-493224.0</td>\n",
       "    </tr>\n",
       "    <tr>\n",
       "      <th>49997</th>\n",
       "      <td>U001</td>\n",
       "      <td>200782669</td>\n",
       "      <td>SYGMA us</td>\n",
       "      <td>2019</td>\n",
       "      <td>1929952142</td>\n",
       "      <td>2019-04-10</td>\n",
       "      <td>2019-10-19</td>\n",
       "      <td>2019-10-04</td>\n",
       "      <td>NAA8</td>\n",
       "      <td>28760.550</td>\n",
       "      <td>-976985.0</td>\n",
       "    </tr>\n",
       "    <tr>\n",
       "      <th>49998</th>\n",
       "      <td>U001</td>\n",
       "      <td>200124634</td>\n",
       "      <td>BAKEMAR foundation</td>\n",
       "      <td>2019</td>\n",
       "      <td>1929870823</td>\n",
       "      <td>2019-09-18</td>\n",
       "      <td>2019-09-28</td>\n",
       "      <td>2019-09-18</td>\n",
       "      <td>NA10</td>\n",
       "      <td>1221.120</td>\n",
       "      <td>-8294400.0</td>\n",
       "    </tr>\n",
       "    <tr>\n",
       "      <th>49999</th>\n",
       "      <td>U001</td>\n",
       "      <td>200230690</td>\n",
       "      <td>DECA systems</td>\n",
       "      <td>2019</td>\n",
       "      <td>1929073957</td>\n",
       "      <td>2019-03-04</td>\n",
       "      <td>2019-04-24</td>\n",
       "      <td>2019-04-01</td>\n",
       "      <td>NAM4</td>\n",
       "      <td>264.960</td>\n",
       "      <td>-2671668.0</td>\n",
       "    </tr>\n",
       "  </tbody>\n",
       "</table>\n",
       "<p>39129 rows × 11 columns</p>\n",
       "</div>"
      ],
      "text/plain": [
       "      business_code cust_number       name_customer  buisness_year  \\\n",
       "0              U001   200769623     WAL-MAR systems           2019   \n",
       "1              U001   200756072           REINHA co           2019   \n",
       "3              U001   200782669           SYGMA llc           2019   \n",
       "4              CA02   140104409              LOB co           2019   \n",
       "6              U001   200769623        WAL-MAR corp           2019   \n",
       "...             ...         ...                 ...            ...   \n",
       "49995          U001   200759878      SA corporation           2020   \n",
       "49996          U001   200726979         BJ'S  trust           2020   \n",
       "49997          U001   200782669            SYGMA us           2019   \n",
       "49998          U001   200124634  BAKEMAR foundation           2019   \n",
       "49999          U001   200230690        DECA systems           2019   \n",
       "\n",
       "           doc_id posting_date due_in_date baseline_create_date  \\\n",
       "0      1930053631   2019-10-26  2019-11-10           2019-10-26   \n",
       "1      1929983369   2019-10-18  2019-11-02           2019-10-18   \n",
       "3      1929050205   2019-02-04  2019-04-17           2019-04-02   \n",
       "4      2960584485   2019-08-10  2019-10-20           2019-10-10   \n",
       "6      1929004804   2019-03-22  2019-04-06           2019-03-22   \n",
       "...           ...          ...         ...                  ...   \n",
       "49995  1930455157   2020-01-31  2020-02-15           2020-01-31   \n",
       "49996  1930339484   2020-02-01  2020-01-17           2020-01-02   \n",
       "49997  1929952142   2019-04-10  2019-10-19           2019-10-04   \n",
       "49998  1929870823   2019-09-18  2019-09-28           2019-09-18   \n",
       "49999  1929073957   2019-03-04  2019-04-24           2019-04-01   \n",
       "\n",
       "      cust_payment_terms  converted_usd  avg_delay  \n",
       "0                   NAH4       1328.250  -139015.0  \n",
       "1                   NAA8      19389.510 -2452431.0  \n",
       "3                   NAA8       3782.020 -1425600.0  \n",
       "4                   CA10      39038.097  -368780.0  \n",
       "6                   NAH4      34415.950   399204.0  \n",
       "...                  ...            ...        ...  \n",
       "49995               NAH4      99898.260   718157.0  \n",
       "49996               NAA8        234.090  -493224.0  \n",
       "49997               NAA8      28760.550  -976985.0  \n",
       "49998               NA10       1221.120 -8294400.0  \n",
       "49999               NAM4        264.960 -2671668.0  \n",
       "\n",
       "[39129 rows x 11 columns]"
      ]
     },
     "execution_count": 199,
     "metadata": {},
     "output_type": "execute_result"
    }
   ],
   "source": [
    "maindata"
   ]
  },
  {
   "cell_type": "markdown",
   "id": "ae724bfc",
   "metadata": {
    "id": "ae724bfc"
   },
   "source": [
    "# Splitting of Train and the Test Data"
   ]
  },
  {
   "cell_type": "markdown",
   "id": "cb6f0264",
   "metadata": {
    "id": "cb6f0264"
   },
   "source": [
    "### You need to split the \"maindata\" columns into X and y dataframe\n",
    "\n",
    "- Note - y should have the target column i.e. \"avg_delay\" and the other column should be in X\n",
    "\n",
    "- X is going to hold the source fields and y will be going to hold the target fields"
   ]
  },
  {
   "cell_type": "code",
   "execution_count": 200,
   "id": "75ab29ab",
   "metadata": {
    "id": "75ab29ab"
   },
   "outputs": [
    {
     "data": {
      "text/plain": [
       "0        -139015.0\n",
       "1       -2452431.0\n",
       "3       -1425600.0\n",
       "4        -368780.0\n",
       "6         399204.0\n",
       "           ...    \n",
       "49995     718157.0\n",
       "49996    -493224.0\n",
       "49997    -976985.0\n",
       "49998   -8294400.0\n",
       "49999   -2671668.0\n",
       "Name: avg_delay, Length: 39129, dtype: float64"
      ]
     },
     "execution_count": 200,
     "metadata": {},
     "output_type": "execute_result"
    }
   ],
   "source": [
    "y = maindata['avg_delay']\n",
    "y"
   ]
  },
  {
   "cell_type": "code",
   "execution_count": 201,
   "id": "6412c62b",
   "metadata": {
    "id": "6412c62b"
   },
   "outputs": [
    {
     "data": {
      "text/html": [
       "<div>\n",
       "<style scoped>\n",
       "    .dataframe tbody tr th:only-of-type {\n",
       "        vertical-align: middle;\n",
       "    }\n",
       "\n",
       "    .dataframe tbody tr th {\n",
       "        vertical-align: top;\n",
       "    }\n",
       "\n",
       "    .dataframe thead th {\n",
       "        text-align: right;\n",
       "    }\n",
       "</style>\n",
       "<table border=\"1\" class=\"dataframe\">\n",
       "  <thead>\n",
       "    <tr style=\"text-align: right;\">\n",
       "      <th></th>\n",
       "      <th>business_code</th>\n",
       "      <th>cust_number</th>\n",
       "      <th>name_customer</th>\n",
       "      <th>buisness_year</th>\n",
       "      <th>doc_id</th>\n",
       "      <th>posting_date</th>\n",
       "      <th>due_in_date</th>\n",
       "      <th>baseline_create_date</th>\n",
       "      <th>cust_payment_terms</th>\n",
       "      <th>converted_usd</th>\n",
       "    </tr>\n",
       "  </thead>\n",
       "  <tbody>\n",
       "    <tr>\n",
       "      <th>0</th>\n",
       "      <td>U001</td>\n",
       "      <td>200769623</td>\n",
       "      <td>WAL-MAR systems</td>\n",
       "      <td>2019</td>\n",
       "      <td>1930053631</td>\n",
       "      <td>2019-10-26</td>\n",
       "      <td>2019-11-10</td>\n",
       "      <td>2019-10-26</td>\n",
       "      <td>NAH4</td>\n",
       "      <td>1328.250</td>\n",
       "    </tr>\n",
       "    <tr>\n",
       "      <th>1</th>\n",
       "      <td>U001</td>\n",
       "      <td>200756072</td>\n",
       "      <td>REINHA co</td>\n",
       "      <td>2019</td>\n",
       "      <td>1929983369</td>\n",
       "      <td>2019-10-18</td>\n",
       "      <td>2019-11-02</td>\n",
       "      <td>2019-10-18</td>\n",
       "      <td>NAA8</td>\n",
       "      <td>19389.510</td>\n",
       "    </tr>\n",
       "    <tr>\n",
       "      <th>3</th>\n",
       "      <td>U001</td>\n",
       "      <td>200782669</td>\n",
       "      <td>SYGMA llc</td>\n",
       "      <td>2019</td>\n",
       "      <td>1929050205</td>\n",
       "      <td>2019-02-04</td>\n",
       "      <td>2019-04-17</td>\n",
       "      <td>2019-04-02</td>\n",
       "      <td>NAA8</td>\n",
       "      <td>3782.020</td>\n",
       "    </tr>\n",
       "    <tr>\n",
       "      <th>4</th>\n",
       "      <td>CA02</td>\n",
       "      <td>140104409</td>\n",
       "      <td>LOB co</td>\n",
       "      <td>2019</td>\n",
       "      <td>2960584485</td>\n",
       "      <td>2019-08-10</td>\n",
       "      <td>2019-10-20</td>\n",
       "      <td>2019-10-10</td>\n",
       "      <td>CA10</td>\n",
       "      <td>39038.097</td>\n",
       "    </tr>\n",
       "    <tr>\n",
       "      <th>6</th>\n",
       "      <td>U001</td>\n",
       "      <td>200769623</td>\n",
       "      <td>WAL-MAR corp</td>\n",
       "      <td>2019</td>\n",
       "      <td>1929004804</td>\n",
       "      <td>2019-03-22</td>\n",
       "      <td>2019-04-06</td>\n",
       "      <td>2019-03-22</td>\n",
       "      <td>NAH4</td>\n",
       "      <td>34415.950</td>\n",
       "    </tr>\n",
       "    <tr>\n",
       "      <th>...</th>\n",
       "      <td>...</td>\n",
       "      <td>...</td>\n",
       "      <td>...</td>\n",
       "      <td>...</td>\n",
       "      <td>...</td>\n",
       "      <td>...</td>\n",
       "      <td>...</td>\n",
       "      <td>...</td>\n",
       "      <td>...</td>\n",
       "      <td>...</td>\n",
       "    </tr>\n",
       "    <tr>\n",
       "      <th>49995</th>\n",
       "      <td>U001</td>\n",
       "      <td>200759878</td>\n",
       "      <td>SA corporation</td>\n",
       "      <td>2020</td>\n",
       "      <td>1930455157</td>\n",
       "      <td>2020-01-31</td>\n",
       "      <td>2020-02-15</td>\n",
       "      <td>2020-01-31</td>\n",
       "      <td>NAH4</td>\n",
       "      <td>99898.260</td>\n",
       "    </tr>\n",
       "    <tr>\n",
       "      <th>49996</th>\n",
       "      <td>U001</td>\n",
       "      <td>200726979</td>\n",
       "      <td>BJ'S  trust</td>\n",
       "      <td>2020</td>\n",
       "      <td>1930339484</td>\n",
       "      <td>2020-02-01</td>\n",
       "      <td>2020-01-17</td>\n",
       "      <td>2020-01-02</td>\n",
       "      <td>NAA8</td>\n",
       "      <td>234.090</td>\n",
       "    </tr>\n",
       "    <tr>\n",
       "      <th>49997</th>\n",
       "      <td>U001</td>\n",
       "      <td>200782669</td>\n",
       "      <td>SYGMA us</td>\n",
       "      <td>2019</td>\n",
       "      <td>1929952142</td>\n",
       "      <td>2019-04-10</td>\n",
       "      <td>2019-10-19</td>\n",
       "      <td>2019-10-04</td>\n",
       "      <td>NAA8</td>\n",
       "      <td>28760.550</td>\n",
       "    </tr>\n",
       "    <tr>\n",
       "      <th>49998</th>\n",
       "      <td>U001</td>\n",
       "      <td>200124634</td>\n",
       "      <td>BAKEMAR foundation</td>\n",
       "      <td>2019</td>\n",
       "      <td>1929870823</td>\n",
       "      <td>2019-09-18</td>\n",
       "      <td>2019-09-28</td>\n",
       "      <td>2019-09-18</td>\n",
       "      <td>NA10</td>\n",
       "      <td>1221.120</td>\n",
       "    </tr>\n",
       "    <tr>\n",
       "      <th>49999</th>\n",
       "      <td>U001</td>\n",
       "      <td>200230690</td>\n",
       "      <td>DECA systems</td>\n",
       "      <td>2019</td>\n",
       "      <td>1929073957</td>\n",
       "      <td>2019-03-04</td>\n",
       "      <td>2019-04-24</td>\n",
       "      <td>2019-04-01</td>\n",
       "      <td>NAM4</td>\n",
       "      <td>264.960</td>\n",
       "    </tr>\n",
       "  </tbody>\n",
       "</table>\n",
       "<p>39129 rows × 10 columns</p>\n",
       "</div>"
      ],
      "text/plain": [
       "      business_code cust_number       name_customer  buisness_year  \\\n",
       "0              U001   200769623     WAL-MAR systems           2019   \n",
       "1              U001   200756072           REINHA co           2019   \n",
       "3              U001   200782669           SYGMA llc           2019   \n",
       "4              CA02   140104409              LOB co           2019   \n",
       "6              U001   200769623        WAL-MAR corp           2019   \n",
       "...             ...         ...                 ...            ...   \n",
       "49995          U001   200759878      SA corporation           2020   \n",
       "49996          U001   200726979         BJ'S  trust           2020   \n",
       "49997          U001   200782669            SYGMA us           2019   \n",
       "49998          U001   200124634  BAKEMAR foundation           2019   \n",
       "49999          U001   200230690        DECA systems           2019   \n",
       "\n",
       "           doc_id posting_date due_in_date baseline_create_date  \\\n",
       "0      1930053631   2019-10-26  2019-11-10           2019-10-26   \n",
       "1      1929983369   2019-10-18  2019-11-02           2019-10-18   \n",
       "3      1929050205   2019-02-04  2019-04-17           2019-04-02   \n",
       "4      2960584485   2019-08-10  2019-10-20           2019-10-10   \n",
       "6      1929004804   2019-03-22  2019-04-06           2019-03-22   \n",
       "...           ...          ...         ...                  ...   \n",
       "49995  1930455157   2020-01-31  2020-02-15           2020-01-31   \n",
       "49996  1930339484   2020-02-01  2020-01-17           2020-01-02   \n",
       "49997  1929952142   2019-04-10  2019-10-19           2019-10-04   \n",
       "49998  1929870823   2019-09-18  2019-09-28           2019-09-18   \n",
       "49999  1929073957   2019-03-04  2019-04-24           2019-04-01   \n",
       "\n",
       "      cust_payment_terms  converted_usd  \n",
       "0                   NAH4       1328.250  \n",
       "1                   NAA8      19389.510  \n",
       "3                   NAA8       3782.020  \n",
       "4                   CA10      39038.097  \n",
       "6                   NAH4      34415.950  \n",
       "...                  ...            ...  \n",
       "49995               NAH4      99898.260  \n",
       "49996               NAA8        234.090  \n",
       "49997               NAA8      28760.550  \n",
       "49998               NA10       1221.120  \n",
       "49999               NAM4        264.960  \n",
       "\n",
       "[39129 rows x 10 columns]"
      ]
     },
     "execution_count": 201,
     "metadata": {},
     "output_type": "execute_result"
    }
   ],
   "source": [
    "X = maindata.drop(['avg_delay'], axis=1)\n",
    "X"
   ]
  },
  {
   "cell_type": "markdown",
   "id": "1c2942bf",
   "metadata": {
    "id": "1c2942bf"
   },
   "source": [
    "#### You are expected to split both the dataframes into train and test format in 60:40 ratio \n",
    "\n",
    "- Note - The expected output should be in \"X_train\", \"X_loc_test\", \"y_train\", \"y_loc_test\" format "
   ]
  },
  {
   "cell_type": "code",
   "execution_count": 202,
   "id": "d92160a5",
   "metadata": {
    "id": "d92160a5"
   },
   "outputs": [],
   "source": [
    "X_train,X_loc_test,y_train,y_loc_test=train_test_split(X,y,test_size=0.4)"
   ]
  },
  {
   "cell_type": "markdown",
   "id": "p4OME62pDufR",
   "metadata": {
    "id": "p4OME62pDufR"
   },
   "source": [
    "### Please check for the number of rows and columns of all the new dataframes (all 4)"
   ]
  },
  {
   "cell_type": "code",
   "execution_count": 203,
   "id": "48328d0a",
   "metadata": {
    "id": "48328d0a",
    "scrolled": true
   },
   "outputs": [
    {
     "name": "stdout",
     "output_type": "stream",
     "text": [
      "(23477, 10)\n",
      "(15652, 10)\n",
      "(23477,)\n",
      "(15652,)\n"
     ]
    }
   ],
   "source": [
    "print(X_train.shape)\n",
    "print(X_loc_test.shape)\n",
    "print(y_train.shape)\n",
    "print(y_loc_test.shape)"
   ]
  },
  {
   "cell_type": "markdown",
   "id": "4a68ed71",
   "metadata": {
    "id": "4a68ed71"
   },
   "source": [
    "### Now you are expected to split the \"X_loc_test\" and \"y_loc_test\" dataset into \"Test\" and \"Validation\" (as the names given below) dataframe with 50:50 format \n",
    "\n",
    "- Note - The expected output should be in \"X_val\", \"X_test\", \"y_val\", \"y_test\" format"
   ]
  },
  {
   "cell_type": "code",
   "execution_count": 204,
   "id": "b56c62f2",
   "metadata": {
    "id": "b56c62f2"
   },
   "outputs": [],
   "source": [
    "X_val,X_test,y_val,y_test=train_test_split(X_loc_test,y_loc_test, test_size=0.5)"
   ]
  },
  {
   "cell_type": "markdown",
   "id": "bJTSAskvERH1",
   "metadata": {
    "id": "bJTSAskvERH1"
   },
   "source": [
    "### Please check for the number of rows and columns of all the 4 dataframes "
   ]
  },
  {
   "cell_type": "code",
   "execution_count": 205,
   "id": "845d7564",
   "metadata": {
    "id": "845d7564"
   },
   "outputs": [
    {
     "name": "stdout",
     "output_type": "stream",
     "text": [
      "(7826, 10)\n",
      "(7826, 10)\n",
      "(7826,)\n",
      "(7826,)\n"
     ]
    }
   ],
   "source": [
    "print(X_val.shape)\n",
    "print(X_test.shape)\n",
    "print(y_val.shape)\n",
    "print(y_test.shape)"
   ]
  },
  {
   "cell_type": "markdown",
   "id": "110fa872",
   "metadata": {
    "id": "110fa872"
   },
   "source": [
    "# Exploratory Data Analysis (EDA) "
   ]
  },
  {
   "cell_type": "markdown",
   "id": "ffc8fe0f",
   "metadata": {
    "id": "ffc8fe0f"
   },
   "source": [
    "### Distribution Plot of the target variable (use the dataframe which contains the target field)\n",
    "\n",
    "- Note - You are expected to make a distribution plot for the target variable "
   ]
  },
  {
   "cell_type": "code",
   "execution_count": 206,
   "id": "ba2bf8ed",
   "metadata": {
    "id": "ba2bf8ed"
   },
   "outputs": [
    {
     "data": {
      "text/plain": [
       "Text(0, 0.5, 'Transactions')"
      ]
     },
     "execution_count": 206,
     "metadata": {},
     "output_type": "execute_result"
    },
    {
     "data": {
      "image/png": "[encoded data removed]",
      "text/plain": [
       "<Figure size 864x504 with 1 Axes>"
      ]
     },
     "metadata": {
      "needs_background": "light"
     },
     "output_type": "display_data"
    }
   ],
   "source": [
    "plt.subplots(figsize=(12,7))\n",
    "plt.hist(maindata['avg_delay'], color = 'red', edgecolor = 'black',\n",
    "         bins = int(150))\n",
    "\n",
    "plt.title('Histogram of Average Delays')\n",
    "plt.xlabel('Delay (seconds)')\n",
    "plt.ylabel('Transactions')"
   ]
  },
  {
   "cell_type": "markdown",
   "id": "d0e323a3",
   "metadata": {
    "id": "d0e323a3"
   },
   "source": [
    "### You are expected to group the X_train dataset on 'name_customer' column with 'doc_id' in the x_train set\n",
    "\n",
    "### Need to store the outcome into a new dataframe \n",
    "\n",
    "- Note code given for groupby statement- X_train.groupby(by=['name_customer'], as_index=False)['doc_id'].count()"
   ]
  },
  {
   "cell_type": "code",
   "execution_count": 207,
   "id": "f7acf0ee",
   "metadata": {
    "id": "f7acf0ee"
   },
   "outputs": [
    {
     "data": {
      "text/html": [
       "<div>\n",
       "<style scoped>\n",
       "    .dataframe tbody tr th:only-of-type {\n",
       "        vertical-align: middle;\n",
       "    }\n",
       "\n",
       "    .dataframe tbody tr th {\n",
       "        vertical-align: top;\n",
       "    }\n",
       "\n",
       "    .dataframe thead th {\n",
       "        text-align: right;\n",
       "    }\n",
       "</style>\n",
       "<table border=\"1\" class=\"dataframe\">\n",
       "  <thead>\n",
       "    <tr style=\"text-align: right;\">\n",
       "      <th></th>\n",
       "      <th>name_customer</th>\n",
       "      <th>doc_id</th>\n",
       "    </tr>\n",
       "  </thead>\n",
       "  <tbody>\n",
       "    <tr>\n",
       "      <th>0</th>\n",
       "      <td>10167 llc</td>\n",
       "      <td>1</td>\n",
       "    </tr>\n",
       "    <tr>\n",
       "      <th>1</th>\n",
       "      <td>17135 associates</td>\n",
       "      <td>1</td>\n",
       "    </tr>\n",
       "    <tr>\n",
       "      <th>2</th>\n",
       "      <td>17135 co</td>\n",
       "      <td>1</td>\n",
       "    </tr>\n",
       "    <tr>\n",
       "      <th>3</th>\n",
       "      <td>17135 us</td>\n",
       "      <td>1</td>\n",
       "    </tr>\n",
       "    <tr>\n",
       "      <th>4</th>\n",
       "      <td>236008 co</td>\n",
       "      <td>1</td>\n",
       "    </tr>\n",
       "    <tr>\n",
       "      <th>...</th>\n",
       "      <td>...</td>\n",
       "      <td>...</td>\n",
       "    </tr>\n",
       "    <tr>\n",
       "      <th>3058</th>\n",
       "      <td>Y H corporation</td>\n",
       "      <td>1</td>\n",
       "    </tr>\n",
       "    <tr>\n",
       "      <th>3059</th>\n",
       "      <td>Y H foundation</td>\n",
       "      <td>1</td>\n",
       "    </tr>\n",
       "    <tr>\n",
       "      <th>3060</th>\n",
       "      <td>Y H systems</td>\n",
       "      <td>1</td>\n",
       "    </tr>\n",
       "    <tr>\n",
       "      <th>3061</th>\n",
       "      <td>YEN BROS associates</td>\n",
       "      <td>1</td>\n",
       "    </tr>\n",
       "    <tr>\n",
       "      <th>3062</th>\n",
       "      <td>ZARCO corp</td>\n",
       "      <td>1</td>\n",
       "    </tr>\n",
       "  </tbody>\n",
       "</table>\n",
       "<p>3063 rows × 2 columns</p>\n",
       "</div>"
      ],
      "text/plain": [
       "            name_customer  doc_id\n",
       "0               10167 llc       1\n",
       "1        17135 associates       1\n",
       "2                17135 co       1\n",
       "3                17135 us       1\n",
       "4               236008 co       1\n",
       "...                   ...     ...\n",
       "3058      Y H corporation       1\n",
       "3059       Y H foundation       1\n",
       "3060          Y H systems       1\n",
       "3061  YEN BROS associates       1\n",
       "3062           ZARCO corp       1\n",
       "\n",
       "[3063 rows x 2 columns]"
      ]
     },
     "execution_count": 207,
     "metadata": {},
     "output_type": "execute_result"
    }
   ],
   "source": [
    "new_df = X_train.groupby(by=['name_customer'], as_index=False)['doc_id'].count()\n",
    "new_df"
   ]
  },
  {
   "cell_type": "markdown",
   "id": "cA43bFffFt6i",
   "metadata": {
    "id": "cA43bFffFt6i"
   },
   "source": [
    "### You can make another distribution plot of the \"doc_id\" column from x_train"
   ]
  },
  {
   "cell_type": "code",
   "execution_count": 208,
   "id": "9576bf33",
   "metadata": {
    "id": "9576bf33"
   },
   "outputs": [
    {
     "data": {
      "text/plain": [
       "<AxesSubplot:xlabel='doc_id'>"
      ]
     },
     "execution_count": 208,
     "metadata": {},
     "output_type": "execute_result"
    },
    {
     "data": {
      "image/png": "[encoded data removed]",
      "text/plain": [
       "<Figure size 864x504 with 1 Axes>"
      ]
     },
     "metadata": {
      "needs_background": "light"
     },
     "output_type": "display_data"
    }
   ],
   "source": [
    "plt.subplots(figsize=(12,7))\n",
    "sns.set_style('whitegrid')\n",
    "sns.distplot(X_train['doc_id'], kde = False, color ='blue', bins = 100)"
   ]
  },
  {
   "cell_type": "markdown",
   "id": "fba2c44f",
   "metadata": {
    "id": "fba2c44f"
   },
   "source": [
    "#### Create a Distribution plot only for business_year and a seperate distribution plot of \"business_year\" column along with the doc_id\" column\n"
   ]
  },
  {
   "cell_type": "code",
   "execution_count": 209,
   "id": "4fecec77",
   "metadata": {
    "id": "4fecec77"
   },
   "outputs": [
    {
     "data": {
      "text/plain": [
       "<AxesSubplot:xlabel='buisness_year'>"
      ]
     },
     "execution_count": 209,
     "metadata": {},
     "output_type": "execute_result"
    },
    {
     "data": {
      "image/png": "[encoded data removed]",
      "text/plain": [
       "<Figure size 864x504 with 1 Axes>"
      ]
     },
     "metadata": {},
     "output_type": "display_data"
    }
   ],
   "source": [
    "plt.subplots(figsize=(12,7))\n",
    "sns.set_style('darkgrid')\n",
    "sns.distplot(X_train['buisness_year'], kde = False, color ='red', bins = 100)"
   ]
  },
  {
   "cell_type": "code",
   "execution_count": 210,
   "id": "qr1jGhfOKjnw",
   "metadata": {
    "id": "qr1jGhfOKjnw"
   },
   "outputs": [
    {
     "data": {
      "image/png": "[encoded data removed]",
      "text/plain": [
       "<Figure size 432x432 with 3 Axes>"
      ]
     },
     "metadata": {},
     "output_type": "display_data"
    }
   ],
   "source": [
    "sns.jointplot(x='buisness_year',y ='doc_id', data = X_train,kind='kde')\n",
    "plt.show()"
   ]
  },
  {
   "cell_type": "markdown",
   "id": "968fbcc9",
   "metadata": {
    "id": "968fbcc9"
   },
   "source": [
    "# Feature Engineering "
   ]
  },
  {
   "cell_type": "markdown",
   "id": "jbh6CyGqH3XE",
   "metadata": {
    "id": "jbh6CyGqH3XE"
   },
   "source": [
    "### Display and describe the X_train dataframe "
   ]
  },
  {
   "cell_type": "code",
   "execution_count": 211,
   "id": "e6bcf307",
   "metadata": {
    "id": "e6bcf307"
   },
   "outputs": [
    {
     "data": {
      "text/html": [
       "<div>\n",
       "<style scoped>\n",
       "    .dataframe tbody tr th:only-of-type {\n",
       "        vertical-align: middle;\n",
       "    }\n",
       "\n",
       "    .dataframe tbody tr th {\n",
       "        vertical-align: top;\n",
       "    }\n",
       "\n",
       "    .dataframe thead th {\n",
       "        text-align: right;\n",
       "    }\n",
       "</style>\n",
       "<table border=\"1\" class=\"dataframe\">\n",
       "  <thead>\n",
       "    <tr style=\"text-align: right;\">\n",
       "      <th></th>\n",
       "      <th>business_code</th>\n",
       "      <th>cust_number</th>\n",
       "      <th>name_customer</th>\n",
       "      <th>buisness_year</th>\n",
       "      <th>doc_id</th>\n",
       "      <th>posting_date</th>\n",
       "      <th>due_in_date</th>\n",
       "      <th>baseline_create_date</th>\n",
       "      <th>cust_payment_terms</th>\n",
       "      <th>converted_usd</th>\n",
       "    </tr>\n",
       "  </thead>\n",
       "  <tbody>\n",
       "    <tr>\n",
       "      <th>35184</th>\n",
       "      <td>U001</td>\n",
       "      <td>200748108</td>\n",
       "      <td>KROGER systems</td>\n",
       "      <td>2019</td>\n",
       "      <td>1930113881</td>\n",
       "      <td>2019-06-11</td>\n",
       "      <td>2019-11-21</td>\n",
       "      <td>2019-11-06</td>\n",
       "      <td>NAA8</td>\n",
       "      <td>61160.49</td>\n",
       "    </tr>\n",
       "    <tr>\n",
       "      <th>1467</th>\n",
       "      <td>U001</td>\n",
       "      <td>200761734</td>\n",
       "      <td>H E BUT corporation</td>\n",
       "      <td>2019</td>\n",
       "      <td>1928624548</td>\n",
       "      <td>2019-01-15</td>\n",
       "      <td>2019-01-30</td>\n",
       "      <td>2019-01-15</td>\n",
       "      <td>NAA8</td>\n",
       "      <td>15630.71</td>\n",
       "    </tr>\n",
       "    <tr>\n",
       "      <th>30733</th>\n",
       "      <td>U001</td>\n",
       "      <td>200186937</td>\n",
       "      <td>SYSC</td>\n",
       "      <td>2019</td>\n",
       "      <td>1928944501</td>\n",
       "      <td>2019-11-03</td>\n",
       "      <td>2019-03-26</td>\n",
       "      <td>2019-03-11</td>\n",
       "      <td>NAA8</td>\n",
       "      <td>36524.51</td>\n",
       "    </tr>\n",
       "    <tr>\n",
       "      <th>11861</th>\n",
       "      <td>U001</td>\n",
       "      <td>200781803</td>\n",
       "      <td>JRD</td>\n",
       "      <td>2019</td>\n",
       "      <td>1930191525</td>\n",
       "      <td>2019-11-25</td>\n",
       "      <td>2019-12-15</td>\n",
       "      <td>2019-11-25</td>\n",
       "      <td>NAD1</td>\n",
       "      <td>309.30</td>\n",
       "    </tr>\n",
       "    <tr>\n",
       "      <th>31294</th>\n",
       "      <td>U001</td>\n",
       "      <td>200769623</td>\n",
       "      <td>WAL-MAR corp</td>\n",
       "      <td>2019</td>\n",
       "      <td>1929974740</td>\n",
       "      <td>2019-06-10</td>\n",
       "      <td>2019-10-21</td>\n",
       "      <td>2019-10-06</td>\n",
       "      <td>NAH4</td>\n",
       "      <td>5518.12</td>\n",
       "    </tr>\n",
       "    <tr>\n",
       "      <th>...</th>\n",
       "      <td>...</td>\n",
       "      <td>...</td>\n",
       "      <td>...</td>\n",
       "      <td>...</td>\n",
       "      <td>...</td>\n",
       "      <td>...</td>\n",
       "      <td>...</td>\n",
       "      <td>...</td>\n",
       "      <td>...</td>\n",
       "      <td>...</td>\n",
       "    </tr>\n",
       "    <tr>\n",
       "      <th>5167</th>\n",
       "      <td>U001</td>\n",
       "      <td>200290370</td>\n",
       "      <td>BARGAIN  llc</td>\n",
       "      <td>2019</td>\n",
       "      <td>1930035158</td>\n",
       "      <td>2019-10-24</td>\n",
       "      <td>2019-11-08</td>\n",
       "      <td>2019-10-24</td>\n",
       "      <td>NAA8</td>\n",
       "      <td>28809.27</td>\n",
       "    </tr>\n",
       "    <tr>\n",
       "      <th>15940</th>\n",
       "      <td>U001</td>\n",
       "      <td>200707822</td>\n",
       "      <td>PUBLI us</td>\n",
       "      <td>2019</td>\n",
       "      <td>1929553132</td>\n",
       "      <td>2019-06-27</td>\n",
       "      <td>2019-07-12</td>\n",
       "      <td>2019-06-27</td>\n",
       "      <td>NAA8</td>\n",
       "      <td>124065.09</td>\n",
       "    </tr>\n",
       "    <tr>\n",
       "      <th>17880</th>\n",
       "      <td>U013</td>\n",
       "      <td>140101904</td>\n",
       "      <td>SIGMA AL us</td>\n",
       "      <td>2019</td>\n",
       "      <td>1991832478</td>\n",
       "      <td>2019-01-10</td>\n",
       "      <td>2019-10-31</td>\n",
       "      <td>2019-10-01</td>\n",
       "      <td>NAVE</td>\n",
       "      <td>60354.74</td>\n",
       "    </tr>\n",
       "    <tr>\n",
       "      <th>22632</th>\n",
       "      <td>U001</td>\n",
       "      <td>200772670</td>\n",
       "      <td>ASSOCIAT llc</td>\n",
       "      <td>2019</td>\n",
       "      <td>1929528673</td>\n",
       "      <td>2019-06-22</td>\n",
       "      <td>2019-07-07</td>\n",
       "      <td>2019-06-22</td>\n",
       "      <td>NAU5</td>\n",
       "      <td>12251.29</td>\n",
       "    </tr>\n",
       "    <tr>\n",
       "      <th>17311</th>\n",
       "      <td>U001</td>\n",
       "      <td>200769623</td>\n",
       "      <td>WAL-MAR corporation</td>\n",
       "      <td>2019</td>\n",
       "      <td>1928830887</td>\n",
       "      <td>2019-02-21</td>\n",
       "      <td>2019-03-08</td>\n",
       "      <td>2019-02-21</td>\n",
       "      <td>NAH4</td>\n",
       "      <td>50480.11</td>\n",
       "    </tr>\n",
       "  </tbody>\n",
       "</table>\n",
       "<p>23477 rows × 10 columns</p>\n",
       "</div>"
      ],
      "text/plain": [
       "      business_code cust_number        name_customer  buisness_year  \\\n",
       "35184          U001   200748108       KROGER systems           2019   \n",
       "1467           U001   200761734  H E BUT corporation           2019   \n",
       "30733          U001   200186937                SYSC            2019   \n",
       "11861          U001   200781803                 JRD            2019   \n",
       "31294          U001   200769623         WAL-MAR corp           2019   \n",
       "...             ...         ...                  ...            ...   \n",
       "5167           U001   200290370         BARGAIN  llc           2019   \n",
       "15940          U001   200707822             PUBLI us           2019   \n",
       "17880          U013   140101904          SIGMA AL us           2019   \n",
       "22632          U001   200772670         ASSOCIAT llc           2019   \n",
       "17311          U001   200769623  WAL-MAR corporation           2019   \n",
       "\n",
       "           doc_id posting_date due_in_date baseline_create_date  \\\n",
       "35184  1930113881   2019-06-11  2019-11-21           2019-11-06   \n",
       "1467   1928624548   2019-01-15  2019-01-30           2019-01-15   \n",
       "30733  1928944501   2019-11-03  2019-03-26           2019-03-11   \n",
       "11861  1930191525   2019-11-25  2019-12-15           2019-11-25   \n",
       "31294  1929974740   2019-06-10  2019-10-21           2019-10-06   \n",
       "...           ...          ...         ...                  ...   \n",
       "5167   1930035158   2019-10-24  2019-11-08           2019-10-24   \n",
       "15940  1929553132   2019-06-27  2019-07-12           2019-06-27   \n",
       "17880  1991832478   2019-01-10  2019-10-31           2019-10-01   \n",
       "22632  1929528673   2019-06-22  2019-07-07           2019-06-22   \n",
       "17311  1928830887   2019-02-21  2019-03-08           2019-02-21   \n",
       "\n",
       "      cust_payment_terms  converted_usd  \n",
       "35184               NAA8       61160.49  \n",
       "1467                NAA8       15630.71  \n",
       "30733               NAA8       36524.51  \n",
       "11861               NAD1         309.30  \n",
       "31294               NAH4        5518.12  \n",
       "...                  ...            ...  \n",
       "5167                NAA8       28809.27  \n",
       "15940               NAA8      124065.09  \n",
       "17880               NAVE       60354.74  \n",
       "22632               NAU5       12251.29  \n",
       "17311               NAH4       50480.11  \n",
       "\n",
       "[23477 rows x 10 columns]"
      ]
     },
     "execution_count": 211,
     "metadata": {},
     "output_type": "execute_result"
    }
   ],
   "source": [
    "X_train"
   ]
  },
  {
   "cell_type": "code",
   "execution_count": 212,
   "id": "08ccc819",
   "metadata": {
    "id": "08ccc819"
   },
   "outputs": [
    {
     "data": {
      "text/html": [
       "<div>\n",
       "<style scoped>\n",
       "    .dataframe tbody tr th:only-of-type {\n",
       "        vertical-align: middle;\n",
       "    }\n",
       "\n",
       "    .dataframe tbody tr th {\n",
       "        vertical-align: top;\n",
       "    }\n",
       "\n",
       "    .dataframe thead th {\n",
       "        text-align: right;\n",
       "    }\n",
       "</style>\n",
       "<table border=\"1\" class=\"dataframe\">\n",
       "  <thead>\n",
       "    <tr style=\"text-align: right;\">\n",
       "      <th></th>\n",
       "      <th>buisness_year</th>\n",
       "      <th>doc_id</th>\n",
       "      <th>converted_usd</th>\n",
       "    </tr>\n",
       "  </thead>\n",
       "  <tbody>\n",
       "    <tr>\n",
       "      <th>count</th>\n",
       "      <td>23477.000000</td>\n",
       "      <td>2.347700e+04</td>\n",
       "      <td>23477.000000</td>\n",
       "    </tr>\n",
       "    <tr>\n",
       "      <th>mean</th>\n",
       "      <td>2019.130383</td>\n",
       "      <td>2.012128e+09</td>\n",
       "      <td>30988.439680</td>\n",
       "    </tr>\n",
       "    <tr>\n",
       "      <th>std</th>\n",
       "      <td>0.336731</td>\n",
       "      <td>2.891577e+08</td>\n",
       "      <td>36545.561012</td>\n",
       "    </tr>\n",
       "    <tr>\n",
       "      <th>min</th>\n",
       "      <td>2019.000000</td>\n",
       "      <td>1.928502e+09</td>\n",
       "      <td>5.140000</td>\n",
       "    </tr>\n",
       "    <tr>\n",
       "      <th>25%</th>\n",
       "      <td>2019.000000</td>\n",
       "      <td>1.929171e+09</td>\n",
       "      <td>4485.488000</td>\n",
       "    </tr>\n",
       "    <tr>\n",
       "      <th>50%</th>\n",
       "      <td>2019.000000</td>\n",
       "      <td>1.929715e+09</td>\n",
       "      <td>16965.250000</td>\n",
       "    </tr>\n",
       "    <tr>\n",
       "      <th>75%</th>\n",
       "      <td>2019.000000</td>\n",
       "      <td>1.930203e+09</td>\n",
       "      <td>45504.590000</td>\n",
       "    </tr>\n",
       "    <tr>\n",
       "      <th>max</th>\n",
       "      <td>2020.000000</td>\n",
       "      <td>9.500000e+09</td>\n",
       "      <td>550204.650000</td>\n",
       "    </tr>\n",
       "  </tbody>\n",
       "</table>\n",
       "</div>"
      ],
      "text/plain": [
       "       buisness_year        doc_id  converted_usd\n",
       "count   23477.000000  2.347700e+04   23477.000000\n",
       "mean     2019.130383  2.012128e+09   30988.439680\n",
       "std         0.336731  2.891577e+08   36545.561012\n",
       "min      2019.000000  1.928502e+09       5.140000\n",
       "25%      2019.000000  1.929171e+09    4485.488000\n",
       "50%      2019.000000  1.929715e+09   16965.250000\n",
       "75%      2019.000000  1.930203e+09   45504.590000\n",
       "max      2020.000000  9.500000e+09  550204.650000"
      ]
     },
     "execution_count": 212,
     "metadata": {},
     "output_type": "execute_result"
    }
   ],
   "source": [
    "X_train.describe()"
   ]
  },
  {
   "cell_type": "markdown",
   "id": "abd7ac8b",
   "metadata": {
    "id": "abd7ac8b"
   },
   "source": [
    "#### The \"business_code\" column inside X_train, is a categorical column, so you need to perform Labelencoder on that particular column\n",
    "\n",
    "- Note - call the Label Encoder from sklearn library and use the fit() function on \"business_code\" column\n",
    "- Note - Please fill in the blanks (two) to complete this code"
   ]
  },
  {
   "cell_type": "code",
   "execution_count": 213,
   "id": "7c223545",
   "metadata": {
    "id": "7c223545"
   },
   "outputs": [
    {
     "data": {
      "text/plain": [
       "array([1, 1, 1, ..., 5, 1, 1])"
      ]
     },
     "execution_count": 213,
     "metadata": {},
     "output_type": "execute_result"
    }
   ],
   "source": [
    "from sklearn.preprocessing import LabelEncoder\n",
    "business_coder = LabelEncoder()\n",
    "business_coder.fit_transform(X_train['business_code'])"
   ]
  },
  {
   "cell_type": "markdown",
   "id": "f86f7d9c",
   "metadata": {
    "id": "f86f7d9c"
   },
   "source": [
    "#### You are expected to store the value into a new column i.e. \"business_code_enc\"\n",
    "\n",
    "- Note - For Training set you are expected to use fit_trainsform()\n",
    "- Note - For Test set you are expected to use the trainsform()\n",
    "- Note - For Validation set you are expected to use the trainsform()\n",
    "\n",
    "\n",
    "- Partial code is provided, please fill in the blanks "
   ]
  },
  {
   "cell_type": "code",
   "execution_count": 214,
   "id": "4269c307",
   "metadata": {
    "id": "4269c307"
   },
   "outputs": [],
   "source": [
    "X_train['business_code_enc'] = business_coder.fit_transform(X_train['business_code'])"
   ]
  },
  {
   "cell_type": "code",
   "execution_count": 215,
   "id": "70a53712",
   "metadata": {
    "id": "70a53712"
   },
   "outputs": [],
   "source": [
    "X_val['business_code_enc'] = business_coder.transform(X_val['business_code'])\n",
    "X_test['business_code_enc'] = business_coder.transform(X_test['business_code'])"
   ]
  },
  {
   "cell_type": "markdown",
   "id": "gdNYxTkqNfmz",
   "metadata": {
    "id": "gdNYxTkqNfmz"
   },
   "source": [
    "### Display \"business_code\" and \"business_code_enc\" together from X_train dataframe "
   ]
  },
  {
   "cell_type": "code",
   "execution_count": 216,
   "id": "1196a002",
   "metadata": {
    "id": "1196a002"
   },
   "outputs": [
    {
     "data": {
      "text/html": [
       "<div>\n",
       "<style scoped>\n",
       "    .dataframe tbody tr th:only-of-type {\n",
       "        vertical-align: middle;\n",
       "    }\n",
       "\n",
       "    .dataframe tbody tr th {\n",
       "        vertical-align: top;\n",
       "    }\n",
       "\n",
       "    .dataframe thead th {\n",
       "        text-align: right;\n",
       "    }\n",
       "</style>\n",
       "<table border=\"1\" class=\"dataframe\">\n",
       "  <thead>\n",
       "    <tr style=\"text-align: right;\">\n",
       "      <th></th>\n",
       "      <th>business_code</th>\n",
       "      <th>business_code_enc</th>\n",
       "    </tr>\n",
       "  </thead>\n",
       "  <tbody>\n",
       "    <tr>\n",
       "      <th>35184</th>\n",
       "      <td>U001</td>\n",
       "      <td>1</td>\n",
       "    </tr>\n",
       "    <tr>\n",
       "      <th>1467</th>\n",
       "      <td>U001</td>\n",
       "      <td>1</td>\n",
       "    </tr>\n",
       "    <tr>\n",
       "      <th>30733</th>\n",
       "      <td>U001</td>\n",
       "      <td>1</td>\n",
       "    </tr>\n",
       "    <tr>\n",
       "      <th>11861</th>\n",
       "      <td>U001</td>\n",
       "      <td>1</td>\n",
       "    </tr>\n",
       "    <tr>\n",
       "      <th>31294</th>\n",
       "      <td>U001</td>\n",
       "      <td>1</td>\n",
       "    </tr>\n",
       "    <tr>\n",
       "      <th>...</th>\n",
       "      <td>...</td>\n",
       "      <td>...</td>\n",
       "    </tr>\n",
       "    <tr>\n",
       "      <th>5167</th>\n",
       "      <td>U001</td>\n",
       "      <td>1</td>\n",
       "    </tr>\n",
       "    <tr>\n",
       "      <th>15940</th>\n",
       "      <td>U001</td>\n",
       "      <td>1</td>\n",
       "    </tr>\n",
       "    <tr>\n",
       "      <th>17880</th>\n",
       "      <td>U013</td>\n",
       "      <td>5</td>\n",
       "    </tr>\n",
       "    <tr>\n",
       "      <th>22632</th>\n",
       "      <td>U001</td>\n",
       "      <td>1</td>\n",
       "    </tr>\n",
       "    <tr>\n",
       "      <th>17311</th>\n",
       "      <td>U001</td>\n",
       "      <td>1</td>\n",
       "    </tr>\n",
       "  </tbody>\n",
       "</table>\n",
       "<p>23477 rows × 2 columns</p>\n",
       "</div>"
      ],
      "text/plain": [
       "      business_code  business_code_enc\n",
       "35184          U001                  1\n",
       "1467           U001                  1\n",
       "30733          U001                  1\n",
       "11861          U001                  1\n",
       "31294          U001                  1\n",
       "...             ...                ...\n",
       "5167           U001                  1\n",
       "15940          U001                  1\n",
       "17880          U013                  5\n",
       "22632          U001                  1\n",
       "17311          U001                  1\n",
       "\n",
       "[23477 rows x 2 columns]"
      ]
     },
     "execution_count": 216,
     "metadata": {},
     "output_type": "execute_result"
    }
   ],
   "source": [
    "X_train[[\"business_code\", \"business_code_enc\"]]"
   ]
  },
  {
   "cell_type": "markdown",
   "id": "11477224",
   "metadata": {
    "id": "11477224"
   },
   "source": [
    "#### Create a function called \"custom\" for dropping the columns 'business_code' from train, test and validation dataframe\n",
    "\n",
    "- Note - Fill in the blank to complete the code"
   ]
  },
  {
   "cell_type": "code",
   "execution_count": 217,
   "id": "1052868a",
   "metadata": {
    "id": "1052868a"
   },
   "outputs": [],
   "source": [
    "def custom(col ,traindf = X_train,valdf = X_val,testdf = X_test):\n",
    "    traindf.drop(col, axis =1,inplace=True)\n",
    "    valdf.drop(col,axis=1 , inplace=True)\n",
    "    testdf.drop(col,axis=1 , inplace=True)\n",
    "\n",
    "    return traindf,valdf ,testdf"
   ]
  },
  {
   "cell_type": "markdown",
   "id": "rI--ZuMbNLne",
   "metadata": {
    "id": "rI--ZuMbNLne"
   },
   "source": [
    "### Call the function by passing the column name which needed to be dropped from train, test and validation dataframes. Return updated dataframes to be stored in X_train ,X_val, X_test  \n",
    "\n",
    "- Note = Fill in the blank to complete the code "
   ]
  },
  {
   "cell_type": "code",
   "execution_count": 218,
   "id": "1a0f955c",
   "metadata": {
    "id": "1a0f955c"
   },
   "outputs": [],
   "source": [
    "X_train , X_val , X_test = custom(['business_code'])"
   ]
  },
  {
   "cell_type": "markdown",
   "id": "28b5b27e",
   "metadata": {
    "id": "28b5b27e"
   },
   "source": [
    "### Manually replacing str values with numbers, Here we are trying manually replace the customer numbers with some specific values like, 'CCCA' as 1, 'CCU' as 2 and so on. Also we are converting the datatype \"cust_number\" field to int type.\n",
    "\n",
    "- We are doing it for all the three dataframes as shown below. This is fully completed code. No need to modify anything here \n",
    "\n"
   ]
  },
  {
   "cell_type": "code",
   "execution_count": 219,
   "id": "85dd129e",
   "metadata": {
    "id": "85dd129e"
   },
   "outputs": [],
   "source": [
    "X_train['cust_number'] = X_train['cust_number'].str.replace('CCCA',\"1\").str.replace('CCU',\"2\").str.replace('CC',\"3\").astype(int)\n",
    "X_test['cust_number'] = X_test['cust_number'].str.replace('CCCA',\"1\").str.replace('CCU',\"2\").str.replace('CC',\"3\").astype(int)\n",
    "X_val['cust_number'] = X_val['cust_number'].str.replace('CCCA',\"1\").str.replace('CCU',\"2\").str.replace('CC',\"3\").astype(int)\n"
   ]
  },
  {
   "cell_type": "markdown",
   "id": "U8vA-zmdPnJ8",
   "metadata": {
    "id": "U8vA-zmdPnJ8"
   },
   "source": [
    "#### It differs from LabelEncoder by handling new classes and providing a value for it [Unknown]. Unknown will be added in fit and transform will take care of new item. It gives unknown class id.\n",
    "\n",
    "#### This will fit the encoder for all the unique values and introduce unknown value\n",
    "\n",
    "- Note - Keep this code as it is, we will be using this later on.  "
   ]
  },
  {
   "cell_type": "code",
   "execution_count": 220,
   "id": "151f48ba",
   "metadata": {
    "id": "151f48ba"
   },
   "outputs": [],
   "source": [
    "#For encoding unseen labels\n",
    "class EncoderExt(object):\n",
    "    def __init__(self):\n",
    "        self.label_encoder = LabelEncoder()\n",
    "    def fit(self, data_list):\n",
    "        self.label_encoder = self.label_encoder.fit(list(data_list) + ['Unknown'])\n",
    "        self.classes_ = self.label_encoder.classes_\n",
    "        return self\n",
    "    def transform(self, data_list):\n",
    "        new_data_list = list(data_list)\n",
    "        for unique_item in np.unique(data_list):\n",
    "            if unique_item not in self.label_encoder.classes_:\n",
    "                new_data_list = ['Unknown' if x==unique_item else x for x in new_data_list]\n",
    "        return self.label_encoder.transform(new_data_list)"
   ]
  },
  {
   "cell_type": "markdown",
   "id": "254c64e6",
   "metadata": {
    "id": "254c64e6"
   },
   "source": [
    "### Use the user define Label Encoder function called \"EncoderExt\" for the \"name_customer\" column\n",
    "\n",
    "- Note - Keep the code as it is, no need to change"
   ]
  },
  {
   "cell_type": "code",
   "execution_count": 221,
   "id": "62b17eff",
   "metadata": {
    "id": "62b17eff"
   },
   "outputs": [],
   "source": [
    "label_encoder = EncoderExt()\n",
    "label_encoder.fit(X_train['name_customer'])\n",
    "X_train['name_customer_enc']=label_encoder.transform(X_train['name_customer'])\n",
    "X_val['name_customer_enc']=label_encoder.transform(X_val['name_customer'])\n",
    "X_test['name_customer_enc']=label_encoder.transform(X_test['name_customer'])"
   ]
  },
  {
   "cell_type": "markdown",
   "id": "mK7LMoy2QZhy",
   "metadata": {
    "id": "mK7LMoy2QZhy"
   },
   "source": [
    "### As we have created the a new column \"name_customer_enc\", so now drop \"name_customer\" column from all three dataframes\n",
    "\n",
    "- Note - Keep the code as it is, no need to change"
   ]
  },
  {
   "cell_type": "code",
   "execution_count": 222,
   "id": "ef85f1c0",
   "metadata": {
    "id": "ef85f1c0"
   },
   "outputs": [],
   "source": [
    "X_train ,X_val, X_test = custom(['name_customer'])"
   ]
  },
  {
   "cell_type": "markdown",
   "id": "3aa09d22",
   "metadata": {
    "id": "3aa09d22"
   },
   "source": [
    "### Using Label Encoder for the \"cust_payment_terms\" column\n",
    "\n",
    "- Note - Keep the code as it is, no need to change"
   ]
  },
  {
   "cell_type": "code",
   "execution_count": 223,
   "id": "6f9ab642",
   "metadata": {
    "id": "6f9ab642"
   },
   "outputs": [],
   "source": [
    "label_encoder1 = EncoderExt()\n",
    "label_encoder1.fit(X_train['cust_payment_terms'])\n",
    "X_train['cust_payment_terms_enc']=label_encoder1.transform(X_train['cust_payment_terms'])\n",
    "X_val['cust_payment_terms_enc']=label_encoder1.transform(X_val['cust_payment_terms'])\n",
    "X_test['cust_payment_terms_enc']=label_encoder1.transform(X_test['cust_payment_terms'])"
   ]
  },
  {
   "cell_type": "code",
   "execution_count": 224,
   "id": "55f9a7c2",
   "metadata": {
    "id": "55f9a7c2"
   },
   "outputs": [],
   "source": [
    "X_train ,X_val, X_test = custom(['cust_payment_terms'])"
   ]
  },
  {
   "cell_type": "markdown",
   "id": "0788f42b",
   "metadata": {
    "id": "0788f42b"
   },
   "source": [
    "## Check the datatype of all the columns of Train, Test and Validation dataframes realted to X\n",
    "\n",
    "- Note - You are expected yo use dtype"
   ]
  },
  {
   "cell_type": "code",
   "execution_count": 225,
   "id": "bc79a316",
   "metadata": {
    "id": "bc79a316"
   },
   "outputs": [
    {
     "data": {
      "text/plain": [
       "cust_number                        int32\n",
       "buisness_year                      int64\n",
       "doc_id                             int64\n",
       "posting_date              datetime64[ns]\n",
       "due_in_date               datetime64[ns]\n",
       "baseline_create_date      datetime64[ns]\n",
       "converted_usd                    float64\n",
       "business_code_enc                  int32\n",
       "name_customer_enc                  int32\n",
       "cust_payment_terms_enc             int32\n",
       "dtype: object"
      ]
     },
     "execution_count": 225,
     "metadata": {},
     "output_type": "execute_result"
    }
   ],
   "source": [
    "X_train.dtypes"
   ]
  },
  {
   "cell_type": "code",
   "execution_count": 226,
   "id": "b33242d8",
   "metadata": {
    "id": "b33242d8"
   },
   "outputs": [
    {
     "data": {
      "text/plain": [
       "cust_number                        int32\n",
       "buisness_year                      int64\n",
       "doc_id                             int64\n",
       "posting_date              datetime64[ns]\n",
       "due_in_date               datetime64[ns]\n",
       "baseline_create_date      datetime64[ns]\n",
       "converted_usd                    float64\n",
       "business_code_enc                  int32\n",
       "name_customer_enc                  int32\n",
       "cust_payment_terms_enc             int32\n",
       "dtype: object"
      ]
     },
     "execution_count": 226,
     "metadata": {},
     "output_type": "execute_result"
    }
   ],
   "source": [
    "X_val.dtypes"
   ]
  },
  {
   "cell_type": "code",
   "execution_count": 227,
   "id": "6bd4da71",
   "metadata": {
    "id": "6bd4da71"
   },
   "outputs": [
    {
     "data": {
      "text/plain": [
       "cust_number                        int32\n",
       "buisness_year                      int64\n",
       "doc_id                             int64\n",
       "posting_date              datetime64[ns]\n",
       "due_in_date               datetime64[ns]\n",
       "baseline_create_date      datetime64[ns]\n",
       "converted_usd                    float64\n",
       "business_code_enc                  int32\n",
       "name_customer_enc                  int32\n",
       "cust_payment_terms_enc             int32\n",
       "dtype: object"
      ]
     },
     "execution_count": 227,
     "metadata": {},
     "output_type": "execute_result"
    }
   ],
   "source": [
    "X_test.dtypes"
   ]
  },
  {
   "cell_type": "markdown",
   "id": "LVfvuPiWPeMB",
   "metadata": {
    "id": "LVfvuPiWPeMB"
   },
   "source": [
    "### From the above output you can notice their are multiple date columns with datetime format\n",
    "\n",
    "### In order to pass it into our model, we need to convert it into float format"
   ]
  },
  {
   "cell_type": "markdown",
   "id": "9d344db9",
   "metadata": {
    "id": "9d344db9"
   },
   "source": [
    "### You need to extract day, month and year from the \"posting_date\" column \n",
    "\n",
    "1.   Extract days from \"posting_date\" column and store it into a new column \"day_of_postingdate\" for train, test and validation dataset \n",
    "2.   Extract months from \"posting_date\" column and store it into a new column \"month_of_postingdate\" for train, test and validation dataset\n",
    "3.   Extract year from \"posting_date\" column and store it into a new column \"year_of_postingdate\" for train, test and validation dataset \n",
    "\n",
    "\n",
    "\n",
    "- Note - You are supposed yo use \n",
    "\n",
    "*   dt.day\n",
    "*   dt.month\n",
    "*   dt.year\n",
    "\n",
    "\n",
    "\n",
    "\n"
   ]
  },
  {
   "cell_type": "code",
   "execution_count": 228,
   "id": "6e3cdfd6",
   "metadata": {
    "id": "6e3cdfd6"
   },
   "outputs": [],
   "source": [
    "X_train['day_of_postingdate'] = X_train['posting_date'].dt.day\n",
    "X_train['month_of_postingdate'] = X_train['posting_date'].dt.month\n",
    "X_train['year_of_postingdate'] = X_train['posting_date'].dt.year\n",
    "\n",
    "X_val['day_of_postingdate'] = X_val['posting_date'].dt.day\n",
    "X_val['month_of_postingdate'] = X_val['posting_date'].dt.month\n",
    "X_val['year_of_postingdate'] = X_val['posting_date'].dt.year\n",
    "\n",
    "\n",
    "X_test['day_of_postingdate'] = X_test['posting_date'].dt.day\n",
    "X_test['month_of_postingdate'] = X_test['posting_date'].dt.month\n",
    "X_test['year_of_postingdate'] = X_test['posting_date'].dt.year\n",
    "\n"
   ]
  },
  {
   "cell_type": "markdown",
   "id": "GyI-F853Rxa7",
   "metadata": {
    "id": "GyI-F853Rxa7"
   },
   "source": [
    "### pass the \"posting_date\" column into the Custom function for train, test and validation dataset"
   ]
  },
  {
   "cell_type": "code",
   "execution_count": 229,
   "id": "FQHtQkrnRx_V",
   "metadata": {
    "id": "FQHtQkrnRx_V"
   },
   "outputs": [],
   "source": [
    "X_train ,X_val, X_test = custom(['posting_date'])"
   ]
  },
  {
   "cell_type": "markdown",
   "id": "GMnCaEcKReSw",
   "metadata": {
    "id": "GMnCaEcKReSw"
   },
   "source": [
    "### You need to extract day, month and year from the \"baseline_create_date\" column \n",
    "\n",
    "1.   Extract days from \"baseline_create_date\" column and store it into a new column \"day_of_createdate\" for train, test and validation dataset \n",
    "2.   Extract months from \"baseline_create_date\" column and store it into a new column \"month_of_createdate\" for train, test and validation dataset\n",
    "3.   Extract year from \"baseline_create_date\" column and store it into a new column \"year_of_createdate\" for train, test and validation dataset \n",
    "\n",
    "\n",
    "\n",
    "- Note - You are supposed yo use \n",
    "\n",
    "*   dt.day\n",
    "*   dt.month\n",
    "*   dt.year\n",
    "\n",
    "\n",
    "- Note - Do as it is been shown in the previous two code boxes"
   ]
  },
  {
   "cell_type": "markdown",
   "id": "ee4d83d0",
   "metadata": {
    "id": "ee4d83d0"
   },
   "source": [
    "### Extracting Day, Month, Year for 'baseline_create_date' column"
   ]
  },
  {
   "cell_type": "code",
   "execution_count": 230,
   "id": "32b240e1",
   "metadata": {
    "id": "32b240e1"
   },
   "outputs": [],
   "source": [
    "X_train['day_of_createdate'] = X_train['baseline_create_date'].dt.day\n",
    "X_train['month_of_createdate'] = X_train['baseline_create_date'].dt.month\n",
    "X_train['year_of_createdate'] = X_train['baseline_create_date'].dt.year\n",
    "\n",
    "X_val['day_of_createdate'] = X_val['baseline_create_date'].dt.day\n",
    "X_val['month_of_createdate'] = X_val['baseline_create_date'].dt.month\n",
    "X_val['year_of_createdate'] = X_val['baseline_create_date'].dt.year\n",
    "\n",
    "\n",
    "X_test['day_of_createdate'] = X_test['baseline_create_date'].dt.day\n",
    "X_test['month_of_createdate'] = X_test['baseline_create_date'].dt.month\n",
    "X_test['year_of_createdate'] = X_test['baseline_create_date'].dt.year"
   ]
  },
  {
   "cell_type": "markdown",
   "id": "cFgwkS5rSDDs",
   "metadata": {
    "id": "cFgwkS5rSDDs"
   },
   "source": [
    "### pass the \"baseline_create_date\" column into the Custom function for train, test and validation dataset"
   ]
  },
  {
   "cell_type": "code",
   "execution_count": 231,
   "id": "RGYa2BEQSDg3",
   "metadata": {
    "id": "RGYa2BEQSDg3"
   },
   "outputs": [],
   "source": [
    "X_train ,X_val, X_test = custom(['baseline_create_date'])"
   ]
  },
  {
   "cell_type": "markdown",
   "id": "77c7a0df",
   "metadata": {
    "id": "77c7a0df"
   },
   "source": [
    "### You need to extract day, month and year from the \"due_in_date\" column \n",
    "\n",
    "1.   Extract days from \"due_in_date\" column and store it into a new column \"day_of_due\" for train, test and validation dataset \n",
    "2.   Extract months from \"due_in_date\" column and store it into a new column \"month_of_due\" for train, test and validation dataset\n",
    "3.   Extract year from \"due_in_date\" column and store it into a new column \"year_of_due\" for train, test and validation dataset \n",
    "\n",
    "\n",
    "\n",
    "- Note - You are supposed yo use \n",
    "\n",
    "*   dt.day\n",
    "*   dt.month\n",
    "*   dt.year\n",
    "\n",
    "- Note - Do as it is been shown in the previous code"
   ]
  },
  {
   "cell_type": "code",
   "execution_count": 232,
   "id": "5c745547",
   "metadata": {
    "id": "5c745547"
   },
   "outputs": [],
   "source": [
    "X_train['day_of_due'] = X_train['due_in_date'].dt.day\n",
    "X_train['month_of_due'] = X_train['due_in_date'].dt.month\n",
    "X_train['year_of_due'] = X_train['due_in_date'].dt.year\n",
    "\n",
    "X_val['day_of_due'] = X_val['due_in_date'].dt.day\n",
    "X_val['month_of_due'] = X_val['due_in_date'].dt.month\n",
    "X_val['year_of_due'] = X_val['due_in_date'].dt.year\n",
    "\n",
    "\n",
    "X_test['day_of_due'] = X_test['due_in_date'].dt.day\n",
    "X_test['month_of_due'] = X_test['due_in_date'].dt.month\n",
    "X_test['year_of_due'] = X_test['due_in_date'].dt.year"
   ]
  },
  {
   "cell_type": "markdown",
   "id": "FYLLzulGSvRd",
   "metadata": {
    "id": "FYLLzulGSvRd"
   },
   "source": [
    "pass the \"due_in_date\" column into the Custom function for train, test and validation dataset"
   ]
  },
  {
   "cell_type": "code",
   "execution_count": 233,
   "id": "1-s6QuY9Svrh",
   "metadata": {
    "id": "1-s6QuY9Svrh"
   },
   "outputs": [],
   "source": [
    "X_train,X_val,X_test=custom(['due_in_date'])"
   ]
  },
  {
   "cell_type": "markdown",
   "id": "1ae5d052",
   "metadata": {
    "id": "1ae5d052"
   },
   "source": [
    "### Check for the datatypes for train, test and validation set again\n",
    "\n",
    "- Note - all the data type should be in either int64 or float64 format \n"
   ]
  },
  {
   "cell_type": "code",
   "execution_count": 234,
   "id": "aee9d828",
   "metadata": {
    "id": "aee9d828"
   },
   "outputs": [
    {
     "data": {
      "text/plain": [
       "cust_number                 int32\n",
       "buisness_year               int64\n",
       "doc_id                      int64\n",
       "converted_usd             float64\n",
       "business_code_enc           int32\n",
       "name_customer_enc           int32\n",
       "cust_payment_terms_enc      int32\n",
       "day_of_postingdate          int64\n",
       "month_of_postingdate        int64\n",
       "year_of_postingdate         int64\n",
       "day_of_createdate           int64\n",
       "month_of_createdate         int64\n",
       "year_of_createdate          int64\n",
       "day_of_due                  int64\n",
       "month_of_due                int64\n",
       "year_of_due                 int64\n",
       "dtype: object"
      ]
     },
     "execution_count": 234,
     "metadata": {},
     "output_type": "execute_result"
    }
   ],
   "source": [
    "X_train.dtypes"
   ]
  },
  {
   "cell_type": "code",
   "execution_count": 235,
   "id": "cbbe21a6",
   "metadata": {},
   "outputs": [
    {
     "data": {
      "text/plain": [
       "cust_number                 int32\n",
       "buisness_year               int64\n",
       "doc_id                      int64\n",
       "converted_usd             float64\n",
       "business_code_enc           int32\n",
       "name_customer_enc           int32\n",
       "cust_payment_terms_enc      int32\n",
       "day_of_postingdate          int64\n",
       "month_of_postingdate        int64\n",
       "year_of_postingdate         int64\n",
       "day_of_createdate           int64\n",
       "month_of_createdate         int64\n",
       "year_of_createdate          int64\n",
       "day_of_due                  int64\n",
       "month_of_due                int64\n",
       "year_of_due                 int64\n",
       "dtype: object"
      ]
     },
     "execution_count": 235,
     "metadata": {},
     "output_type": "execute_result"
    }
   ],
   "source": [
    "X_val.dtypes"
   ]
  },
  {
   "cell_type": "code",
   "execution_count": 236,
   "id": "5b75b6c9",
   "metadata": {},
   "outputs": [
    {
     "data": {
      "text/plain": [
       "cust_number                 int32\n",
       "buisness_year               int64\n",
       "doc_id                      int64\n",
       "converted_usd             float64\n",
       "business_code_enc           int32\n",
       "name_customer_enc           int32\n",
       "cust_payment_terms_enc      int32\n",
       "day_of_postingdate          int64\n",
       "month_of_postingdate        int64\n",
       "year_of_postingdate         int64\n",
       "day_of_createdate           int64\n",
       "month_of_createdate         int64\n",
       "year_of_createdate          int64\n",
       "day_of_due                  int64\n",
       "month_of_due                int64\n",
       "year_of_due                 int64\n",
       "dtype: object"
      ]
     },
     "execution_count": 236,
     "metadata": {},
     "output_type": "execute_result"
    }
   ],
   "source": [
    "X_test.dtypes"
   ]
  },
  {
   "cell_type": "markdown",
   "id": "65810f55",
   "metadata": {
    "id": "65810f55"
   },
   "source": [
    "# Feature Selection"
   ]
  },
  {
   "cell_type": "markdown",
   "id": "4bb1ad9f",
   "metadata": {
    "id": "4bb1ad9f"
   },
   "source": [
    "### Filter Method\n",
    "\n",
    "- Calling the VarianceThreshold Function \n",
    "- Note - Keep the code as it is, no need to change "
   ]
  },
  {
   "cell_type": "code",
   "execution_count": 237,
   "id": "e882509f",
   "metadata": {
    "id": "e882509f"
   },
   "outputs": [
    {
     "data": {
      "text/plain": [
       "16"
      ]
     },
     "execution_count": 237,
     "metadata": {},
     "output_type": "execute_result"
    }
   ],
   "source": [
    "from sklearn.feature_selection import VarianceThreshold\n",
    "constant_filter = VarianceThreshold(threshold=0)\n",
    "constant_filter.fit(X_train)\n",
    "len(X_train.columns[constant_filter.get_support()])"
   ]
  },
  {
   "cell_type": "markdown",
   "id": "V9531H3jR-W2",
   "metadata": {
    "id": "V9531H3jR-W2"
   },
   "source": [
    "- Note - Keep the code as it is, no need to change \n"
   ]
  },
  {
   "cell_type": "code",
   "execution_count": 238,
   "id": "c77c12e1",
   "metadata": {
    "id": "c77c12e1"
   },
   "outputs": [
    {
     "name": "stdout",
     "output_type": "stream",
     "text": [
      "0\n"
     ]
    }
   ],
   "source": [
    "constant_columns = [column for column in X_train.columns\n",
    "                    if column not in X_train.columns[constant_filter.get_support()]]\n",
    "print(len(constant_columns))"
   ]
  },
  {
   "cell_type": "markdown",
   "id": "6d9b8610",
   "metadata": {
    "id": "6d9b8610"
   },
   "source": [
    "- transpose the feature matrice\n",
    "- print the number of duplicated features\n",
    "- select the duplicated features columns names\n",
    "\n",
    "- Note - Keep the code as it is, no need to change \n"
   ]
  },
  {
   "cell_type": "code",
   "execution_count": 239,
   "id": "0fb7db95",
   "metadata": {
    "id": "0fb7db95"
   },
   "outputs": [
    {
     "name": "stdout",
     "output_type": "stream",
     "text": [
      "0\n"
     ]
    }
   ],
   "source": [
    "x_train_T = X_train.T\n",
    "print(x_train_T.duplicated().sum())\n",
    "duplicated_columns = x_train_T[x_train_T.duplicated()].index.values"
   ]
  },
  {
   "cell_type": "markdown",
   "id": "510fa831",
   "metadata": {
    "id": "510fa831"
   },
   "source": [
    "### Filtering depending upon correlation matrix value\n",
    "- We have created a function called handling correlation which is going to return fields based on the correlation matrix value with a threshold of 0.8\n",
    "\n",
    "- Note - Keep the code as it is, no need to change "
   ]
  },
  {
   "cell_type": "code",
   "execution_count": 240,
   "id": "67731abc",
   "metadata": {
    "id": "67731abc"
   },
   "outputs": [],
   "source": [
    "def handling_correlation(X_train,threshold=0.8):\n",
    "    corr_features = set()\n",
    "    corr_matrix = X_train.corr()\n",
    "    for i in range(len(corr_matrix .columns)):\n",
    "        for j in range(i):\n",
    "            if abs(corr_matrix.iloc[i, j]) >threshold:\n",
    "                colname = corr_matrix.columns[i]\n",
    "                corr_features.add(colname)\n",
    "    return list(corr_features)"
   ]
  },
  {
   "cell_type": "markdown",
   "id": "JaE_6qVgSXl3",
   "metadata": {
    "id": "JaE_6qVgSXl3"
   },
   "source": [
    "- Note : Here we are trying to find out the relevant fields, from X_train\n",
    "- Please fill in the blanks to call handling_correlation() function with a threshold value of 0.85"
   ]
  },
  {
   "cell_type": "code",
   "execution_count": 241,
   "id": "dd91d1a2",
   "metadata": {
    "id": "dd91d1a2"
   },
   "outputs": [
    {
     "data": {
      "text/plain": [
       "['year_of_createdate',\n",
       " 'year_of_postingdate',\n",
       " 'month_of_due',\n",
       " 'day_of_createdate',\n",
       " 'year_of_due']"
      ]
     },
     "execution_count": 241,
     "metadata": {},
     "output_type": "execute_result"
    }
   ],
   "source": [
    "train=X_train.copy()\n",
    "handling_correlation(train.copy(),0.85)"
   ]
  },
  {
   "cell_type": "markdown",
   "id": "154da511",
   "metadata": {
    "id": "154da511"
   },
   "source": [
    "### Heatmap for X_train\n",
    "\n",
    "- Note - Keep the code as it is, no need to change"
   ]
  },
  {
   "cell_type": "code",
   "execution_count": 242,
   "id": "2e8f2fe4",
   "metadata": {
    "id": "2e8f2fe4"
   },
   "outputs": [
    {
     "data": {
      "text/plain": [
       "<AxesSubplot:title={'center':'Pearson Correlation of Features'}>"
      ]
     },
     "execution_count": 242,
     "metadata": {},
     "output_type": "execute_result"
    },
    {
     "data": {
      "image/png": "[encoded data removed]",
      "text/plain": [
       "<Figure size 1008x864 with 2 Axes>"
      ]
     },
     "metadata": {},
     "output_type": "display_data"
    }
   ],
   "source": [
    "colormap = plt.cm.RdBu\n",
    "plt.figure(figsize=(14,12))\n",
    "plt.title('Pearson Correlation of Features', y=1.05, size=20)\n",
    "sns.heatmap(X_train.merge(y_train , on = X_train.index ).corr(),linewidths=0.1,vmax=1.0, \n",
    "            square=True, cmap='gist_rainbow_r', linecolor='white', annot=True)"
   ]
  },
  {
   "cell_type": "markdown",
   "id": "e3b0d745",
   "metadata": {
    "id": "e3b0d745"
   },
   "source": [
    "#### Calling variance threshold for threshold value = 0.8\n",
    "\n",
    "- Note -  Fill in the blanks to call the appropriate method"
   ]
  },
  {
   "cell_type": "code",
   "execution_count": 243,
   "id": "a9b2080f",
   "metadata": {
    "id": "a9b2080f"
   },
   "outputs": [
    {
     "data": {
      "text/plain": [
       "VarianceThreshold(threshold=0.8)"
      ]
     },
     "execution_count": 243,
     "metadata": {},
     "output_type": "execute_result"
    }
   ],
   "source": [
    "from sklearn.feature_selection import VarianceThreshold\n",
    "sel = VarianceThreshold(0.8)\n",
    "sel.fit(X_train)"
   ]
  },
  {
   "cell_type": "code",
   "execution_count": 244,
   "id": "6cb8c3dc",
   "metadata": {
    "id": "6cb8c3dc"
   },
   "outputs": [
    {
     "data": {
      "text/plain": [
       "array([1.82220128e+15, 1.13383220e-01, 8.36086035e+16, 1.33552114e+09,\n",
       "       2.99575977e-01, 1.05094161e+06, 1.29138131e+02, 8.17030611e+01,\n",
       "       1.17450255e+01, 1.13839744e-01, 7.74824998e+01, 1.21433279e+01,\n",
       "       1.13799963e-01, 7.65217647e+01, 1.19951367e+01, 1.16613736e-01])"
      ]
     },
     "execution_count": 244,
     "metadata": {},
     "output_type": "execute_result"
    }
   ],
   "source": [
    "sel.variances_"
   ]
  },
  {
   "cell_type": "markdown",
   "id": "62633a84",
   "metadata": {
    "id": "62633a84"
   },
   "source": [
    "### Features columns are \n",
    "- 'year_of_createdate' \n",
    "- 'year_of_due'\n",
    "- 'day_of_createdate'\n",
    "- 'year_of_postingdate'\n",
    "- 'month_of_due'\n",
    "- 'month_of_createdate'"
   ]
  },
  {
   "cell_type": "markdown",
   "id": "651f1ad0",
   "metadata": {
    "id": "651f1ad0"
   },
   "source": [
    "# Modelling \n",
    "\n",
    "#### Now you need to compare with different machine learning models, and needs to find out the best predicted model\n",
    "\n",
    "- Linear Regression\n",
    "- Decision Tree Regression\n",
    "- Random Forest Regression\n",
    "- Support Vector Regression\n",
    "- Extreme Gradient Boost Regression "
   ]
  },
  {
   "cell_type": "markdown",
   "id": "PicEhSuUUOkt",
   "metadata": {
    "id": "PicEhSuUUOkt"
   },
   "source": [
    "### You need to make different blank list for different evaluation matrix \n",
    "\n",
    "- MSE\n",
    "- R2\n",
    "- Algorithm"
   ]
  },
  {
   "cell_type": "code",
   "execution_count": 245,
   "id": "701e12b0",
   "metadata": {
    "id": "701e12b0"
   },
   "outputs": [],
   "source": [
    "MSE_Score = []\n",
    "R2_Score = []\n",
    "Algorithm = []\n",
    "from sklearn.metrics import mean_squared_error\n",
    "from sklearn.metrics import r2_score"
   ]
  },
  {
   "cell_type": "markdown",
   "id": "29310119",
   "metadata": {
    "id": "29310119"
   },
   "source": [
    "### You need to start with the baseline model Linear Regression\n",
    "\n",
    "- Step 1 : Call the Linear Regression from sklearn library\n",
    "- Step 2 : make an object of Linear Regression \n",
    "- Step 3 : fit the X_train and y_train dataframe into the object \n",
    "- Step 4 : Predict the output by passing the X_test Dataset into predict function\n",
    "\n",
    "\n",
    "\n",
    "\n",
    "- Note - Append the Algorithm name into the algorithm list for tracking purpose"
   ]
  },
  {
   "cell_type": "code",
   "execution_count": 246,
   "id": "6bdea395",
   "metadata": {
    "id": "6bdea395"
   },
   "outputs": [],
   "source": [
    "from sklearn.linear_model import LinearRegression\n",
    "Algorithm.append('LinearRegression')\n",
    "regressor = LinearRegression()\n",
    "regressor.fit(X_train, y_train)\n",
    "predicted= regressor.predict(X_test)"
   ]
  },
  {
   "cell_type": "markdown",
   "id": "G02cpnBhXJ14",
   "metadata": {
    "id": "G02cpnBhXJ14"
   },
   "source": [
    "### Check for the \n",
    "\n",
    "- Mean Square Error\n",
    "- R Square Error \n",
    "\n",
    "for y_test and predicted dataset and store those data inside respective list for comparison "
   ]
  },
  {
   "cell_type": "code",
   "execution_count": 247,
   "id": "0f69ca19",
   "metadata": {
    "id": "0f69ca19"
   },
   "outputs": [],
   "source": [
    "MSE_Score.append(mean_squared_error(y_test, predicted))\n",
    "R2_Score.append(r2_score(y_test, predicted))"
   ]
  },
  {
   "cell_type": "markdown",
   "id": "CsmScbHjYMv1",
   "metadata": {
    "id": "CsmScbHjYMv1"
   },
   "source": [
    "### Check the same for the Validation set also "
   ]
  },
  {
   "cell_type": "code",
   "execution_count": 248,
   "id": "fe653295",
   "metadata": {
    "colab": {
     "base_uri": "https://localhost:8080/"
    },
    "executionInfo": {
     "elapsed": 10,
     "status": "ok",
     "timestamp": 1643093994094,
     "user": {
      "displayName": "Chandramouli Das",
      "photoUrl": "https://lh3.googleusercontent.com/a-/AOh14GgsMuDXf6PZsS77v0Q5x8metxFPnlLXsBC6Y3O7=s64",
      "userId": "13777762579346461395"
     },
     "user_tz": -330
    },
    "id": "fe653295",
    "outputId": "0c7429ca-50d0-42a2-96a1-effaa92f549e"
   },
   "outputs": [
    {
     "data": {
      "text/plain": [
       "2507283.2032310073"
      ]
     },
     "execution_count": 248,
     "metadata": {},
     "output_type": "execute_result"
    }
   ],
   "source": [
    "predict_test= regressor.predict(X_val)\n",
    "mean_squared_error(y_val, predict_test, squared=False)"
   ]
  },
  {
   "cell_type": "markdown",
   "id": "LokxV2LGYUVh",
   "metadata": {
    "id": "LokxV2LGYUVh"
   },
   "source": [
    "### Display The Comparison Lists"
   ]
  },
  {
   "cell_type": "code",
   "execution_count": 249,
   "id": "9c405bd3",
   "metadata": {
    "colab": {
     "base_uri": "https://localhost:8080/"
    },
    "executionInfo": {
     "elapsed": 8,
     "status": "ok",
     "timestamp": 1643093994095,
     "user": {
      "displayName": "Chandramouli Das",
      "photoUrl": "https://lh3.googleusercontent.com/a-/AOh14GgsMuDXf6PZsS77v0Q5x8metxFPnlLXsBC6Y3O7=s64",
      "userId": "13777762579346461395"
     },
     "user_tz": -330
    },
    "id": "9c405bd3",
    "outputId": "9d78f4a9-33fc-48d1-edc8-c997eca38de0"
   },
   "outputs": [
    {
     "name": "stdout",
     "output_type": "stream",
     "text": [
      "['LinearRegression'],[5910421241388.919],[0.04441721597801618],"
     ]
    }
   ],
   "source": [
    "for i in Algorithm, MSE_Score, R2_Score:\n",
    "    print(i,end=',')"
   ]
  },
  {
   "cell_type": "markdown",
   "id": "b0e65c86",
   "metadata": {
    "id": "b0e65c86"
   },
   "source": [
    "### You need to start with the baseline model Support Vector Regression\n",
    "\n",
    "- Step 1 : Call the Support Vector Regressor from sklearn library\n",
    "- Step 2 : make an object of SVR\n",
    "- Step 3 : fit the X_train and y_train dataframe into the object \n",
    "- Step 4 : Predict the output by passing the X_test Dataset into predict function\n",
    "\n",
    "\n",
    "\n",
    "\n",
    "- Note - Append the Algorithm name into the algorithm list for tracking purpose"
   ]
  },
  {
   "cell_type": "code",
   "execution_count": 250,
   "id": "ccb5de08",
   "metadata": {
    "id": "ccb5de08"
   },
   "outputs": [],
   "source": [
    "from sklearn.svm import SVR\n",
    "\n",
    "Algorithm.append('Support Vector Regression')\n",
    "regressor1 = SVR()\n",
    "regressor1.fit(X_train, y_train)\n",
    "predicted = regressor1.predict(X_test)"
   ]
  },
  {
   "cell_type": "markdown",
   "id": "zz9kcrViYt7e",
   "metadata": {
    "id": "zz9kcrViYt7e"
   },
   "source": [
    "### Check for the \n",
    "\n",
    "- Mean Square Error\n",
    "- R Square Error \n",
    "\n",
    "for \"y_test\" and \"predicted\" dataset and store those data inside respective list for comparison "
   ]
  },
  {
   "cell_type": "code",
   "execution_count": 251,
   "id": "5bb9db76",
   "metadata": {
    "id": "5bb9db76"
   },
   "outputs": [],
   "source": [
    "MSE_Score.append(mean_squared_error(y_test, predicted))\n",
    "R2_Score.append(r2_score(y_test, predicted))"
   ]
  },
  {
   "cell_type": "markdown",
   "id": "0YAxd8N9Y0hJ",
   "metadata": {
    "id": "0YAxd8N9Y0hJ"
   },
   "source": [
    "### Check the same for the Validation set also "
   ]
  },
  {
   "cell_type": "code",
   "execution_count": 252,
   "id": "d6ee71b1",
   "metadata": {
    "id": "d6ee71b1"
   },
   "outputs": [
    {
     "data": {
      "text/plain": [
       "2562754.397847365"
      ]
     },
     "execution_count": 252,
     "metadata": {},
     "output_type": "execute_result"
    }
   ],
   "source": [
    "predicted_val= regressor1.predict(X_val)\n",
    "mean_squared_error(y_val, predicted_val,squared=False)"
   ]
  },
  {
   "cell_type": "markdown",
   "id": "eGcqS5EcY4BI",
   "metadata": {
    "id": "eGcqS5EcY4BI"
   },
   "source": [
    "### Display The Comparison Lists"
   ]
  },
  {
   "cell_type": "code",
   "execution_count": 253,
   "id": "aa72c1ec",
   "metadata": {
    "id": "aa72c1ec"
   },
   "outputs": [
    {
     "name": "stdout",
     "output_type": "stream",
     "text": [
      "['LinearRegression', 'Support Vector Regression'],[5910421241388.919, 6193401998188.489],[0.04441721597801618, -0.001334436630696434],"
     ]
    }
   ],
   "source": [
    "for i in Algorithm, MSE_Score, R2_Score:\n",
    "  print(i,end=',')"
   ]
  },
  {
   "cell_type": "markdown",
   "id": "dad18bb3",
   "metadata": {
    "id": "dad18bb3"
   },
   "source": [
    "### Your next model would be Decision Tree Regression\n",
    "\n",
    "- Step 1 : Call the Decision Tree Regressor from sklearn library\n",
    "- Step 2 : make an object of Decision Tree\n",
    "- Step 3 : fit the X_train and y_train dataframe into the object \n",
    "- Step 4 : Predict the output by passing the X_test Dataset into predict function\n",
    "\n",
    "\n",
    "\n",
    "\n",
    "- Note - Append the Algorithm name into the algorithm list for tracking purpose"
   ]
  },
  {
   "cell_type": "code",
   "execution_count": 254,
   "id": "1b6a51eb",
   "metadata": {
    "id": "1b6a51eb"
   },
   "outputs": [],
   "source": [
    "from sklearn.tree import DecisionTreeRegressor\n",
    "Algorithm.append('Decision Tree Regressor')\n",
    "clf = DecisionTreeRegressor()\n",
    "clf.fit(X_train, y_train)\n",
    "\n",
    "\n",
    "predicted = clf.predict(X_test)"
   ]
  },
  {
   "cell_type": "markdown",
   "id": "AOzfgfeOZo3F",
   "metadata": {
    "id": "AOzfgfeOZo3F"
   },
   "source": [
    "### Check for the \n",
    "\n",
    "- Mean Square Error\n",
    "- R Square Error \n",
    "\n",
    "for y_test and predicted dataset and store those data inside respective list for comparison "
   ]
  },
  {
   "cell_type": "code",
   "execution_count": 255,
   "id": "776e6983",
   "metadata": {
    "id": "776e6983"
   },
   "outputs": [],
   "source": [
    "MSE_Score.append(mean_squared_error(y_test, predicted))\n",
    "R2_Score.append(r2_score(y_test, predicted))"
   ]
  },
  {
   "cell_type": "markdown",
   "id": "eI6d49DQZrhW",
   "metadata": {
    "id": "eI6d49DQZrhW"
   },
   "source": [
    "### Check the same for the Validation set also "
   ]
  },
  {
   "cell_type": "code",
   "execution_count": 256,
   "id": "155fb55c",
   "metadata": {
    "id": "155fb55c"
   },
   "outputs": [
    {
     "data": {
      "text/plain": [
       "3354281.779292129"
      ]
     },
     "execution_count": 256,
     "metadata": {},
     "output_type": "execute_result"
    }
   ],
   "source": [
    "predicted_val1= clf.predict(X_val)\n",
    "mean_squared_error(y_val, predicted_val1,squared=False)"
   ]
  },
  {
   "cell_type": "markdown",
   "id": "sbGXvBLQZw5E",
   "metadata": {
    "id": "sbGXvBLQZw5E"
   },
   "source": [
    "### Display The Comparison Lists"
   ]
  },
  {
   "cell_type": "code",
   "execution_count": 257,
   "id": "1d74d515",
   "metadata": {
    "id": "1d74d515"
   },
   "outputs": [
    {
     "name": "stdout",
     "output_type": "stream",
     "text": [
      "['LinearRegression', 'Support Vector Regression', 'Decision Tree Regressor'],[5910421241388.919, 6193401998188.489, 10385577989586.223],[0.04441721597801618, -0.001334436630696434, -0.6791154341875782],"
     ]
    }
   ],
   "source": [
    "for i in Algorithm, MSE_Score, R2_Score:\n",
    "  print(i,end=',')"
   ]
  },
  {
   "cell_type": "markdown",
   "id": "4ae9979b",
   "metadata": {
    "id": "4ae9979b"
   },
   "source": [
    "### Your next model would be Random Forest Regression\n",
    "\n",
    "- Step 1 : Call the Random Forest Regressor from sklearn library\n",
    "- Step 2 : make an object of Random Forest\n",
    "- Step 3 : fit the X_train and y_train dataframe into the object \n",
    "- Step 4 : Predict the output by passing the X_test Dataset into predict function\n",
    "\n",
    "\n",
    "\n",
    "\n",
    "- Note - Append the Algorithm name into the algorithm list for tracking purpose"
   ]
  },
  {
   "cell_type": "code",
   "execution_count": 258,
   "id": "a69e476a",
   "metadata": {
    "id": "a69e476a"
   },
   "outputs": [],
   "source": [
    "from sklearn.ensemble import RandomForestRegressor\n",
    "Algorithm.append('Random Forest Regressor')\n",
    "clf1 = RandomForestRegressor()\n",
    "clf1.fit(X_train, y_train)\n",
    "\n",
    "\n",
    "predicted = clf1.predict(X_test)"
   ]
  },
  {
   "cell_type": "markdown",
   "id": "XNcEJF-6anof",
   "metadata": {
    "id": "XNcEJF-6anof"
   },
   "source": [
    "### Check for the \n",
    "\n",
    "- Mean Square Error\n",
    "- R Square Error \n",
    "\n",
    "for y_test and predicted dataset and store those data inside respective list for comparison "
   ]
  },
  {
   "cell_type": "code",
   "execution_count": 259,
   "id": "826f63f4",
   "metadata": {
    "id": "826f63f4"
   },
   "outputs": [],
   "source": [
    "MSE_Score.append(mean_squared_error(y_test, predicted))\n",
    "R2_Score.append(r2_score(y_test, predicted))"
   ]
  },
  {
   "cell_type": "markdown",
   "id": "yMbyr9V4ati1",
   "metadata": {
    "id": "yMbyr9V4ati1"
   },
   "source": [
    "### Check the same for the Validation set also "
   ]
  },
  {
   "cell_type": "code",
   "execution_count": 260,
   "id": "55b9fb54",
   "metadata": {
    "id": "55b9fb54"
   },
   "outputs": [
    {
     "data": {
      "text/plain": [
       "2507283.2032310073"
      ]
     },
     "execution_count": 260,
     "metadata": {},
     "output_type": "execute_result"
    }
   ],
   "source": [
    "predicted_val2= regressor.predict(X_val)\n",
    "mean_squared_error(y_val, predicted_val2,squared=False)"
   ]
  },
  {
   "cell_type": "markdown",
   "id": "tiBawcCsaw_Z",
   "metadata": {
    "id": "tiBawcCsaw_Z"
   },
   "source": [
    "### Display The Comparison Lists\n"
   ]
  },
  {
   "cell_type": "code",
   "execution_count": 261,
   "id": "8277c13e",
   "metadata": {
    "id": "8277c13e"
   },
   "outputs": [
    {
     "name": "stdout",
     "output_type": "stream",
     "text": [
      "['LinearRegression', 'Support Vector Regression', 'Decision Tree Regressor', 'Random Forest Regressor'],[5910421241388.919, 6193401998188.489, 10385577989586.223, 4823534590166.934],[0.04441721597801618, -0.001334436630696434, -0.6791154341875782, 0.22014245275436606],"
     ]
    }
   ],
   "source": [
    "for i in Algorithm, MSE_Score, R2_Score:\n",
    "  print(i,end=',')"
   ]
  },
  {
   "cell_type": "markdown",
   "id": "e6b21881",
   "metadata": {
    "id": "e6b21881"
   },
   "source": [
    "### The last but not the least model would be XGBoost or Extreme Gradient Boost Regression\n",
    "\n",
    "- Step 1 : Call the XGBoost Regressor from xgb library\n",
    "- Step 2 : make an object of Xgboost\n",
    "- Step 3 : fit the X_train and y_train dataframe into the object \n",
    "- Step 4 : Predict the output by passing the X_test Dataset into predict function\n",
    "\n",
    "\n",
    "\n",
    "\n",
    "- Note - Append the Algorithm name into the algorithm list for tracking purpose### Extreme Gradient Boost Regression\n",
    "- Note -  No need to change the code "
   ]
  },
  {
   "cell_type": "code",
   "execution_count": 262,
   "id": "705a38ec",
   "metadata": {
    "id": "705a38ec"
   },
   "outputs": [],
   "source": [
    "Algorithm.append('Extreme Gradient Boost Regression')\n",
    "clf2 = xgb.XGBRegressor()\n",
    "clf2.fit(X_train, y_train)\n",
    "\n",
    "\n",
    "predicted = clf2.predict(X_test)"
   ]
  },
  {
   "cell_type": "markdown",
   "id": "ierNZkb9bQDD",
   "metadata": {
    "id": "ierNZkb9bQDD"
   },
   "source": [
    "### Check for the \n",
    "\n",
    "- Mean Square Error\n",
    "- R Square Error \n",
    "\n",
    "for y_test and predicted dataset and store those data inside respective list for comparison "
   ]
  },
  {
   "cell_type": "code",
   "execution_count": 263,
   "id": "507a9d2f",
   "metadata": {
    "id": "507a9d2f"
   },
   "outputs": [],
   "source": [
    "MSE_Score.append(mean_squared_error(y_test, predicted))\n",
    "R2_Score.append(r2_score(y_test, predicted))"
   ]
  },
  {
   "cell_type": "markdown",
   "id": "84UZ2ojsbWaH",
   "metadata": {
    "id": "84UZ2ojsbWaH"
   },
   "source": [
    "### Check the same for the Validation set also "
   ]
  },
  {
   "cell_type": "code",
   "execution_count": 264,
   "id": "e78ac250",
   "metadata": {
    "id": "e78ac250"
   },
   "outputs": [
    {
     "data": {
      "text/plain": [
       "2276014.5205546706"
      ]
     },
     "execution_count": 264,
     "metadata": {},
     "output_type": "execute_result"
    }
   ],
   "source": [
    "predicted_val3= clf2.predict(X_val)\n",
    "mean_squared_error(y_val, predicted_val3,squared=False)"
   ]
  },
  {
   "cell_type": "markdown",
   "id": "9FJFyaVbbbAH",
   "metadata": {
    "id": "9FJFyaVbbbAH"
   },
   "source": [
    "### Display The Comparison Lists\n"
   ]
  },
  {
   "cell_type": "code",
   "execution_count": 265,
   "id": "f765ba35",
   "metadata": {
    "id": "f765ba35"
   },
   "outputs": [
    {
     "name": "stdout",
     "output_type": "stream",
     "text": [
      "['LinearRegression', 'Support Vector Regression', 'Decision Tree Regressor', 'Random Forest Regressor', 'Extreme Gradient Boost Regression'],[5910421241388.919, 6193401998188.489, 10385577989586.223, 4823534590166.934, 5027168529652.733],[0.04441721597801618, -0.001334436630696434, -0.6791154341875782, 0.22014245275436606, 0.1872194039786621],"
     ]
    }
   ],
   "source": [
    "for i in Algorithm, MSE_Score, R2_Score:\n",
    "  print(i,end=',')"
   ]
  },
  {
   "cell_type": "markdown",
   "id": "a71bc90f",
   "metadata": {
    "id": "a71bc90f"
   },
   "source": [
    "## You need to make the comparison list into a comparison dataframe "
   ]
  },
  {
   "cell_type": "code",
   "execution_count": 266,
   "id": "ff5159a7",
   "metadata": {
    "id": "ff5159a7"
   },
   "outputs": [
    {
     "data": {
      "text/html": [
       "<div>\n",
       "<style scoped>\n",
       "    .dataframe tbody tr th:only-of-type {\n",
       "        vertical-align: middle;\n",
       "    }\n",
       "\n",
       "    .dataframe tbody tr th {\n",
       "        vertical-align: top;\n",
       "    }\n",
       "\n",
       "    .dataframe thead th {\n",
       "        text-align: right;\n",
       "    }\n",
       "</style>\n",
       "<table border=\"1\" class=\"dataframe\">\n",
       "  <thead>\n",
       "    <tr style=\"text-align: right;\">\n",
       "      <th></th>\n",
       "      <th>Algorithm</th>\n",
       "      <th>MSE_Score</th>\n",
       "      <th>R2_Score</th>\n",
       "    </tr>\n",
       "  </thead>\n",
       "  <tbody>\n",
       "    <tr>\n",
       "      <th>0</th>\n",
       "      <td>LinearRegression</td>\n",
       "      <td>5.910421e+12</td>\n",
       "      <td>0.044417</td>\n",
       "    </tr>\n",
       "    <tr>\n",
       "      <th>1</th>\n",
       "      <td>Support Vector Regression</td>\n",
       "      <td>6.193402e+12</td>\n",
       "      <td>-0.001334</td>\n",
       "    </tr>\n",
       "    <tr>\n",
       "      <th>2</th>\n",
       "      <td>Decision Tree Regressor</td>\n",
       "      <td>1.038558e+13</td>\n",
       "      <td>-0.679115</td>\n",
       "    </tr>\n",
       "    <tr>\n",
       "      <th>3</th>\n",
       "      <td>Random Forest Regressor</td>\n",
       "      <td>4.823535e+12</td>\n",
       "      <td>0.220142</td>\n",
       "    </tr>\n",
       "    <tr>\n",
       "      <th>4</th>\n",
       "      <td>Extreme Gradient Boost Regression</td>\n",
       "      <td>5.027169e+12</td>\n",
       "      <td>0.187219</td>\n",
       "    </tr>\n",
       "  </tbody>\n",
       "</table>\n",
       "</div>"
      ],
      "text/plain": [
       "                           Algorithm     MSE_Score  R2_Score\n",
       "0                   LinearRegression  5.910421e+12  0.044417\n",
       "1          Support Vector Regression  6.193402e+12 -0.001334\n",
       "2            Decision Tree Regressor  1.038558e+13 -0.679115\n",
       "3            Random Forest Regressor  4.823535e+12  0.220142\n",
       "4  Extreme Gradient Boost Regression  5.027169e+12  0.187219"
      ]
     },
     "execution_count": 266,
     "metadata": {},
     "output_type": "execute_result"
    }
   ],
   "source": [
    "Comparison = pd.DataFrame(list(zip(Algorithm, MSE_Score, R2_Score)), columns = ['Algorithm', 'MSE_Score', 'R2_Score'])\n",
    "Comparison"
   ]
  },
  {
   "cell_type": "markdown",
   "id": "62e61c60",
   "metadata": {
    "id": "62e61c60"
   },
   "source": [
    "## Now from the Comparison table, you need to choose the best fit model\n",
    "\n",
    "- Step 1 - Fit X_train and y_train inside the model \n",
    "- Step 2 - Predict the X_test dataset\n",
    "- Step 3 - Predict the X_val dataset\n",
    "\n",
    "\n",
    "- Note - No need to change the code"
   ]
  },
  {
   "cell_type": "code",
   "execution_count": 307,
   "id": "3e07c258",
   "metadata": {
    "id": "3e07c258"
   },
   "outputs": [],
   "source": [
    "regressorfinal = RandomForestRegressor()\n",
    "regressorfinal.fit(X_train, y_train)\n",
    "predictedfinal = regressorfinal.predict(X_test)\n",
    "predict_testfinal = regressorfinal.predict(X_val)"
   ]
  },
  {
   "cell_type": "markdown",
   "id": "8e4df6c4",
   "metadata": {
    "id": "8e4df6c4"
   },
   "source": [
    "### Calculate the Mean Square Error for test dataset\n",
    "\n",
    "- Note - No need to change the code"
   ]
  },
  {
   "cell_type": "code",
   "execution_count": 308,
   "id": "5fb466d0",
   "metadata": {
    "id": "5fb466d0"
   },
   "outputs": [
    {
     "data": {
      "text/plain": [
       "2201096.9144651038"
      ]
     },
     "execution_count": 308,
     "metadata": {},
     "output_type": "execute_result"
    }
   ],
   "source": [
    "mean_squared_error(y_test,predictedfinal,squared=False)"
   ]
  },
  {
   "cell_type": "markdown",
   "id": "ce27f87f",
   "metadata": {
    "id": "ce27f87f"
   },
   "source": [
    "### Calculate the mean Square Error for validation dataset"
   ]
  },
  {
   "cell_type": "code",
   "execution_count": 309,
   "id": "b47978ea",
   "metadata": {
    "id": "b47978ea"
   },
   "outputs": [
    {
     "data": {
      "text/plain": [
       "2906353.48841253"
      ]
     },
     "execution_count": 309,
     "metadata": {},
     "output_type": "execute_result"
    }
   ],
   "source": [
    "mean_squared_error(y_val,predictedfinal,squared=False)"
   ]
  },
  {
   "cell_type": "markdown",
   "id": "30014dbd",
   "metadata": {
    "id": "30014dbd"
   },
   "source": [
    "### Calculate the R2 score for test"
   ]
  },
  {
   "cell_type": "code",
   "execution_count": 310,
   "id": "8a162737",
   "metadata": {
    "id": "8a162737"
   },
   "outputs": [
    {
     "data": {
      "text/plain": [
       "0.21669984545788268"
      ]
     },
     "execution_count": 310,
     "metadata": {},
     "output_type": "execute_result"
    }
   ],
   "source": [
    "r2_score(y_test, predictedfinal)"
   ]
  },
  {
   "cell_type": "markdown",
   "id": "1c9853b0",
   "metadata": {
    "id": "1c9853b0"
   },
   "source": [
    "### Calculate the R2 score for Validation"
   ]
  },
  {
   "cell_type": "code",
   "execution_count": 311,
   "id": "1a6dc77c",
   "metadata": {
    "id": "1a6dc77c"
   },
   "outputs": [
    {
     "data": {
      "text/plain": [
       "-0.28980845111195563"
      ]
     },
     "execution_count": 311,
     "metadata": {},
     "output_type": "execute_result"
    }
   ],
   "source": [
    "r2_score(y_val, predictedfinal)"
   ]
  },
  {
   "cell_type": "markdown",
   "id": "499522d9",
   "metadata": {
    "id": "499522d9"
   },
   "source": [
    "### Calculate the Accuracy for train Dataset "
   ]
  },
  {
   "cell_type": "code",
   "execution_count": 312,
   "id": "7a4f1ce8",
   "metadata": {
    "id": "7a4f1ce8"
   },
   "outputs": [
    {
     "data": {
      "text/plain": [
       "0.8894418524744216"
      ]
     },
     "execution_count": 312,
     "metadata": {},
     "output_type": "execute_result"
    }
   ],
   "source": [
    "regressorfinal.score(X_train,y_train)"
   ]
  },
  {
   "cell_type": "markdown",
   "id": "12a1c921",
   "metadata": {
    "id": "12a1c921"
   },
   "source": [
    "### Calculate the accuracy for validation"
   ]
  },
  {
   "cell_type": "code",
   "execution_count": 313,
   "id": "d2579b4f",
   "metadata": {
    "id": "d2579b4f"
   },
   "outputs": [
    {
     "data": {
      "text/plain": [
       "0.2091174190172359"
      ]
     },
     "execution_count": 313,
     "metadata": {},
     "output_type": "execute_result"
    }
   ],
   "source": [
    "regressorfinal.score(X_val,y_val)"
   ]
  },
  {
   "cell_type": "markdown",
   "id": "79b82e84",
   "metadata": {
    "id": "79b82e84"
   },
   "source": [
    "### Calculate the accuracy for test"
   ]
  },
  {
   "cell_type": "code",
   "execution_count": 314,
   "id": "f09e6431",
   "metadata": {
    "id": "f09e6431"
   },
   "outputs": [
    {
     "data": {
      "text/plain": [
       "0.21669984545788268"
      ]
     },
     "execution_count": 314,
     "metadata": {},
     "output_type": "execute_result"
    }
   ],
   "source": [
    "regressorfinal.score(X_test,y_test)"
   ]
  },
  {
   "cell_type": "markdown",
   "id": "9488a5d9",
   "metadata": {
    "id": "9488a5d9"
   },
   "source": [
    "## Specify the reason behind choosing your machine learning model \n",
    "\n",
    "- Note : Provide your answer as a text here\n",
    "\n",
    "The two main reasons of using RandomForest  are execution speed and model performance.Its gives better accuracy than other model of the given problem statement.It has also Efficient memory management for large datasets exceeding RAM.Also it has Low Bias, Moderate Variance\n"
   ]
  },
  {
   "cell_type": "markdown",
   "id": "387a6519",
   "metadata": {
    "id": "387a6519"
   },
   "source": [
    "## Now you need to pass the Nulldata dataframe into this machine learning model\n",
    "\n",
    "#### In order to pass this Nulldata dataframe into the ML model, we need to perform the following\n",
    "\n",
    "- Step 1 : Label Encoding \n",
    "- Step 2 : Day, Month and Year extraction \n",
    "- Step 3 : Change all the column data type into int64 or float64\n",
    "- Step 4 : Need to drop the useless columns "
   ]
  },
  {
   "cell_type": "markdown",
   "id": "I7JuxAkdiAdI",
   "metadata": {
    "id": "I7JuxAkdiAdI"
   },
   "source": [
    "### Display the Nulldata "
   ]
  },
  {
   "cell_type": "code",
   "execution_count": 275,
   "id": "6d6a51d2",
   "metadata": {
    "id": "6d6a51d2"
   },
   "outputs": [
    {
     "data": {
      "text/html": [
       "<div>\n",
       "<style scoped>\n",
       "    .dataframe tbody tr th:only-of-type {\n",
       "        vertical-align: middle;\n",
       "    }\n",
       "\n",
       "    .dataframe tbody tr th {\n",
       "        vertical-align: top;\n",
       "    }\n",
       "\n",
       "    .dataframe thead th {\n",
       "        text-align: right;\n",
       "    }\n",
       "</style>\n",
       "<table border=\"1\" class=\"dataframe\">\n",
       "  <thead>\n",
       "    <tr style=\"text-align: right;\">\n",
       "      <th></th>\n",
       "      <th>business_code</th>\n",
       "      <th>cust_number</th>\n",
       "      <th>name_customer</th>\n",
       "      <th>clear_date</th>\n",
       "      <th>buisness_year</th>\n",
       "      <th>doc_id</th>\n",
       "      <th>posting_date</th>\n",
       "      <th>due_in_date</th>\n",
       "      <th>baseline_create_date</th>\n",
       "      <th>cust_payment_terms</th>\n",
       "      <th>converted_usd</th>\n",
       "    </tr>\n",
       "  </thead>\n",
       "  <tbody>\n",
       "    <tr>\n",
       "      <th>2</th>\n",
       "      <td>U001</td>\n",
       "      <td>200744019</td>\n",
       "      <td>TARG corp</td>\n",
       "      <td>NaT</td>\n",
       "      <td>2020</td>\n",
       "      <td>1930687944</td>\n",
       "      <td>2020-03-25</td>\n",
       "      <td>2020-04-09</td>\n",
       "      <td>2020-03-25</td>\n",
       "      <td>NAA8</td>\n",
       "      <td>11537.62</td>\n",
       "    </tr>\n",
       "    <tr>\n",
       "      <th>5</th>\n",
       "      <td>U001</td>\n",
       "      <td>200769623</td>\n",
       "      <td>WAL-MAR us</td>\n",
       "      <td>NaT</td>\n",
       "      <td>2020</td>\n",
       "      <td>1930832258</td>\n",
       "      <td>2020-04-28</td>\n",
       "      <td>2020-05-13</td>\n",
       "      <td>2020-04-28</td>\n",
       "      <td>NAH4</td>\n",
       "      <td>1991.84</td>\n",
       "    </tr>\n",
       "    <tr>\n",
       "      <th>14</th>\n",
       "      <td>U001</td>\n",
       "      <td>200416837</td>\n",
       "      <td>DEC associates</td>\n",
       "      <td>NaT</td>\n",
       "      <td>2020</td>\n",
       "      <td>1930857750</td>\n",
       "      <td>2020-05-05</td>\n",
       "      <td>2020-05-24</td>\n",
       "      <td>2020-05-01</td>\n",
       "      <td>NAM4</td>\n",
       "      <td>106.20</td>\n",
       "    </tr>\n",
       "    <tr>\n",
       "      <th>17</th>\n",
       "      <td>U001</td>\n",
       "      <td>200790710</td>\n",
       "      <td>F corporation</td>\n",
       "      <td>NaT</td>\n",
       "      <td>2020</td>\n",
       "      <td>1930638031</td>\n",
       "      <td>2020-03-13</td>\n",
       "      <td>2020-03-28</td>\n",
       "      <td>2020-03-13</td>\n",
       "      <td>NAA8</td>\n",
       "      <td>41062.40</td>\n",
       "    </tr>\n",
       "    <tr>\n",
       "      <th>33</th>\n",
       "      <td>U001</td>\n",
       "      <td>200769623</td>\n",
       "      <td>WAL-MAR corporation</td>\n",
       "      <td>NaT</td>\n",
       "      <td>2020</td>\n",
       "      <td>1930719464</td>\n",
       "      <td>2020-01-04</td>\n",
       "      <td>2020-04-16</td>\n",
       "      <td>2020-04-01</td>\n",
       "      <td>NAH4</td>\n",
       "      <td>35878.19</td>\n",
       "    </tr>\n",
       "    <tr>\n",
       "      <th>...</th>\n",
       "      <td>...</td>\n",
       "      <td>...</td>\n",
       "      <td>...</td>\n",
       "      <td>...</td>\n",
       "      <td>...</td>\n",
       "      <td>...</td>\n",
       "      <td>...</td>\n",
       "      <td>...</td>\n",
       "      <td>...</td>\n",
       "      <td>...</td>\n",
       "      <td>...</td>\n",
       "    </tr>\n",
       "    <tr>\n",
       "      <th>49962</th>\n",
       "      <td>U001</td>\n",
       "      <td>100031704</td>\n",
       "      <td>DELHAIZE foundation</td>\n",
       "      <td>NaT</td>\n",
       "      <td>2020</td>\n",
       "      <td>1930797460</td>\n",
       "      <td>2020-04-19</td>\n",
       "      <td>2020-05-04</td>\n",
       "      <td>2020-04-19</td>\n",
       "      <td>NAA8</td>\n",
       "      <td>79418.60</td>\n",
       "    </tr>\n",
       "    <tr>\n",
       "      <th>49967</th>\n",
       "      <td>U001</td>\n",
       "      <td>200727272</td>\n",
       "      <td>BROOKS corporation</td>\n",
       "      <td>NaT</td>\n",
       "      <td>2020</td>\n",
       "      <td>1930775177</td>\n",
       "      <td>2020-11-04</td>\n",
       "      <td>2020-04-26</td>\n",
       "      <td>2020-04-11</td>\n",
       "      <td>NAA8</td>\n",
       "      <td>99977.39</td>\n",
       "    </tr>\n",
       "    <tr>\n",
       "      <th>49974</th>\n",
       "      <td>U001</td>\n",
       "      <td>200803720</td>\n",
       "      <td>DEC foundation</td>\n",
       "      <td>NaT</td>\n",
       "      <td>2020</td>\n",
       "      <td>1930692430</td>\n",
       "      <td>2020-03-24</td>\n",
       "      <td>2020-03-23</td>\n",
       "      <td>2020-03-16</td>\n",
       "      <td>NAM1</td>\n",
       "      <td>7717.20</td>\n",
       "    </tr>\n",
       "    <tr>\n",
       "      <th>49975</th>\n",
       "      <td>U001</td>\n",
       "      <td>200772670</td>\n",
       "      <td>ASSOCIAT in</td>\n",
       "      <td>NaT</td>\n",
       "      <td>2020</td>\n",
       "      <td>1930700158</td>\n",
       "      <td>2020-03-25</td>\n",
       "      <td>2020-04-09</td>\n",
       "      <td>2020-03-25</td>\n",
       "      <td>NAU5</td>\n",
       "      <td>130016.27</td>\n",
       "    </tr>\n",
       "    <tr>\n",
       "      <th>49984</th>\n",
       "      <td>U001</td>\n",
       "      <td>200769623</td>\n",
       "      <td>WAL-MAR us</td>\n",
       "      <td>NaT</td>\n",
       "      <td>2020</td>\n",
       "      <td>1930724296</td>\n",
       "      <td>2020-02-04</td>\n",
       "      <td>2020-04-17</td>\n",
       "      <td>2020-04-02</td>\n",
       "      <td>NAH4</td>\n",
       "      <td>54895.67</td>\n",
       "    </tr>\n",
       "  </tbody>\n",
       "</table>\n",
       "<p>9666 rows × 11 columns</p>\n",
       "</div>"
      ],
      "text/plain": [
       "      business_code cust_number        name_customer clear_date  \\\n",
       "2              U001   200744019            TARG corp        NaT   \n",
       "5              U001   200769623           WAL-MAR us        NaT   \n",
       "14             U001   200416837       DEC associates        NaT   \n",
       "17             U001   200790710        F corporation        NaT   \n",
       "33             U001   200769623  WAL-MAR corporation        NaT   \n",
       "...             ...         ...                  ...        ...   \n",
       "49962          U001   100031704  DELHAIZE foundation        NaT   \n",
       "49967          U001   200727272   BROOKS corporation        NaT   \n",
       "49974          U001   200803720       DEC foundation        NaT   \n",
       "49975          U001   200772670          ASSOCIAT in        NaT   \n",
       "49984          U001   200769623           WAL-MAR us        NaT   \n",
       "\n",
       "       buisness_year      doc_id posting_date due_in_date  \\\n",
       "2               2020  1930687944   2020-03-25  2020-04-09   \n",
       "5               2020  1930832258   2020-04-28  2020-05-13   \n",
       "14              2020  1930857750   2020-05-05  2020-05-24   \n",
       "17              2020  1930638031   2020-03-13  2020-03-28   \n",
       "33              2020  1930719464   2020-01-04  2020-04-16   \n",
       "...              ...         ...          ...         ...   \n",
       "49962           2020  1930797460   2020-04-19  2020-05-04   \n",
       "49967           2020  1930775177   2020-11-04  2020-04-26   \n",
       "49974           2020  1930692430   2020-03-24  2020-03-23   \n",
       "49975           2020  1930700158   2020-03-25  2020-04-09   \n",
       "49984           2020  1930724296   2020-02-04  2020-04-17   \n",
       "\n",
       "      baseline_create_date cust_payment_terms  converted_usd  \n",
       "2               2020-03-25               NAA8       11537.62  \n",
       "5               2020-04-28               NAH4        1991.84  \n",
       "14              2020-05-01               NAM4         106.20  \n",
       "17              2020-03-13               NAA8       41062.40  \n",
       "33              2020-04-01               NAH4       35878.19  \n",
       "...                    ...                ...            ...  \n",
       "49962           2020-04-19               NAA8       79418.60  \n",
       "49967           2020-04-11               NAA8       99977.39  \n",
       "49974           2020-03-16               NAM1        7717.20  \n",
       "49975           2020-03-25               NAU5      130016.27  \n",
       "49984           2020-04-02               NAH4       54895.67  \n",
       "\n",
       "[9666 rows x 11 columns]"
      ]
     },
     "execution_count": 275,
     "metadata": {},
     "output_type": "execute_result"
    }
   ],
   "source": [
    "nulldata"
   ]
  },
  {
   "cell_type": "markdown",
   "id": "Vamx5xqtiHCH",
   "metadata": {
    "id": "Vamx5xqtiHCH"
   },
   "source": [
    "### Check for the number of rows and columns in the nulldata"
   ]
  },
  {
   "cell_type": "code",
   "execution_count": 276,
   "id": "59de1092",
   "metadata": {
    "id": "59de1092"
   },
   "outputs": [
    {
     "data": {
      "text/plain": [
       "(9666, 11)"
      ]
     },
     "execution_count": 276,
     "metadata": {},
     "output_type": "execute_result"
    }
   ],
   "source": [
    "nulldata.shape"
   ]
  },
  {
   "cell_type": "markdown",
   "id": "BxzHNbBjpqXL",
   "metadata": {
    "id": "BxzHNbBjpqXL"
   },
   "source": [
    "### Check the Description and Information of the nulldata "
   ]
  },
  {
   "cell_type": "code",
   "execution_count": 277,
   "id": "a6294d29",
   "metadata": {
    "id": "a6294d29"
   },
   "outputs": [
    {
     "data": {
      "text/plain": [
       "<bound method NDFrame.describe of       business_code cust_number        name_customer clear_date  \\\n",
       "2              U001   200744019            TARG corp        NaT   \n",
       "5              U001   200769623           WAL-MAR us        NaT   \n",
       "14             U001   200416837       DEC associates        NaT   \n",
       "17             U001   200790710        F corporation        NaT   \n",
       "33             U001   200769623  WAL-MAR corporation        NaT   \n",
       "...             ...         ...                  ...        ...   \n",
       "49962          U001   100031704  DELHAIZE foundation        NaT   \n",
       "49967          U001   200727272   BROOKS corporation        NaT   \n",
       "49974          U001   200803720       DEC foundation        NaT   \n",
       "49975          U001   200772670          ASSOCIAT in        NaT   \n",
       "49984          U001   200769623           WAL-MAR us        NaT   \n",
       "\n",
       "       buisness_year      doc_id posting_date due_in_date  \\\n",
       "2               2020  1930687944   2020-03-25  2020-04-09   \n",
       "5               2020  1930832258   2020-04-28  2020-05-13   \n",
       "14              2020  1930857750   2020-05-05  2020-05-24   \n",
       "17              2020  1930638031   2020-03-13  2020-03-28   \n",
       "33              2020  1930719464   2020-01-04  2020-04-16   \n",
       "...              ...         ...          ...         ...   \n",
       "49962           2020  1930797460   2020-04-19  2020-05-04   \n",
       "49967           2020  1930775177   2020-11-04  2020-04-26   \n",
       "49974           2020  1930692430   2020-03-24  2020-03-23   \n",
       "49975           2020  1930700158   2020-03-25  2020-04-09   \n",
       "49984           2020  1930724296   2020-02-04  2020-04-17   \n",
       "\n",
       "      baseline_create_date cust_payment_terms  converted_usd  \n",
       "2               2020-03-25               NAA8       11537.62  \n",
       "5               2020-04-28               NAH4        1991.84  \n",
       "14              2020-05-01               NAM4         106.20  \n",
       "17              2020-03-13               NAA8       41062.40  \n",
       "33              2020-04-01               NAH4       35878.19  \n",
       "...                    ...                ...            ...  \n",
       "49962           2020-04-19               NAA8       79418.60  \n",
       "49967           2020-04-11               NAA8       99977.39  \n",
       "49974           2020-03-16               NAM1        7717.20  \n",
       "49975           2020-03-25               NAU5      130016.27  \n",
       "49984           2020-04-02               NAH4       54895.67  \n",
       "\n",
       "[9666 rows x 11 columns]>"
      ]
     },
     "execution_count": 277,
     "metadata": {},
     "output_type": "execute_result"
    }
   ],
   "source": [
    "nulldata.info\n",
    "nulldata.describe"
   ]
  },
  {
   "cell_type": "markdown",
   "id": "fe860d94",
   "metadata": {
    "id": "fe860d94"
   },
   "source": [
    "### Storing the Nulldata into a different dataset \n",
    "# for BACKUP"
   ]
  },
  {
   "cell_type": "code",
   "execution_count": 278,
   "id": "16352034",
   "metadata": {
    "id": "16352034"
   },
   "outputs": [],
   "source": [
    "nulldata1=nulldata.copy()"
   ]
  },
  {
   "cell_type": "markdown",
   "id": "00f35b8c",
   "metadata": {
    "id": "00f35b8c"
   },
   "source": [
    "### Call the Label Encoder for Nulldata\n",
    "\n",
    "- Note - you are expected to fit \"business_code\" as it is a categorical variable\n",
    "- Note - No need to change the code"
   ]
  },
  {
   "cell_type": "code",
   "execution_count": 279,
   "id": "baf04b17",
   "metadata": {
    "id": "baf04b17"
   },
   "outputs": [],
   "source": [
    "from sklearn.preprocessing import LabelEncoder\n",
    "business_codern = LabelEncoder()\n",
    "business_codern.fit(nulldata['business_code'])\n",
    "nulldata['business_code_enc'] = business_codern.transform(nulldata['business_code'])"
   ]
  },
  {
   "cell_type": "markdown",
   "id": "ZCPBK9karIR-",
   "metadata": {
    "id": "ZCPBK9karIR-"
   },
   "source": [
    "### Now you need to manually replacing str values with numbers\n",
    "- Note - No need to change the code"
   ]
  },
  {
   "cell_type": "code",
   "execution_count": 280,
   "id": "c64924be",
   "metadata": {
    "id": "c64924be"
   },
   "outputs": [],
   "source": [
    "nulldata['cust_number'] = nulldata['cust_number'].str.replace('CCCA',\"1\").str.replace('CCU',\"2\").str.replace('CC',\"3\").astype(int)"
   ]
  },
  {
   "cell_type": "markdown",
   "id": "9a55f5f6",
   "metadata": {
    "id": "9a55f5f6"
   },
   "source": [
    "## You need to extract day, month and year from the \"clear_date\", \"posting_date\", \"due_in_date\", \"baseline_create_date\" columns\n",
    "\n",
    "\n",
    "##### 1.   Extract day from \"clear_date\" column and store it into 'day_of_cleardate'\n",
    "##### 2.   Extract month from \"clear_date\" column and store it into 'month_of_cleardate'\n",
    "##### 3.   Extract year from \"clear_date\" column and store it into 'year_of_cleardate'\n",
    "\n",
    "\n",
    "\n",
    "##### 4.   Extract day from \"posting_date\" column and store it into 'day_of_postingdate'\n",
    "##### 5.   Extract month from \"posting_date\" column and store it into 'month_of_postingdate'\n",
    "##### 6.   Extract year from \"posting_date\" column and store it into 'year_of_postingdate'\n",
    "\n",
    "\n",
    "\n",
    "\n",
    "##### 7.   Extract day from \"due_in_date\" column and store it into 'day_of_due'\n",
    "##### 8.   Extract month from \"due_in_date\" column and store it into 'month_of_due'\n",
    "##### 9.   Extract year from \"due_in_date\" column and store it into 'year_of_due'\n",
    "\n",
    "\n",
    "\n",
    "\n",
    "##### 10.   Extract day from \"baseline_create_date\" column and store it into 'day_of_createdate'\n",
    "##### 11.   Extract month from \"baseline_create_date\" column and store it into 'month_of_createdate'\n",
    "##### 12.   Extract year from \"baseline_create_date\" column and store it into 'year_of_createdate'\n",
    "\n",
    "\n",
    "\n",
    "\n",
    "- Note - You are supposed To use - \n",
    "\n",
    "*   dt.day\n",
    "*   dt.month\n",
    "*   dt.year"
   ]
  },
  {
   "cell_type": "code",
   "execution_count": 281,
   "id": "4166fbe4",
   "metadata": {
    "id": "4166fbe4"
   },
   "outputs": [],
   "source": [
    "nulldata['day_of_createdate'] = nulldata['baseline_create_date'].dt.day\n",
    "nulldata['month_of_createdate'] = nulldata['baseline_create_date'].dt.month\n",
    "nulldata['year_of_createdate'] = nulldata['baseline_create_date'].dt.year\n",
    "\n",
    "\n",
    "nulldata['day_of_due'] = nulldata['due_in_date'].dt.day\n",
    "nulldata['month_of_due'] = nulldata['due_in_date'].dt.month\n",
    "nulldata['year_of_due'] = nulldata['due_in_date'].dt.year\n",
    "\n",
    "\n",
    "nulldata['day_of_clearDate'] = nulldata['clear_date'].dt.day\n",
    "nulldata['month_of_clearDate'] = nulldata['clear_date'].dt.month\n",
    "nulldata['year_of_clearDate'] = nulldata['clear_date'].dt.year\n",
    "\n",
    "\n",
    "nulldata['day_of_postingdate'] = nulldata['posting_date'].dt.day\n",
    "nulldata['month_of_postingdate'] = nulldata['posting_date'].dt.month\n",
    "nulldata['year_of_postingdate'] = nulldata['posting_date'].dt.year"
   ]
  },
  {
   "cell_type": "markdown",
   "id": "QeHWJYrAvOC6",
   "metadata": {
    "id": "QeHWJYrAvOC6"
   },
   "source": [
    "### Use Label Encoder1 of all the following columns - \n",
    "- 'cust_payment_terms' and store into 'cust_payment_terms_enc'\n",
    "- 'business_code' and store into 'business_code_enc'\n",
    "- 'name_customer' and store into 'name_customer_enc'\n",
    "\n",
    "Note - No need to change the code"
   ]
  },
  {
   "cell_type": "code",
   "execution_count": 282,
   "id": "bac330e2",
   "metadata": {
    "id": "bac330e2"
   },
   "outputs": [],
   "source": [
    "nulldata['cust_payment_terms_enc']=label_encoder1.transform(nulldata['cust_payment_terms'])\n",
    "nulldata['business_code_enc']=label_encoder1.transform(nulldata['business_code'])\n",
    "nulldata['name_customer_enc']=label_encoder.transform(nulldata['name_customer'])\n"
   ]
  },
  {
   "cell_type": "markdown",
   "id": "zD9I-XqQwC28",
   "metadata": {
    "id": "zD9I-XqQwC28"
   },
   "source": [
    "### Check for the datatypes of all the columns of Nulldata"
   ]
  },
  {
   "cell_type": "code",
   "execution_count": 283,
   "id": "d4f72517",
   "metadata": {
    "id": "d4f72517"
   },
   "outputs": [
    {
     "data": {
      "text/plain": [
       "business_code                     object\n",
       "cust_number                        int32\n",
       "name_customer                     object\n",
       "clear_date                datetime64[ns]\n",
       "buisness_year                      int64\n",
       "doc_id                             int64\n",
       "posting_date              datetime64[ns]\n",
       "due_in_date               datetime64[ns]\n",
       "baseline_create_date      datetime64[ns]\n",
       "cust_payment_terms                object\n",
       "converted_usd                    float64\n",
       "business_code_enc                  int32\n",
       "day_of_createdate                  int64\n",
       "month_of_createdate                int64\n",
       "year_of_createdate                 int64\n",
       "day_of_due                         int64\n",
       "month_of_due                       int64\n",
       "year_of_due                        int64\n",
       "day_of_clearDate                 float64\n",
       "month_of_clearDate               float64\n",
       "year_of_clearDate                float64\n",
       "day_of_postingdate                 int64\n",
       "month_of_postingdate               int64\n",
       "year_of_postingdate                int64\n",
       "cust_payment_terms_enc             int32\n",
       "name_customer_enc                  int32\n",
       "dtype: object"
      ]
     },
     "execution_count": 283,
     "metadata": {},
     "output_type": "execute_result"
    }
   ],
   "source": [
    "nulldata.dtypes"
   ]
  },
  {
   "cell_type": "markdown",
   "id": "17cd5452",
   "metadata": {
    "id": "17cd5452"
   },
   "source": [
    "### Now you need to drop all the unnecessary columns - \n",
    "\n",
    "- 'business_code'\n",
    "- \"baseline_create_date\"\n",
    "- \"due_in_date\"\n",
    "- \"posting_date\"\n",
    "- \"name_customer\"\n",
    "- \"clear_date\"\n",
    "- \"cust_payment_terms\"\n",
    "- 'day_of_cleardate'\n",
    "- \"month_of_cleardate\"\n",
    "- \"year_of_cleardate\""
   ]
  },
  {
   "cell_type": "code",
   "execution_count": 284,
   "id": "d7c82076",
   "metadata": {
    "id": "d7c82076"
   },
   "outputs": [],
   "source": [
    "nulldata.drop(columns=['business_code','baseline_create_date','due_in_date','clear_date','posting_date','name_customer','day_of_clearDate','month_of_clearDate','year_of_clearDate','cust_payment_terms'],inplace=True)"
   ]
  },
  {
   "cell_type": "markdown",
   "id": "Q_NCr9IPweVq",
   "metadata": {
    "id": "Q_NCr9IPweVq"
   },
   "source": [
    "### Check the information of the \"nulldata\" dataframe"
   ]
  },
  {
   "cell_type": "code",
   "execution_count": 285,
   "id": "4e7ffee0",
   "metadata": {
    "id": "4e7ffee0"
   },
   "outputs": [
    {
     "name": "stdout",
     "output_type": "stream",
     "text": [
      "<class 'pandas.core.frame.DataFrame'>\n",
      "Int64Index: 9666 entries, 2 to 49984\n",
      "Data columns (total 16 columns):\n",
      " #   Column                  Non-Null Count  Dtype  \n",
      "---  ------                  --------------  -----  \n",
      " 0   cust_number             9666 non-null   int32  \n",
      " 1   buisness_year           9666 non-null   int64  \n",
      " 2   doc_id                  9666 non-null   int64  \n",
      " 3   converted_usd           9666 non-null   float64\n",
      " 4   business_code_enc       9666 non-null   int32  \n",
      " 5   day_of_createdate       9666 non-null   int64  \n",
      " 6   month_of_createdate     9666 non-null   int64  \n",
      " 7   year_of_createdate      9666 non-null   int64  \n",
      " 8   day_of_due              9666 non-null   int64  \n",
      " 9   month_of_due            9666 non-null   int64  \n",
      " 10  year_of_due             9666 non-null   int64  \n",
      " 11  day_of_postingdate      9666 non-null   int64  \n",
      " 12  month_of_postingdate    9666 non-null   int64  \n",
      " 13  year_of_postingdate     9666 non-null   int64  \n",
      " 14  cust_payment_terms_enc  9666 non-null   int32  \n",
      " 15  name_customer_enc       9666 non-null   int32  \n",
      "dtypes: float64(1), int32(4), int64(11)\n",
      "memory usage: 1.1 MB\n"
     ]
    }
   ],
   "source": [
    "nulldata.info()"
   ]
  },
  {
   "cell_type": "markdown",
   "id": "-XvjhWqmwi-C",
   "metadata": {
    "id": "-XvjhWqmwi-C"
   },
   "source": [
    "### Compare \"nulldata\" with the \"X_test\" dataframe \n",
    "\n",
    "- use info() method"
   ]
  },
  {
   "cell_type": "code",
   "execution_count": 286,
   "id": "02f4b62d",
   "metadata": {
    "id": "02f4b62d"
   },
   "outputs": [
    {
     "name": "stdout",
     "output_type": "stream",
     "text": [
      "<class 'pandas.core.frame.DataFrame'>\n",
      "Int64Index: 9666 entries, 2 to 49984\n",
      "Data columns (total 16 columns):\n",
      " #   Column                  Non-Null Count  Dtype  \n",
      "---  ------                  --------------  -----  \n",
      " 0   cust_number             9666 non-null   int32  \n",
      " 1   buisness_year           9666 non-null   int64  \n",
      " 2   doc_id                  9666 non-null   int64  \n",
      " 3   converted_usd           9666 non-null   float64\n",
      " 4   business_code_enc       9666 non-null   int32  \n",
      " 5   day_of_createdate       9666 non-null   int64  \n",
      " 6   month_of_createdate     9666 non-null   int64  \n",
      " 7   year_of_createdate      9666 non-null   int64  \n",
      " 8   day_of_due              9666 non-null   int64  \n",
      " 9   month_of_due            9666 non-null   int64  \n",
      " 10  year_of_due             9666 non-null   int64  \n",
      " 11  day_of_postingdate      9666 non-null   int64  \n",
      " 12  month_of_postingdate    9666 non-null   int64  \n",
      " 13  year_of_postingdate     9666 non-null   int64  \n",
      " 14  cust_payment_terms_enc  9666 non-null   int32  \n",
      " 15  name_customer_enc       9666 non-null   int32  \n",
      "dtypes: float64(1), int32(4), int64(11)\n",
      "memory usage: 1.1 MB\n",
      "<class 'pandas.core.frame.DataFrame'>\n",
      "Int64Index: 7826 entries, 21893 to 18192\n",
      "Data columns (total 16 columns):\n",
      " #   Column                  Non-Null Count  Dtype  \n",
      "---  ------                  --------------  -----  \n",
      " 0   cust_number             7826 non-null   int32  \n",
      " 1   buisness_year           7826 non-null   int64  \n",
      " 2   doc_id                  7826 non-null   int64  \n",
      " 3   converted_usd           7826 non-null   float64\n",
      " 4   business_code_enc       7826 non-null   int32  \n",
      " 5   name_customer_enc       7826 non-null   int32  \n",
      " 6   cust_payment_terms_enc  7826 non-null   int32  \n",
      " 7   day_of_postingdate      7826 non-null   int64  \n",
      " 8   month_of_postingdate    7826 non-null   int64  \n",
      " 9   year_of_postingdate     7826 non-null   int64  \n",
      " 10  day_of_createdate       7826 non-null   int64  \n",
      " 11  month_of_createdate     7826 non-null   int64  \n",
      " 12  year_of_createdate      7826 non-null   int64  \n",
      " 13  day_of_due              7826 non-null   int64  \n",
      " 14  month_of_due            7826 non-null   int64  \n",
      " 15  year_of_due             7826 non-null   int64  \n",
      "dtypes: float64(1), int32(4), int64(11)\n",
      "memory usage: 917.1 KB\n"
     ]
    },
    {
     "data": {
      "text/plain": [
       "(None, None)"
      ]
     },
     "execution_count": 286,
     "metadata": {},
     "output_type": "execute_result"
    }
   ],
   "source": [
    "nulldata.info(),X_test.info()"
   ]
  },
  {
   "cell_type": "markdown",
   "id": "Us3ey-9zwqjq",
   "metadata": {
    "id": "Us3ey-9zwqjq"
   },
   "source": [
    "### You must have noticed that there is a mismatch in the column sequence while compairing the dataframes\n",
    "\n",
    "- Note - In order to fed into the machine learning model, you need to edit the sequence of \"nulldata\", similar to the \"X_test\" dataframe"
   ]
  },
  {
   "cell_type": "markdown",
   "id": "vduVNt1kxPW-",
   "metadata": {
    "id": "vduVNt1kxPW-"
   },
   "source": [
    "- Display all the columns of the X_test dataframe \n",
    "- Display all the columns of the Nulldata dataframe \n",
    "- Store the Nulldata with new sequence into a new dataframe \n",
    "\n",
    "\n",
    "- Note - The code is given below, no need to change "
   ]
  },
  {
   "cell_type": "code",
   "execution_count": 287,
   "id": "6729353e",
   "metadata": {
    "id": "6729353e"
   },
   "outputs": [
    {
     "data": {
      "text/plain": [
       "Index(['cust_number', 'buisness_year', 'doc_id', 'converted_usd',\n",
       "       'business_code_enc', 'name_customer_enc', 'cust_payment_terms_enc',\n",
       "       'day_of_postingdate', 'month_of_postingdate', 'year_of_postingdate',\n",
       "       'day_of_createdate', 'month_of_createdate', 'year_of_createdate',\n",
       "       'day_of_due', 'month_of_due', 'year_of_due'],\n",
       "      dtype='object')"
      ]
     },
     "execution_count": 287,
     "metadata": {},
     "output_type": "execute_result"
    }
   ],
   "source": [
    "X_test.columns"
   ]
  },
  {
   "cell_type": "code",
   "execution_count": 288,
   "id": "47bd9c5e",
   "metadata": {
    "id": "47bd9c5e"
   },
   "outputs": [
    {
     "data": {
      "text/plain": [
       "Index(['cust_number', 'buisness_year', 'doc_id', 'converted_usd',\n",
       "       'business_code_enc', 'day_of_createdate', 'month_of_createdate',\n",
       "       'year_of_createdate', 'day_of_due', 'month_of_due', 'year_of_due',\n",
       "       'day_of_postingdate', 'month_of_postingdate', 'year_of_postingdate',\n",
       "       'cust_payment_terms_enc', 'name_customer_enc'],\n",
       "      dtype='object')"
      ]
     },
     "execution_count": 288,
     "metadata": {},
     "output_type": "execute_result"
    }
   ],
   "source": [
    "nulldata.columns"
   ]
  },
  {
   "cell_type": "code",
   "execution_count": 289,
   "id": "aa5a2103",
   "metadata": {
    "id": "aa5a2103"
   },
   "outputs": [],
   "source": [
    "nulldata2=nulldata[['cust_number', 'buisness_year', 'doc_id', 'converted_usd',\n",
    "       'business_code_enc', 'name_customer_enc', 'cust_payment_terms_enc',\n",
    "       'day_of_postingdate', 'month_of_postingdate', 'year_of_postingdate',\n",
    "       'day_of_createdate', 'month_of_createdate', 'year_of_createdate',\n",
    "       'day_of_due', 'month_of_due', 'year_of_due']]"
   ]
  },
  {
   "cell_type": "markdown",
   "id": "1dc8b021",
   "metadata": {
    "id": "1dc8b021"
   },
   "source": [
    "### Display the Final Dataset"
   ]
  },
  {
   "cell_type": "code",
   "execution_count": 290,
   "id": "2f39785a",
   "metadata": {
    "id": "2f39785a"
   },
   "outputs": [
    {
     "data": {
      "text/plain": [
       "(9666, 16)"
      ]
     },
     "execution_count": 290,
     "metadata": {},
     "output_type": "execute_result"
    }
   ],
   "source": [
    "nulldata2.shape"
   ]
  },
  {
   "cell_type": "markdown",
   "id": "27b88c5a",
   "metadata": {
    "id": "27b88c5a"
   },
   "source": [
    "### Now you can pass this dataset into you final model and store it into \"final_result\""
   ]
  },
  {
   "cell_type": "code",
   "execution_count": 291,
   "id": "9e0b6388",
   "metadata": {
    "id": "9e0b6388"
   },
   "outputs": [],
   "source": [
    "final_result=regressorfinal.predict(nulldata2)"
   ]
  },
  {
   "cell_type": "markdown",
   "id": "9653d3c6",
   "metadata": {
    "id": "9653d3c6"
   },
   "source": [
    "### you need to make the final_result as dataframe, with a column name \"avg_delay\"\n",
    "\n",
    "- Note - No need to change the code"
   ]
  },
  {
   "cell_type": "code",
   "execution_count": 292,
   "id": "25ef814d",
   "metadata": {
    "id": "25ef814d"
   },
   "outputs": [],
   "source": [
    "final_result = pd.Series(final_result,name='avg_delay')"
   ]
  },
  {
   "cell_type": "markdown",
   "id": "C86staIhyf2C",
   "metadata": {
    "id": "C86staIhyf2C"
   },
   "source": [
    "### Display the \"avg_delay\" column"
   ]
  },
  {
   "cell_type": "code",
   "execution_count": 293,
   "id": "4fd46406",
   "metadata": {
    "id": "4fd46406"
   },
   "outputs": [
    {
     "data": {
      "text/plain": [
       "name_customer\n",
       "10167 llc                2 days\n",
       "17135 associates        -4 days\n",
       "17135 co                60 days\n",
       "17135 corp              60 days\n",
       "17135 us               180 days\n",
       "                         ...   \n",
       "Y H systems            116 days\n",
       "YEN BROS associates     -1 days\n",
       "YEN BROS llc          -105 days\n",
       "YEN BROS us           -295 days\n",
       "ZARCO corp              -2 days\n",
       "Name: delay, Length: 3870, dtype: timedelta64[ns]"
      ]
     },
     "execution_count": 293,
     "metadata": {},
     "output_type": "execute_result"
    }
   ],
   "source": [
    "avg_delay"
   ]
  },
  {
   "cell_type": "markdown",
   "id": "44f71a7e",
   "metadata": {
    "id": "44f71a7e"
   },
   "source": [
    "### Now you need to merge this final_result dataframe with the BACKUP of \"nulldata\" Dataframe which we have created in earlier steps"
   ]
  },
  {
   "cell_type": "code",
   "execution_count": 294,
   "id": "e8f0969d",
   "metadata": {
    "id": "e8f0969d"
   },
   "outputs": [],
   "source": [
    "nulldata1.reset_index(drop=True,inplace=True)\n",
    "Final = nulldata1.merge(final_result , on = nulldata.index )"
   ]
  },
  {
   "cell_type": "markdown",
   "id": "G-hLtxXgy4GZ",
   "metadata": {
    "id": "G-hLtxXgy4GZ"
   },
   "source": [
    "### Display the \"Final\" dataframe "
   ]
  },
  {
   "cell_type": "code",
   "execution_count": 295,
   "id": "71fb4dc0",
   "metadata": {
    "id": "71fb4dc0"
   },
   "outputs": [
    {
     "data": {
      "text/html": [
       "<div>\n",
       "<style scoped>\n",
       "    .dataframe tbody tr th:only-of-type {\n",
       "        vertical-align: middle;\n",
       "    }\n",
       "\n",
       "    .dataframe tbody tr th {\n",
       "        vertical-align: top;\n",
       "    }\n",
       "\n",
       "    .dataframe thead th {\n",
       "        text-align: right;\n",
       "    }\n",
       "</style>\n",
       "<table border=\"1\" class=\"dataframe\">\n",
       "  <thead>\n",
       "    <tr style=\"text-align: right;\">\n",
       "      <th></th>\n",
       "      <th>key_0</th>\n",
       "      <th>business_code</th>\n",
       "      <th>cust_number</th>\n",
       "      <th>name_customer</th>\n",
       "      <th>clear_date</th>\n",
       "      <th>buisness_year</th>\n",
       "      <th>doc_id</th>\n",
       "      <th>posting_date</th>\n",
       "      <th>due_in_date</th>\n",
       "      <th>baseline_create_date</th>\n",
       "      <th>cust_payment_terms</th>\n",
       "      <th>converted_usd</th>\n",
       "      <th>avg_delay</th>\n",
       "    </tr>\n",
       "  </thead>\n",
       "  <tbody>\n",
       "    <tr>\n",
       "      <th>0</th>\n",
       "      <td>2</td>\n",
       "      <td>U001</td>\n",
       "      <td>200744019</td>\n",
       "      <td>TARG corp</td>\n",
       "      <td>NaT</td>\n",
       "      <td>2020</td>\n",
       "      <td>1930687944</td>\n",
       "      <td>2020-03-25</td>\n",
       "      <td>2020-04-09</td>\n",
       "      <td>2020-03-25</td>\n",
       "      <td>NAA8</td>\n",
       "      <td>11537.62</td>\n",
       "      <td>2.372948e+06</td>\n",
       "    </tr>\n",
       "    <tr>\n",
       "      <th>1</th>\n",
       "      <td>5</td>\n",
       "      <td>U001</td>\n",
       "      <td>200769623</td>\n",
       "      <td>WAL-MAR us</td>\n",
       "      <td>NaT</td>\n",
       "      <td>2020</td>\n",
       "      <td>1930832258</td>\n",
       "      <td>2020-04-28</td>\n",
       "      <td>2020-05-13</td>\n",
       "      <td>2020-04-28</td>\n",
       "      <td>NAH4</td>\n",
       "      <td>1991.84</td>\n",
       "      <td>1.145916e+05</td>\n",
       "    </tr>\n",
       "    <tr>\n",
       "      <th>2</th>\n",
       "      <td>14</td>\n",
       "      <td>U001</td>\n",
       "      <td>200416837</td>\n",
       "      <td>DEC associates</td>\n",
       "      <td>NaT</td>\n",
       "      <td>2020</td>\n",
       "      <td>1930857750</td>\n",
       "      <td>2020-05-05</td>\n",
       "      <td>2020-05-24</td>\n",
       "      <td>2020-05-01</td>\n",
       "      <td>NAM4</td>\n",
       "      <td>106.20</td>\n",
       "      <td>-1.166232e+06</td>\n",
       "    </tr>\n",
       "    <tr>\n",
       "      <th>3</th>\n",
       "      <td>17</td>\n",
       "      <td>U001</td>\n",
       "      <td>200790710</td>\n",
       "      <td>F corporation</td>\n",
       "      <td>NaT</td>\n",
       "      <td>2020</td>\n",
       "      <td>1930638031</td>\n",
       "      <td>2020-03-13</td>\n",
       "      <td>2020-03-28</td>\n",
       "      <td>2020-03-13</td>\n",
       "      <td>NAA8</td>\n",
       "      <td>41062.40</td>\n",
       "      <td>-6.619719e+05</td>\n",
       "    </tr>\n",
       "    <tr>\n",
       "      <th>4</th>\n",
       "      <td>33</td>\n",
       "      <td>U001</td>\n",
       "      <td>200769623</td>\n",
       "      <td>WAL-MAR corporation</td>\n",
       "      <td>NaT</td>\n",
       "      <td>2020</td>\n",
       "      <td>1930719464</td>\n",
       "      <td>2020-01-04</td>\n",
       "      <td>2020-04-16</td>\n",
       "      <td>2020-04-01</td>\n",
       "      <td>NAH4</td>\n",
       "      <td>35878.19</td>\n",
       "      <td>7.718396e+04</td>\n",
       "    </tr>\n",
       "    <tr>\n",
       "      <th>...</th>\n",
       "      <td>...</td>\n",
       "      <td>...</td>\n",
       "      <td>...</td>\n",
       "      <td>...</td>\n",
       "      <td>...</td>\n",
       "      <td>...</td>\n",
       "      <td>...</td>\n",
       "      <td>...</td>\n",
       "      <td>...</td>\n",
       "      <td>...</td>\n",
       "      <td>...</td>\n",
       "      <td>...</td>\n",
       "      <td>...</td>\n",
       "    </tr>\n",
       "    <tr>\n",
       "      <th>9661</th>\n",
       "      <td>49962</td>\n",
       "      <td>U001</td>\n",
       "      <td>100031704</td>\n",
       "      <td>DELHAIZE foundation</td>\n",
       "      <td>NaT</td>\n",
       "      <td>2020</td>\n",
       "      <td>1930797460</td>\n",
       "      <td>2020-04-19</td>\n",
       "      <td>2020-05-04</td>\n",
       "      <td>2020-04-19</td>\n",
       "      <td>NAA8</td>\n",
       "      <td>79418.60</td>\n",
       "      <td>4.877562e+05</td>\n",
       "    </tr>\n",
       "    <tr>\n",
       "      <th>9662</th>\n",
       "      <td>49967</td>\n",
       "      <td>U001</td>\n",
       "      <td>200727272</td>\n",
       "      <td>BROOKS corporation</td>\n",
       "      <td>NaT</td>\n",
       "      <td>2020</td>\n",
       "      <td>1930775177</td>\n",
       "      <td>2020-11-04</td>\n",
       "      <td>2020-04-26</td>\n",
       "      <td>2020-04-11</td>\n",
       "      <td>NAA8</td>\n",
       "      <td>99977.39</td>\n",
       "      <td>2.659086e+06</td>\n",
       "    </tr>\n",
       "    <tr>\n",
       "      <th>9663</th>\n",
       "      <td>49974</td>\n",
       "      <td>U001</td>\n",
       "      <td>200803720</td>\n",
       "      <td>DEC foundation</td>\n",
       "      <td>NaT</td>\n",
       "      <td>2020</td>\n",
       "      <td>1930692430</td>\n",
       "      <td>2020-03-24</td>\n",
       "      <td>2020-03-23</td>\n",
       "      <td>2020-03-16</td>\n",
       "      <td>NAM1</td>\n",
       "      <td>7717.20</td>\n",
       "      <td>-1.289911e+06</td>\n",
       "    </tr>\n",
       "    <tr>\n",
       "      <th>9664</th>\n",
       "      <td>49975</td>\n",
       "      <td>U001</td>\n",
       "      <td>200772670</td>\n",
       "      <td>ASSOCIAT in</td>\n",
       "      <td>NaT</td>\n",
       "      <td>2020</td>\n",
       "      <td>1930700158</td>\n",
       "      <td>2020-03-25</td>\n",
       "      <td>2020-04-09</td>\n",
       "      <td>2020-03-25</td>\n",
       "      <td>NAU5</td>\n",
       "      <td>130016.27</td>\n",
       "      <td>8.314669e+05</td>\n",
       "    </tr>\n",
       "    <tr>\n",
       "      <th>9665</th>\n",
       "      <td>49984</td>\n",
       "      <td>U001</td>\n",
       "      <td>200769623</td>\n",
       "      <td>WAL-MAR us</td>\n",
       "      <td>NaT</td>\n",
       "      <td>2020</td>\n",
       "      <td>1930724296</td>\n",
       "      <td>2020-02-04</td>\n",
       "      <td>2020-04-17</td>\n",
       "      <td>2020-04-02</td>\n",
       "      <td>NAH4</td>\n",
       "      <td>54895.67</td>\n",
       "      <td>1.068901e+05</td>\n",
       "    </tr>\n",
       "  </tbody>\n",
       "</table>\n",
       "<p>9666 rows × 13 columns</p>\n",
       "</div>"
      ],
      "text/plain": [
       "      key_0 business_code cust_number        name_customer clear_date  \\\n",
       "0         2          U001   200744019            TARG corp        NaT   \n",
       "1         5          U001   200769623           WAL-MAR us        NaT   \n",
       "2        14          U001   200416837       DEC associates        NaT   \n",
       "3        17          U001   200790710        F corporation        NaT   \n",
       "4        33          U001   200769623  WAL-MAR corporation        NaT   \n",
       "...     ...           ...         ...                  ...        ...   \n",
       "9661  49962          U001   100031704  DELHAIZE foundation        NaT   \n",
       "9662  49967          U001   200727272   BROOKS corporation        NaT   \n",
       "9663  49974          U001   200803720       DEC foundation        NaT   \n",
       "9664  49975          U001   200772670          ASSOCIAT in        NaT   \n",
       "9665  49984          U001   200769623           WAL-MAR us        NaT   \n",
       "\n",
       "      buisness_year      doc_id posting_date due_in_date baseline_create_date  \\\n",
       "0              2020  1930687944   2020-03-25  2020-04-09           2020-03-25   \n",
       "1              2020  1930832258   2020-04-28  2020-05-13           2020-04-28   \n",
       "2              2020  1930857750   2020-05-05  2020-05-24           2020-05-01   \n",
       "3              2020  1930638031   2020-03-13  2020-03-28           2020-03-13   \n",
       "4              2020  1930719464   2020-01-04  2020-04-16           2020-04-01   \n",
       "...             ...         ...          ...         ...                  ...   \n",
       "9661           2020  1930797460   2020-04-19  2020-05-04           2020-04-19   \n",
       "9662           2020  1930775177   2020-11-04  2020-04-26           2020-04-11   \n",
       "9663           2020  1930692430   2020-03-24  2020-03-23           2020-03-16   \n",
       "9664           2020  1930700158   2020-03-25  2020-04-09           2020-03-25   \n",
       "9665           2020  1930724296   2020-02-04  2020-04-17           2020-04-02   \n",
       "\n",
       "     cust_payment_terms  converted_usd     avg_delay  \n",
       "0                  NAA8       11537.62  2.372948e+06  \n",
       "1                  NAH4        1991.84  1.145916e+05  \n",
       "2                  NAM4         106.20 -1.166232e+06  \n",
       "3                  NAA8       41062.40 -6.619719e+05  \n",
       "4                  NAH4       35878.19  7.718396e+04  \n",
       "...                 ...            ...           ...  \n",
       "9661               NAA8       79418.60  4.877562e+05  \n",
       "9662               NAA8       99977.39  2.659086e+06  \n",
       "9663               NAM1        7717.20 -1.289911e+06  \n",
       "9664               NAU5      130016.27  8.314669e+05  \n",
       "9665               NAH4       54895.67  1.068901e+05  \n",
       "\n",
       "[9666 rows x 13 columns]"
      ]
     },
     "execution_count": 295,
     "metadata": {},
     "output_type": "execute_result"
    }
   ],
   "source": [
    "Final"
   ]
  },
  {
   "cell_type": "markdown",
   "id": "4sc27Uz-y-0O",
   "metadata": {
    "id": "4sc27Uz-y-0O"
   },
   "source": [
    "### Check for the Number of Rows and Columns in your \"Final\" dataframe "
   ]
  },
  {
   "cell_type": "code",
   "execution_count": 296,
   "id": "5iUXOIhzy_HR",
   "metadata": {
    "id": "5iUXOIhzy_HR"
   },
   "outputs": [
    {
     "data": {
      "text/plain": [
       "(9666, 13)"
      ]
     },
     "execution_count": 296,
     "metadata": {},
     "output_type": "execute_result"
    }
   ],
   "source": [
    "Final.shape"
   ]
  },
  {
   "cell_type": "markdown",
   "id": "48886d2c",
   "metadata": {
    "id": "48886d2c"
   },
   "source": [
    "### Now, you need to do convert the below fields back into date and time format \n",
    "\n",
    "- Convert \"due_in_date\" into datetime format\n",
    "- Convert \"avg_delay\" into datetime format\n",
    "- Create a new column \"clear_date\" and store the sum of \"due_in_date\" and \"avg_delay\"\n",
    "- display the new \"clear_date\" column\n",
    "- Note - Code is given below, no need to change "
   ]
  },
  {
   "cell_type": "code",
   "execution_count": 297,
   "id": "243abc2d",
   "metadata": {
    "id": "243abc2d"
   },
   "outputs": [],
   "source": [
    "Final['clear_date'] = pd.to_datetime(Final['due_in_date']) + pd.to_timedelta(Final['avg_delay'], unit='s')"
   ]
  },
  {
   "cell_type": "markdown",
   "id": "9QcX_fAjIkYR",
   "metadata": {
    "id": "9QcX_fAjIkYR"
   },
   "source": [
    "### Display the \"clear_date\" column"
   ]
  },
  {
   "cell_type": "code",
   "execution_count": 298,
   "id": "740e1486",
   "metadata": {
    "id": "740e1486"
   },
   "outputs": [
    {
     "data": {
      "text/plain": [
       "0      2020-05-06 11:09:07.750000000\n",
       "1      2020-05-14 07:49:51.632812500\n",
       "2      2020-05-10 12:02:48.000000000\n",
       "3      2020-03-20 08:07:08.062500000\n",
       "4      2020-04-16 21:26:23.960937500\n",
       "                    ...             \n",
       "9661   2020-05-09 15:29:16.218750000\n",
       "9662   2020-05-26 18:38:06.250000000\n",
       "9663   2020-03-08 01:41:29.375000000\n",
       "9664   2020-04-18 14:57:46.937500000\n",
       "9665   2020-04-18 05:41:30.085937500\n",
       "Name: clear_date, Length: 9666, dtype: datetime64[ns]"
      ]
     },
     "execution_count": 298,
     "metadata": {},
     "output_type": "execute_result"
    }
   ],
   "source": [
    "Final['clear_date']"
   ]
  },
  {
   "cell_type": "markdown",
   "id": "MSkNLq6-z7rZ",
   "metadata": {
    "id": "MSkNLq6-z7rZ"
   },
   "source": [
    "### Convert the average delay into number of days format \n",
    "\n",
    "- Note - Formula = avg_delay//(24 * 3600)\n",
    "- Note - full code is given for this, no need to change "
   ]
  },
  {
   "cell_type": "code",
   "execution_count": 299,
   "id": "ce6b618a",
   "metadata": {
    "id": "ce6b618a"
   },
   "outputs": [],
   "source": [
    "Final['avg_delay'] = Final.apply(lambda row: row.avg_delay//(24 * 3600), axis = 1)"
   ]
  },
  {
   "cell_type": "markdown",
   "id": "wbBBZPjP0W7o",
   "metadata": {
    "id": "wbBBZPjP0W7o"
   },
   "source": [
    "### Display the \"avg_delay\" column "
   ]
  },
  {
   "cell_type": "code",
   "execution_count": 300,
   "id": "a494982f",
   "metadata": {
    "id": "a494982f",
    "scrolled": true
   },
   "outputs": [
    {
     "data": {
      "text/plain": [
       "name_customer\n",
       "10167 llc                2 days\n",
       "17135 associates        -4 days\n",
       "17135 co                60 days\n",
       "17135 corp              60 days\n",
       "17135 us               180 days\n",
       "                         ...   \n",
       "Y H systems            116 days\n",
       "YEN BROS associates     -1 days\n",
       "YEN BROS llc          -105 days\n",
       "YEN BROS us           -295 days\n",
       "ZARCO corp              -2 days\n",
       "Name: delay, Length: 3870, dtype: timedelta64[ns]"
      ]
     },
     "execution_count": 300,
     "metadata": {},
     "output_type": "execute_result"
    }
   ],
   "source": [
    "avg_delay"
   ]
  },
  {
   "cell_type": "markdown",
   "id": "815d8811",
   "metadata": {
    "id": "815d8811"
   },
   "source": [
    "### Now you need to convert average delay column into bucket\n",
    "\n",
    "- Need to perform binning \n",
    "- create a list of bins i.e. bins= [0,15,30,45,60,100]\n",
    "- create a list of labels i.e. labels = ['0-15','16-30','31-45','46-60','Greatar than 60']\n",
    "- perform binning by using cut() function from \"Final\" dataframe\n",
    "\n",
    "\n",
    "- Please fill up the first two rows of the code"
   ]
  },
  {
   "cell_type": "code",
   "execution_count": 301,
   "id": "c797e4b5",
   "metadata": {
    "id": "c797e4b5"
   },
   "outputs": [],
   "source": [
    "\n",
    "bins= [0,15,30,45,60,100]\n",
    "labels =['0-15','16-30','31-45','46-60','Greatar than 60']\n",
    "Final['Aging Bucket'] = pd.cut(Final['avg_delay'], bins=bins, labels=labels, right=False)"
   ]
  },
  {
   "cell_type": "markdown",
   "id": "1c35725f",
   "metadata": {
    "id": "1c35725f"
   },
   "source": [
    "### Now you need to drop \"key_0\" and \"avg_delay\" columns from the \"Final\" Dataframe"
   ]
  },
  {
   "cell_type": "code",
   "execution_count": 302,
   "id": "b31bc6a3",
   "metadata": {
    "id": "b31bc6a3"
   },
   "outputs": [],
   "source": [
    "Final.drop(columns=['key_0','avg_delay'],inplace=True)"
   ]
  },
  {
   "cell_type": "markdown",
   "id": "Ui-tyIvU0-5u",
   "metadata": {
    "id": "Ui-tyIvU0-5u"
   },
   "source": [
    "### Display the count of each categoty of new \"Aging Bucket\" column "
   ]
  },
  {
   "cell_type": "code",
   "execution_count": 303,
   "id": "a6e16218",
   "metadata": {
    "id": "a6e16218"
   },
   "outputs": [
    {
     "data": {
      "text/plain": [
       "0-15               4164\n",
       "16-30              1494\n",
       "31-45               331\n",
       "46-60               141\n",
       "Greatar than 60      99\n",
       "Name: Aging Bucket, dtype: int64"
      ]
     },
     "execution_count": 303,
     "metadata": {},
     "output_type": "execute_result"
    }
   ],
   "source": [
    "Final['Aging Bucket'].value_counts()"
   ]
  },
  {
   "cell_type": "markdown",
   "id": "kgYegy551GKJ",
   "metadata": {
    "id": "kgYegy551GKJ"
   },
   "source": [
    "### Display your final dataset with aging buckets "
   ]
  },
  {
   "cell_type": "code",
   "execution_count": 304,
   "id": "c4bc87ec",
   "metadata": {
    "id": "c4bc87ec"
   },
   "outputs": [
    {
     "data": {
      "text/html": [
       "<div>\n",
       "<style scoped>\n",
       "    .dataframe tbody tr th:only-of-type {\n",
       "        vertical-align: middle;\n",
       "    }\n",
       "\n",
       "    .dataframe tbody tr th {\n",
       "        vertical-align: top;\n",
       "    }\n",
       "\n",
       "    .dataframe thead th {\n",
       "        text-align: right;\n",
       "    }\n",
       "</style>\n",
       "<table border=\"1\" class=\"dataframe\">\n",
       "  <thead>\n",
       "    <tr style=\"text-align: right;\">\n",
       "      <th></th>\n",
       "      <th>business_code</th>\n",
       "      <th>cust_number</th>\n",
       "      <th>name_customer</th>\n",
       "      <th>clear_date</th>\n",
       "      <th>buisness_year</th>\n",
       "      <th>doc_id</th>\n",
       "      <th>posting_date</th>\n",
       "      <th>due_in_date</th>\n",
       "      <th>baseline_create_date</th>\n",
       "      <th>cust_payment_terms</th>\n",
       "      <th>converted_usd</th>\n",
       "      <th>Aging Bucket</th>\n",
       "    </tr>\n",
       "  </thead>\n",
       "  <tbody>\n",
       "    <tr>\n",
       "      <th>0</th>\n",
       "      <td>U001</td>\n",
       "      <td>200744019</td>\n",
       "      <td>TARG corp</td>\n",
       "      <td>2020-05-06 11:09:07.750000000</td>\n",
       "      <td>2020</td>\n",
       "      <td>1930687944</td>\n",
       "      <td>2020-03-25</td>\n",
       "      <td>2020-04-09</td>\n",
       "      <td>2020-03-25</td>\n",
       "      <td>NAA8</td>\n",
       "      <td>11537.62</td>\n",
       "      <td>16-30</td>\n",
       "    </tr>\n",
       "    <tr>\n",
       "      <th>1</th>\n",
       "      <td>U001</td>\n",
       "      <td>200769623</td>\n",
       "      <td>WAL-MAR us</td>\n",
       "      <td>2020-05-14 07:49:51.632812500</td>\n",
       "      <td>2020</td>\n",
       "      <td>1930832258</td>\n",
       "      <td>2020-04-28</td>\n",
       "      <td>2020-05-13</td>\n",
       "      <td>2020-04-28</td>\n",
       "      <td>NAH4</td>\n",
       "      <td>1991.84</td>\n",
       "      <td>0-15</td>\n",
       "    </tr>\n",
       "    <tr>\n",
       "      <th>2</th>\n",
       "      <td>U001</td>\n",
       "      <td>200416837</td>\n",
       "      <td>DEC associates</td>\n",
       "      <td>2020-05-10 12:02:48.000000000</td>\n",
       "      <td>2020</td>\n",
       "      <td>1930857750</td>\n",
       "      <td>2020-05-05</td>\n",
       "      <td>2020-05-24</td>\n",
       "      <td>2020-05-01</td>\n",
       "      <td>NAM4</td>\n",
       "      <td>106.20</td>\n",
       "      <td>NaN</td>\n",
       "    </tr>\n",
       "    <tr>\n",
       "      <th>3</th>\n",
       "      <td>U001</td>\n",
       "      <td>200790710</td>\n",
       "      <td>F corporation</td>\n",
       "      <td>2020-03-20 08:07:08.062500000</td>\n",
       "      <td>2020</td>\n",
       "      <td>1930638031</td>\n",
       "      <td>2020-03-13</td>\n",
       "      <td>2020-03-28</td>\n",
       "      <td>2020-03-13</td>\n",
       "      <td>NAA8</td>\n",
       "      <td>41062.40</td>\n",
       "      <td>NaN</td>\n",
       "    </tr>\n",
       "    <tr>\n",
       "      <th>4</th>\n",
       "      <td>U001</td>\n",
       "      <td>200769623</td>\n",
       "      <td>WAL-MAR corporation</td>\n",
       "      <td>2020-04-16 21:26:23.960937500</td>\n",
       "      <td>2020</td>\n",
       "      <td>1930719464</td>\n",
       "      <td>2020-01-04</td>\n",
       "      <td>2020-04-16</td>\n",
       "      <td>2020-04-01</td>\n",
       "      <td>NAH4</td>\n",
       "      <td>35878.19</td>\n",
       "      <td>0-15</td>\n",
       "    </tr>\n",
       "    <tr>\n",
       "      <th>...</th>\n",
       "      <td>...</td>\n",
       "      <td>...</td>\n",
       "      <td>...</td>\n",
       "      <td>...</td>\n",
       "      <td>...</td>\n",
       "      <td>...</td>\n",
       "      <td>...</td>\n",
       "      <td>...</td>\n",
       "      <td>...</td>\n",
       "      <td>...</td>\n",
       "      <td>...</td>\n",
       "      <td>...</td>\n",
       "    </tr>\n",
       "    <tr>\n",
       "      <th>9661</th>\n",
       "      <td>U001</td>\n",
       "      <td>100031704</td>\n",
       "      <td>DELHAIZE foundation</td>\n",
       "      <td>2020-05-09 15:29:16.218750000</td>\n",
       "      <td>2020</td>\n",
       "      <td>1930797460</td>\n",
       "      <td>2020-04-19</td>\n",
       "      <td>2020-05-04</td>\n",
       "      <td>2020-04-19</td>\n",
       "      <td>NAA8</td>\n",
       "      <td>79418.60</td>\n",
       "      <td>0-15</td>\n",
       "    </tr>\n",
       "    <tr>\n",
       "      <th>9662</th>\n",
       "      <td>U001</td>\n",
       "      <td>200727272</td>\n",
       "      <td>BROOKS corporation</td>\n",
       "      <td>2020-05-26 18:38:06.250000000</td>\n",
       "      <td>2020</td>\n",
       "      <td>1930775177</td>\n",
       "      <td>2020-11-04</td>\n",
       "      <td>2020-04-26</td>\n",
       "      <td>2020-04-11</td>\n",
       "      <td>NAA8</td>\n",
       "      <td>99977.39</td>\n",
       "      <td>31-45</td>\n",
       "    </tr>\n",
       "    <tr>\n",
       "      <th>9663</th>\n",
       "      <td>U001</td>\n",
       "      <td>200803720</td>\n",
       "      <td>DEC foundation</td>\n",
       "      <td>2020-03-08 01:41:29.375000000</td>\n",
       "      <td>2020</td>\n",
       "      <td>1930692430</td>\n",
       "      <td>2020-03-24</td>\n",
       "      <td>2020-03-23</td>\n",
       "      <td>2020-03-16</td>\n",
       "      <td>NAM1</td>\n",
       "      <td>7717.20</td>\n",
       "      <td>NaN</td>\n",
       "    </tr>\n",
       "    <tr>\n",
       "      <th>9664</th>\n",
       "      <td>U001</td>\n",
       "      <td>200772670</td>\n",
       "      <td>ASSOCIAT in</td>\n",
       "      <td>2020-04-18 14:57:46.937500000</td>\n",
       "      <td>2020</td>\n",
       "      <td>1930700158</td>\n",
       "      <td>2020-03-25</td>\n",
       "      <td>2020-04-09</td>\n",
       "      <td>2020-03-25</td>\n",
       "      <td>NAU5</td>\n",
       "      <td>130016.27</td>\n",
       "      <td>0-15</td>\n",
       "    </tr>\n",
       "    <tr>\n",
       "      <th>9665</th>\n",
       "      <td>U001</td>\n",
       "      <td>200769623</td>\n",
       "      <td>WAL-MAR us</td>\n",
       "      <td>2020-04-18 05:41:30.085937500</td>\n",
       "      <td>2020</td>\n",
       "      <td>1930724296</td>\n",
       "      <td>2020-02-04</td>\n",
       "      <td>2020-04-17</td>\n",
       "      <td>2020-04-02</td>\n",
       "      <td>NAH4</td>\n",
       "      <td>54895.67</td>\n",
       "      <td>0-15</td>\n",
       "    </tr>\n",
       "  </tbody>\n",
       "</table>\n",
       "<p>9666 rows × 12 columns</p>\n",
       "</div>"
      ],
      "text/plain": [
       "     business_code cust_number        name_customer  \\\n",
       "0             U001   200744019            TARG corp   \n",
       "1             U001   200769623           WAL-MAR us   \n",
       "2             U001   200416837       DEC associates   \n",
       "3             U001   200790710        F corporation   \n",
       "4             U001   200769623  WAL-MAR corporation   \n",
       "...            ...         ...                  ...   \n",
       "9661          U001   100031704  DELHAIZE foundation   \n",
       "9662          U001   200727272   BROOKS corporation   \n",
       "9663          U001   200803720       DEC foundation   \n",
       "9664          U001   200772670          ASSOCIAT in   \n",
       "9665          U001   200769623           WAL-MAR us   \n",
       "\n",
       "                        clear_date  buisness_year      doc_id posting_date  \\\n",
       "0    2020-05-06 11:09:07.750000000           2020  1930687944   2020-03-25   \n",
       "1    2020-05-14 07:49:51.632812500           2020  1930832258   2020-04-28   \n",
       "2    2020-05-10 12:02:48.000000000           2020  1930857750   2020-05-05   \n",
       "3    2020-03-20 08:07:08.062500000           2020  1930638031   2020-03-13   \n",
       "4    2020-04-16 21:26:23.960937500           2020  1930719464   2020-01-04   \n",
       "...                            ...            ...         ...          ...   \n",
       "9661 2020-05-09 15:29:16.218750000           2020  1930797460   2020-04-19   \n",
       "9662 2020-05-26 18:38:06.250000000           2020  1930775177   2020-11-04   \n",
       "9663 2020-03-08 01:41:29.375000000           2020  1930692430   2020-03-24   \n",
       "9664 2020-04-18 14:57:46.937500000           2020  1930700158   2020-03-25   \n",
       "9665 2020-04-18 05:41:30.085937500           2020  1930724296   2020-02-04   \n",
       "\n",
       "     due_in_date baseline_create_date cust_payment_terms  converted_usd  \\\n",
       "0     2020-04-09           2020-03-25               NAA8       11537.62   \n",
       "1     2020-05-13           2020-04-28               NAH4        1991.84   \n",
       "2     2020-05-24           2020-05-01               NAM4         106.20   \n",
       "3     2020-03-28           2020-03-13               NAA8       41062.40   \n",
       "4     2020-04-16           2020-04-01               NAH4       35878.19   \n",
       "...          ...                  ...                ...            ...   \n",
       "9661  2020-05-04           2020-04-19               NAA8       79418.60   \n",
       "9662  2020-04-26           2020-04-11               NAA8       99977.39   \n",
       "9663  2020-03-23           2020-03-16               NAM1        7717.20   \n",
       "9664  2020-04-09           2020-03-25               NAU5      130016.27   \n",
       "9665  2020-04-17           2020-04-02               NAH4       54895.67   \n",
       "\n",
       "     Aging Bucket  \n",
       "0           16-30  \n",
       "1            0-15  \n",
       "2             NaN  \n",
       "3             NaN  \n",
       "4            0-15  \n",
       "...           ...  \n",
       "9661         0-15  \n",
       "9662        31-45  \n",
       "9663          NaN  \n",
       "9664         0-15  \n",
       "9665         0-15  \n",
       "\n",
       "[9666 rows x 12 columns]"
      ]
     },
     "execution_count": 304,
     "metadata": {},
     "output_type": "execute_result"
    }
   ],
   "source": [
    "Final"
   ]
  },
  {
   "cell_type": "markdown",
   "id": "Ji7AoDCB1L_x",
   "metadata": {
    "id": "Ji7AoDCB1L_x"
   },
   "source": [
    "### Store this dataframe into the .csv format"
   ]
  },
  {
   "cell_type": "code",
   "execution_count": 305,
   "id": "727d0b8d",
   "metadata": {
    "id": "727d0b8d"
   },
   "outputs": [],
   "source": [
    "Final.to_csv('HRC60777WK _Arun Chaudhary_Prediction.csv')"
   ]
  },
  {
   "cell_type": "markdown",
   "id": "FK0fabl61SkC",
   "metadata": {
    "id": "FK0fabl61SkC"
   },
   "source": [
    "# END OF THE PROJECT"
   ]
  },
  {
   "cell_type": "markdown",
   "id": "c5d1f9f2",
   "metadata": {},
   "source": [
    "# HRC60777WK _Arun Chaudhary_Prediction"
   ]
  }
 ],
 "metadata": {
  "colab": {
   "collapsed_sections": [
    "62633a84"
   ],
   "name": "Payment date prediction.ipynb",
   "provenance": []
  },
  "kernelspec": {
   "display_name": "Python 3",
   "language": "python",
   "name": "python3"
  },
  "language_info": {
   "codemirror_mode": {
    "name": "ipython",
    "version": 3
   },
   "file_extension": ".py",
   "mimetype": "text/x-python",
   "name": "python",
   "nbconvert_exporter": "python",
   "pygments_lexer": "ipython3",
   "version": "3.8.8"
  }
 },
 "nbformat": 4,
 "nbformat_minor": 5
}
